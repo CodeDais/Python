{
 "cells": [
  {
   "cell_type": "markdown",
   "metadata": {},
   "source": [
    "#### Inner Class"
   ]
  },
  {
   "cell_type": "code",
   "execution_count": 22,
   "metadata": {},
   "outputs": [
    {
     "name": "stdout",
     "output_type": "stream",
     "text": [
      "Outer class constructor\n",
      "Inner class constructor\n",
      "Inner class constructor\n",
      "Outer class constructor\n",
      "Inner class constructor\n"
     ]
    }
   ],
   "source": [
    "class Outer:\n",
    "    def __init__(self):\n",
    "        print('Outer class constructor')\n",
    "    class Inner:\n",
    "        def __init__(self):\n",
    "            print('Inner class constructor')\n",
    "            \n",
    "#outer class objcet creation \n",
    "o=Outer()\n",
    "#i=Inner() #name 'Inner' is not defined\n",
    "\n",
    "#inner class object creation \n",
    "i=o.Inner() \n",
    "i1=Outer.Inner()\n",
    "i2=Outer().Inner()"
   ]
  },
  {
   "cell_type": "code",
   "execution_count": 23,
   "metadata": {},
   "outputs": [
    {
     "name": "stdout",
     "output_type": "stream",
     "text": [
      "Inner class constructor\n",
      "Outer class constructor\n"
     ]
    }
   ],
   "source": [
    "#inner class objcet creation inside outer class \n",
    "class Outer:\n",
    "    def __init__(self):\n",
    "        print('Outer class constructor')\n",
    "    class Inner:\n",
    "        def __init__(self):\n",
    "            print('Inner class constructor')\n",
    "    i=Inner()\n",
    "    \n",
    "o=Outer()"
   ]
  },
  {
   "cell_type": "code",
   "execution_count": 29,
   "metadata": {},
   "outputs": [
    {
     "name": "stdout",
     "output_type": "stream",
     "text": [
      "Outer class constructor\n",
      "Inner class constructor\n",
      "inner class 1 constructor\n"
     ]
    }
   ],
   "source": [
    "#one outer class can contain multiple inner class \n",
    "class Outer:\n",
    "    def __init__(self):\n",
    "        print('Outer class constructor')\n",
    "    class Inner:\n",
    "        def __init__(self):\n",
    "            print('Inner class constructor')\n",
    "    class Inner1:\n",
    "        def __init__(self):\n",
    "            print('inner class 1 constructor')\n",
    "    \n",
    "o=Outer()\n",
    "i=o.Inner()\n",
    "i1=o.Inner1()"
   ]
  },
  {
   "cell_type": "code",
   "execution_count": 33,
   "metadata": {},
   "outputs": [
    {
     "name": "stdout",
     "output_type": "stream",
     "text": [
      "Outer class constructor\n",
      "Inner class constructor\n",
      "InnerInner class constructor\n"
     ]
    }
   ],
   "source": [
    "#inner inner class \n",
    "class Outer:\n",
    "    def __init__(self):\n",
    "        print('Outer class constructor')\n",
    "    class Inner:\n",
    "        def __init__(self):\n",
    "            print('Inner class constructor')\n",
    "        class InnerInner:\n",
    "            def __init__(self):\n",
    "                print('InnerInner class constructor')\n",
    "\n",
    "o=Outer()\n",
    "i=o.Inner()\n",
    "ii=i.InnerInner()"
   ]
  },
  {
   "cell_type": "code",
   "execution_count": 34,
   "metadata": {},
   "outputs": [
    {
     "name": "stdout",
     "output_type": "stream",
     "text": [
      "InnerInner class constructor\n"
     ]
    }
   ],
   "source": [
    "obj=Outer.Inner.InnerInner()"
   ]
  },
  {
   "cell_type": "code",
   "execution_count": null,
   "metadata": {},
   "outputs": [],
   "source": []
  },
  {
   "cell_type": "code",
   "execution_count": null,
   "metadata": {},
   "outputs": [],
   "source": []
  },
  {
   "cell_type": "code",
   "execution_count": null,
   "metadata": {},
   "outputs": [],
   "source": []
  },
  {
   "cell_type": "code",
   "execution_count": null,
   "metadata": {},
   "outputs": [],
   "source": []
  },
  {
   "cell_type": "code",
   "execution_count": null,
   "metadata": {},
   "outputs": [],
   "source": []
  },
  {
   "cell_type": "code",
   "execution_count": null,
   "metadata": {},
   "outputs": [],
   "source": []
  },
  {
   "cell_type": "code",
   "execution_count": null,
   "metadata": {},
   "outputs": [],
   "source": []
  }
 ],
 "metadata": {
  "kernelspec": {
   "display_name": "Python 3",
   "language": "python",
   "name": "python3"
  },
  "language_info": {
   "codemirror_mode": {
    "name": "ipython",
    "version": 3
   },
   "file_extension": ".py",
   "mimetype": "text/x-python",
   "name": "python",
   "nbconvert_exporter": "python",
   "pygments_lexer": "ipython3",
   "version": "3.8.5"
  }
 },
 "nbformat": 4,
 "nbformat_minor": 4
}
