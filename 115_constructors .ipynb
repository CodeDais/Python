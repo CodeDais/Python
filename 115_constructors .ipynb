{
 "cells": [
  {
   "cell_type": "markdown",
   "metadata": {},
   "source": [
    "### Constructor "
   ]
  },
  {
   "cell_type": "code",
   "execution_count": 6,
   "metadata": {},
   "outputs": [
    {
     "name": "stdout",
     "output_type": "stream",
     "text": [
      "name is Priyanka\n",
      "age is 24\n",
      "roll is 1024\n"
     ]
    }
   ],
   "source": [
    "class Student:\n",
    "    def __init__(self,name,age,roll):\n",
    "        self.name=name\n",
    "        self.age=age\n",
    "        self.roll=roll\n",
    "        \n",
    "    def printDeatails(self):\n",
    "        print(f'name is {self.name}')\n",
    "        print(f'age is {self.age}')\n",
    "        print(f'roll is {self.roll}')\n",
    "        \n",
    "\n",
    "s1=Student('Priyanka',24,1024) \n",
    "s1.printDeatails()"
   ]
  },
  {
   "cell_type": "code",
   "execution_count": 7,
   "metadata": {},
   "outputs": [
    {
     "ename": "TypeError",
     "evalue": "__init__() missing 1 required positional argument: 'roll'",
     "output_type": "error",
     "traceback": [
      "\u001b[1;31m---------------------------------------------------------------------------\u001b[0m",
      "\u001b[1;31mTypeError\u001b[0m                                 Traceback (most recent call last)",
      "\u001b[1;32m<ipython-input-7-b560ece1a4fb>\u001b[0m in \u001b[0;36m<module>\u001b[1;34m\u001b[0m\n\u001b[0;32m     11\u001b[0m \u001b[1;33m\u001b[0m\u001b[0m\n\u001b[0;32m     12\u001b[0m \u001b[1;33m\u001b[0m\u001b[0m\n\u001b[1;32m---> 13\u001b[1;33m \u001b[0ms1\u001b[0m\u001b[1;33m=\u001b[0m\u001b[0mStudent\u001b[0m\u001b[1;33m(\u001b[0m\u001b[1;34m'Priyanka'\u001b[0m\u001b[1;33m,\u001b[0m\u001b[1;36m24\u001b[0m\u001b[1;33m)\u001b[0m\u001b[1;33m\u001b[0m\u001b[1;33m\u001b[0m\u001b[0m\n\u001b[0m\u001b[0;32m     14\u001b[0m \u001b[0ms1\u001b[0m\u001b[1;33m.\u001b[0m\u001b[0mprintDeatails\u001b[0m\u001b[1;33m(\u001b[0m\u001b[1;33m)\u001b[0m\u001b[1;33m\u001b[0m\u001b[1;33m\u001b[0m\u001b[0m\n",
      "\u001b[1;31mTypeError\u001b[0m: __init__() missing 1 required positional argument: 'roll'"
     ]
    }
   ],
   "source": [
    "class Student:\n",
    "    def __init__(self,name,age,roll):\n",
    "        self.name=name\n",
    "        self.age=age\n",
    "        self.roll=roll\n",
    "        \n",
    "    def printDeatails(self):\n",
    "        print(f'name is {self.name}')\n",
    "        print(f'age is {self.age}')\n",
    "        print(f'roll is {self.roll}')\n",
    "        \n",
    "\n",
    "s1=Student('Priyanka',24) \n",
    "s1.printDeatails()"
   ]
  },
  {
   "cell_type": "code",
   "execution_count": 10,
   "metadata": {},
   "outputs": [
    {
     "name": "stdout",
     "output_type": "stream",
     "text": [
      "name is Priyanka\n",
      "age is 24\n",
      "roll is 1024\n",
      "name is Priyanka\n",
      "age is 24\n",
      "roll is 1024\n",
      "name is Priyanka\n",
      "age is 24\n",
      "roll is 1024\n"
     ]
    }
   ],
   "source": [
    "#constructor will only once per objcet \n",
    "class Student:\n",
    "    def __init__(self,name,age,roll):\n",
    "        self.name=name\n",
    "        self.age=age\n",
    "        self.roll=roll\n",
    "        \n",
    "    def printDeatails(self):\n",
    "        print(f'name is {self.name}')\n",
    "        print(f'age is {self.age}')\n",
    "        print(f'roll is {self.roll}')\n",
    "        \n",
    "\n",
    "s1=Student('Priyanka',24,1024) \n",
    "s1.printDeatails()\n",
    "s1.printDeatails()\n",
    "s1.printDeatails()"
   ]
  },
  {
   "cell_type": "code",
   "execution_count": 13,
   "metadata": {},
   "outputs": [
    {
     "name": "stdout",
     "output_type": "stream",
     "text": [
      "--------------------\n",
      "name is Priyanka\n",
      "age is 24\n",
      "roll is 1024\n",
      "--------------------\n",
      "name is Rahul\n",
      "age is 25\n",
      "roll is 1025\n",
      "--------------------\n",
      "name is Zini\n",
      "age is 24\n",
      "roll is 1026\n"
     ]
    }
   ],
   "source": [
    "#constructor will only once per objcet \n",
    "class Student:\n",
    "    def __init__(self,name,age,roll):\n",
    "        self.name=name\n",
    "        self.age=age\n",
    "        self.roll=roll\n",
    "        \n",
    "    def printDeatails(self):\n",
    "        print('-'*20)\n",
    "        print(f'name is {self.name}')\n",
    "        print(f'age is {self.age}')\n",
    "        print(f'roll is {self.roll}')\n",
    "        \n",
    "\n",
    "s1=Student('Priyanka',24,1024) \n",
    "s1.printDeatails()\n",
    "\n",
    "s2=Student('Rahul',25,1025)\n",
    "s2.printDeatails()\n",
    "\n",
    "s3=Student('Zini',24,1026)\n",
    "s3.printDeatails()"
   ]
  },
  {
   "cell_type": "code",
   "execution_count": 16,
   "metadata": {},
   "outputs": [
    {
     "name": "stdout",
     "output_type": "stream",
     "text": [
      "Company name is XYZ pvt. ltd.\n"
     ]
    }
   ],
   "source": [
    "#define a class without constructor \n",
    "class Employee:\n",
    "    def companyName(self):\n",
    "        print(\"Company name is XYZ pvt. ltd.\")\n",
    "        \n",
    "e1=Employee()\n",
    "e1.companyName()"
   ]
  },
  {
   "cell_type": "code",
   "execution_count": 19,
   "metadata": {},
   "outputs": [
    {
     "name": "stdout",
     "output_type": "stream",
     "text": [
      "i m constructor\n",
      "i m constructor\n",
      "i m constructor\n",
      "i m constructor\n"
     ]
    }
   ],
   "source": [
    "#If we will call the constructor manually then python will treat it as a normal method call.\n",
    "\n",
    "class Demo:\n",
    "    def __init__(self):\n",
    "        print('i m constructor')\n",
    "\n",
    "d1=Demo() # constructor will execute automatically \n",
    "d1.__init__() # python will treat __init__(self) as a normal python method \n",
    "d1.__init__()\n",
    "d1.__init__()"
   ]
  },
  {
   "cell_type": "code",
   "execution_count": 21,
   "metadata": {},
   "outputs": [
    {
     "ename": "TypeError",
     "evalue": "__init__() missing 1 required positional argument: 'age'",
     "output_type": "error",
     "traceback": [
      "\u001b[1;31m---------------------------------------------------------------------------\u001b[0m",
      "\u001b[1;31mTypeError\u001b[0m                                 Traceback (most recent call last)",
      "\u001b[1;32m<ipython-input-21-3417943637cf>\u001b[0m in \u001b[0;36m<module>\u001b[1;34m\u001b[0m\n\u001b[0;32m      8\u001b[0m         \u001b[0mself\u001b[0m\u001b[1;33m.\u001b[0m\u001b[0mage\u001b[0m\u001b[1;33m=\u001b[0m\u001b[0mage\u001b[0m\u001b[1;33m\u001b[0m\u001b[1;33m\u001b[0m\u001b[0m\n\u001b[0;32m      9\u001b[0m \u001b[1;33m\u001b[0m\u001b[0m\n\u001b[1;32m---> 10\u001b[1;33m \u001b[0ms1\u001b[0m\u001b[1;33m=\u001b[0m\u001b[0mStudent\u001b[0m\u001b[1;33m(\u001b[0m\u001b[1;34m'priyanka'\u001b[0m\u001b[1;33m)\u001b[0m\u001b[1;33m\u001b[0m\u001b[1;33m\u001b[0m\u001b[0m\n\u001b[0m",
      "\u001b[1;31mTypeError\u001b[0m: __init__() missing 1 required positional argument: 'age'"
     ]
    }
   ],
   "source": [
    "#we cant create multiple constructor inside a single class\n",
    "class Student:\n",
    "    def __init__(self,name):\n",
    "        self.name=name\n",
    "\n",
    "    def __init__(self,name,age):\n",
    "        self.name=name\n",
    "        self.age=age\n",
    "        \n",
    "s1=Student('priyanka')\n"
   ]
  },
  {
   "cell_type": "code",
   "execution_count": 24,
   "metadata": {},
   "outputs": [
    {
     "name": "stdout",
     "output_type": "stream",
     "text": [
      "priyanka\n",
      "24\n"
     ]
    }
   ],
   "source": [
    "#we cant create multiple constructor inside a single class\n",
    "class Student:\n",
    "    def __init__(self,name):\n",
    "        self.name=name\n",
    "\n",
    "    def __init__(self,name,age):\n",
    "        self.name=name\n",
    "        self.age=age\n",
    "        \n",
    "    def printDetails(self):\n",
    "        print(self.name)\n",
    "        print(self.age)\n",
    "\n",
    "s1=Student('priyanka',24)\n",
    "s1.printDetails()"
   ]
  },
  {
   "cell_type": "code",
   "execution_count": 26,
   "metadata": {},
   "outputs": [
    {
     "name": "stdout",
     "output_type": "stream",
     "text": [
      "i m constructor\n"
     ]
    }
   ],
   "source": [
    "#Non-parameterize \n",
    "class Employee:\n",
    "    def __init__(self):\n",
    "        print('i m constructor')\n",
    "        \n",
    "e1=Employee()"
   ]
  },
  {
   "cell_type": "code",
   "execution_count": 28,
   "metadata": {},
   "outputs": [],
   "source": [
    "#parameterize \n",
    "class Employee:\n",
    "    def __init__(self,name,age):\n",
    "        self.name=name\n",
    "        self.age=age\n",
    "        \n",
    "e1=Employee('Priyanka',24)"
   ]
  },
  {
   "cell_type": "code",
   "execution_count": 29,
   "metadata": {},
   "outputs": [
    {
     "name": "stdout",
     "output_type": "stream",
     "text": [
      "Company name is XYZ Pvt. Ltd.\n"
     ]
    }
   ],
   "source": [
    "#default constructor\n",
    "class Employee:\n",
    "    def companyname(self):\n",
    "        print(\"Company name is XYZ Pvt. Ltd.\")\n",
    "        \n",
    "e1=Employee()\n",
    "e1.companyname()"
   ]
  }
 ],
 "metadata": {
  "kernelspec": {
   "display_name": "Python 3",
   "language": "python",
   "name": "python3"
  },
  "language_info": {
   "codemirror_mode": {
    "name": "ipython",
    "version": 3
   },
   "file_extension": ".py",
   "mimetype": "text/x-python",
   "name": "python",
   "nbconvert_exporter": "python",
   "pygments_lexer": "ipython3",
   "version": "3.8.5"
  }
 },
 "nbformat": 4,
 "nbformat_minor": 4
}
