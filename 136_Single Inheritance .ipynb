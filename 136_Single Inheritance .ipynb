{
 "cells": [
  {
   "cell_type": "markdown",
   "metadata": {},
   "source": [
    "### Single Inheritance "
   ]
  },
  {
   "cell_type": "code",
   "execution_count": 9,
   "metadata": {},
   "outputs": [
    {
     "name": "stdout",
     "output_type": "stream",
     "text": [
      "10\n",
      "20\n",
      "30\n",
      "40\n"
     ]
    }
   ],
   "source": [
    "#ex 1 \n",
    "class A:\n",
    "    def method1(self):\n",
    "        self.i=10\n",
    "        self.j=20\n",
    "        print(self.i)\n",
    "        print(self.j)\n",
    "    def method2(self):\n",
    "        self.k=30\n",
    "        self.l=40\n",
    "        print(self.k)\n",
    "        print(self.l)\n",
    "    \n",
    "class B(A):\n",
    "    pass\n",
    "\n",
    "b=B()\n",
    "b.method1()\n",
    "b.method2()"
   ]
  },
  {
   "cell_type": "code",
   "execution_count": 10,
   "metadata": {},
   "outputs": [
    {
     "name": "stdout",
     "output_type": "stream",
     "text": [
      "10\n",
      "20\n",
      "30\n",
      "40\n",
      "111\n",
      "222\n"
     ]
    }
   ],
   "source": [
    "#ex 2 (child class can access own members as well as parent class members)\n",
    "class A:\n",
    "    def method1(self):\n",
    "        self.i=10\n",
    "        self.j=20\n",
    "        print(self.i)\n",
    "        print(self.j)\n",
    "    def method2(self):\n",
    "        self.k=30\n",
    "        self.l=40\n",
    "        print(self.k)\n",
    "        print(self.l)\n",
    "    \n",
    "class B(A):\n",
    "    def method3(self):\n",
    "        self.x=111\n",
    "        self.y=222\n",
    "        print(self.x)\n",
    "        print(self.y)\n",
    "\n",
    "b=B()\n",
    "b.method1()\n",
    "b.method2()\n",
    "b.method3()"
   ]
  },
  {
   "cell_type": "code",
   "execution_count": 13,
   "metadata": {},
   "outputs": [
    {
     "name": "stdout",
     "output_type": "stream",
     "text": [
      "10\n",
      "20\n",
      "30\n",
      "40\n"
     ]
    },
    {
     "ename": "AttributeError",
     "evalue": "'A' object has no attribute 'method3'",
     "output_type": "error",
     "traceback": [
      "\u001b[1;31m---------------------------------------------------------------------------\u001b[0m",
      "\u001b[1;31mAttributeError\u001b[0m                            Traceback (most recent call last)",
      "\u001b[1;32m<ipython-input-13-189e559d6387>\u001b[0m in \u001b[0;36m<module>\u001b[1;34m\u001b[0m\n\u001b[0;32m     22\u001b[0m \u001b[0ma\u001b[0m\u001b[1;33m.\u001b[0m\u001b[0mmethod1\u001b[0m\u001b[1;33m(\u001b[0m\u001b[1;33m)\u001b[0m\u001b[1;33m\u001b[0m\u001b[1;33m\u001b[0m\u001b[0m\n\u001b[0;32m     23\u001b[0m \u001b[0ma\u001b[0m\u001b[1;33m.\u001b[0m\u001b[0mmethod2\u001b[0m\u001b[1;33m(\u001b[0m\u001b[1;33m)\u001b[0m\u001b[1;33m\u001b[0m\u001b[1;33m\u001b[0m\u001b[0m\n\u001b[1;32m---> 24\u001b[1;33m \u001b[0ma\u001b[0m\u001b[1;33m.\u001b[0m\u001b[0mmethod3\u001b[0m\u001b[1;33m(\u001b[0m\u001b[1;33m)\u001b[0m\u001b[1;33m\u001b[0m\u001b[1;33m\u001b[0m\u001b[0m\n\u001b[0m",
      "\u001b[1;31mAttributeError\u001b[0m: 'A' object has no attribute 'method3'"
     ]
    }
   ],
   "source": [
    "#ex 3 ( parent class can access only own members not child class members)\n",
    "class A:\n",
    "    def method1(self):\n",
    "        self.i=10\n",
    "        self.j=20\n",
    "        print(self.i)\n",
    "        print(self.j)\n",
    "    def method2(self):\n",
    "        self.k=30\n",
    "        self.l=40\n",
    "        print(self.k)\n",
    "        print(self.l)\n",
    "    \n",
    "class B(A):\n",
    "    def method3(self):\n",
    "        self.x=111\n",
    "        self.y=222\n",
    "        print(self.x)\n",
    "        print(self.y)\n",
    "\n",
    "a=A()\n",
    "a.method1()\n",
    "a.method2()\n",
    "a.method3() #'A' object has no attribute 'method3'\n"
   ]
  },
  {
   "cell_type": "code",
   "execution_count": 18,
   "metadata": {},
   "outputs": [
    {
     "name": "stdout",
     "output_type": "stream",
     "text": [
      "parent class instance method\n",
      "parent class class method\n",
      "parent class static method\n"
     ]
    }
   ],
   "source": [
    "# ex 4 \n",
    "class A:\n",
    "    def im(self):\n",
    "        print('parent class instance method')\n",
    "    \n",
    "    @classmethod\n",
    "    def cm(cls):\n",
    "        print('parent class class method')\n",
    "        \n",
    "    @staticmethod\n",
    "    def sm():\n",
    "        print('parent class static method')\n",
    "        \n",
    "class B(A):\n",
    "    pass\n",
    "\n",
    "b=B()\n",
    "b.im()\n",
    "b.cm()\n",
    "b.sm()"
   ]
  },
  {
   "cell_type": "code",
   "execution_count": 28,
   "metadata": {},
   "outputs": [
    {
     "name": "stdout",
     "output_type": "stream",
     "text": [
      "parent class instance method\n",
      "parent class class method\n",
      "parent class static method\n",
      "10\n",
      "20\n",
      "999\n"
     ]
    },
    {
     "ename": "NameError",
     "evalue": "name 'l' is not defined",
     "output_type": "error",
     "traceback": [
      "\u001b[1;31m---------------------------------------------------------------------------\u001b[0m",
      "\u001b[1;31mNameError\u001b[0m                                 Traceback (most recent call last)",
      "\u001b[1;32m<ipython-input-28-1db073d5ae0f>\u001b[0m in \u001b[0;36m<module>\u001b[1;34m\u001b[0m\n\u001b[0;32m     27\u001b[0m \u001b[0mprint\u001b[0m\u001b[1;33m(\u001b[0m\u001b[0mb\u001b[0m\u001b[1;33m.\u001b[0m\u001b[0mc\u001b[0m\u001b[1;33m)\u001b[0m\u001b[1;33m\u001b[0m\u001b[1;33m\u001b[0m\u001b[0m\n\u001b[0;32m     28\u001b[0m \u001b[0mprint\u001b[0m\u001b[1;33m(\u001b[0m\u001b[0mb\u001b[0m\u001b[1;33m.\u001b[0m\u001b[0mv\u001b[0m\u001b[1;33m)\u001b[0m\u001b[1;33m\u001b[0m\u001b[1;33m\u001b[0m\u001b[0m\n\u001b[1;32m---> 29\u001b[1;33m \u001b[0mprint\u001b[0m\u001b[1;33m(\u001b[0m\u001b[0ml\u001b[0m\u001b[1;33m)\u001b[0m\u001b[1;33m\u001b[0m\u001b[1;33m\u001b[0m\u001b[0m\n\u001b[0m",
      "\u001b[1;31mNameError\u001b[0m: name 'l' is not defined"
     ]
    }
   ],
   "source": [
    "# ex 5 \n",
    "class A:\n",
    "    v=999 #static varaible\n",
    "    def im(self):\n",
    "        self.i=10 #instnace variable\n",
    "        print('parent class instance method')\n",
    "    \n",
    "    @classmethod\n",
    "    def cm(cls):\n",
    "        cls.c=20 #static variable\n",
    "        print('parent class class method')\n",
    "        \n",
    "    @staticmethod\n",
    "    def sm():\n",
    "        l=30  # local variable \n",
    "        print('parent class static method')\n",
    "        \n",
    "        \n",
    "class B(A):\n",
    "    pass\n",
    "\n",
    "b=B()\n",
    "b.im()\n",
    "b.cm()\n",
    "b.sm()\n",
    "print(b.i)\n",
    "print(b.c)\n",
    "print(b.v)\n",
    "print(l)"
   ]
  },
  {
   "cell_type": "code",
   "execution_count": 31,
   "metadata": {},
   "outputs": [
    {
     "name": "stdout",
     "output_type": "stream",
     "text": [
      "10\n",
      "10\n"
     ]
    }
   ],
   "source": [
    "#ex 6 \n",
    "class A:\n",
    "    def im(self):\n",
    "        self.i=10\n",
    "        \n",
    "class B(A):\n",
    "    pass\n",
    "\n",
    "a=A()\n",
    "a.im()\n",
    "print(a.i)\n",
    "\n",
    "b=B()\n",
    "b.im()\n",
    "print(b.i)"
   ]
  },
  {
   "cell_type": "code",
   "execution_count": 35,
   "metadata": {},
   "outputs": [
    {
     "name": "stdout",
     "output_type": "stream",
     "text": [
      "140734094256192\n",
      "140734094256192\n"
     ]
    }
   ],
   "source": [
    "print(id(a.i))\n",
    "print(id(b.i))"
   ]
  },
  {
   "cell_type": "code",
   "execution_count": 36,
   "metadata": {},
   "outputs": [
    {
     "name": "stdout",
     "output_type": "stream",
     "text": [
      "True\n"
     ]
    }
   ],
   "source": [
    "print(a.i is b.i)"
   ]
  },
  {
   "cell_type": "code",
   "execution_count": 46,
   "metadata": {},
   "outputs": [
    {
     "name": "stdout",
     "output_type": "stream",
     "text": [
      "10\n",
      "999\n"
     ]
    }
   ],
   "source": [
    "#ex 7 ( if we will do any modification in child class it will not reflect to parent class)\n",
    "\n",
    "class A:\n",
    "    def im1(self):\n",
    "        self.i=10\n",
    "        \n",
    "class B(A):\n",
    "    def im2(self):\n",
    "        self.i=999 # inside clild class updated i value\n",
    "        \n",
    "a=A()\n",
    "a.im1()\n",
    "print(a.i)\n",
    "\n",
    "b=B()\n",
    "b.im1()\n",
    "b.im2()\n",
    "print(b.i)"
   ]
  },
  {
   "cell_type": "code",
   "execution_count": 47,
   "metadata": {},
   "outputs": [
    {
     "name": "stdout",
     "output_type": "stream",
     "text": [
      "{'i': 10}\n",
      "{'i': 999}\n"
     ]
    }
   ],
   "source": [
    "print(a.__dict__)\n",
    "print(b.__dict__)"
   ]
  }
 ],
 "metadata": {
  "kernelspec": {
   "display_name": "Python 3",
   "language": "python",
   "name": "python3"
  },
  "language_info": {
   "codemirror_mode": {
    "name": "ipython",
    "version": 3
   },
   "file_extension": ".py",
   "mimetype": "text/x-python",
   "name": "python",
   "nbconvert_exporter": "python",
   "pygments_lexer": "ipython3",
   "version": "3.8.5"
  }
 },
 "nbformat": 4,
 "nbformat_minor": 4
}
