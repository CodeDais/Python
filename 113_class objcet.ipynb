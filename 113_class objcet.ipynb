{
 "cells": [
  {
   "cell_type": "code",
   "execution_count": 4,
   "metadata": {},
   "outputs": [],
   "source": [
    "#create a class Student "
   ]
  },
  {
   "cell_type": "code",
   "execution_count": 6,
   "metadata": {},
   "outputs": [
    {
     "name": "stdout",
     "output_type": "stream",
     "text": [
      "name is Priyanka\n",
      "age is 24\n",
      "sid is 1024\n"
     ]
    }
   ],
   "source": [
    "class Student:\n",
    "    def __init__(self,name,age,sid):\n",
    "        self.name=name\n",
    "        self.age=age\n",
    "        self.sid=sid\n",
    "        \n",
    "    def printDetails(self):\n",
    "        print(f\"name is {self.name}\")\n",
    "        print(f\"age is {self.age}\")\n",
    "        print(f\"sid is {self.sid}\")\n",
    "        \n",
    "s1=Student(\"Priyanka\",24,1024)\n",
    "s1.printDetails()"
   ]
  },
  {
   "cell_type": "code",
   "execution_count": 8,
   "metadata": {},
   "outputs": [
    {
     "name": "stdout",
     "output_type": "stream",
     "text": [
      "name is Rahul\n",
      "age is 25\n",
      "sid is 2024\n"
     ]
    }
   ],
   "source": [
    "s2=Student(\"Rahul\",25,2024)\n",
    "s2.printDetails()"
   ]
  },
  {
   "cell_type": "code",
   "execution_count": 9,
   "metadata": {},
   "outputs": [
    {
     "name": "stdout",
     "output_type": "stream",
     "text": [
      "name is Zini\n",
      "age is 25\n",
      "sid is 3024\n"
     ]
    }
   ],
   "source": [
    "s2=Student(\"Zini\",25,3024)\n",
    "s2.printDetails()"
   ]
  },
  {
   "cell_type": "code",
   "execution_count": null,
   "metadata": {},
   "outputs": [],
   "source": []
  },
  {
   "cell_type": "code",
   "execution_count": null,
   "metadata": {},
   "outputs": [],
   "source": []
  },
  {
   "cell_type": "code",
   "execution_count": null,
   "metadata": {},
   "outputs": [],
   "source": []
  }
 ],
 "metadata": {
  "kernelspec": {
   "display_name": "Python 3",
   "language": "python",
   "name": "python3"
  },
  "language_info": {
   "codemirror_mode": {
    "name": "ipython",
    "version": 3
   },
   "file_extension": ".py",
   "mimetype": "text/x-python",
   "name": "python",
   "nbconvert_exporter": "python",
   "pygments_lexer": "ipython3",
   "version": "3.8.5"
  }
 },
 "nbformat": 4,
 "nbformat_minor": 4
}
