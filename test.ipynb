{
 "cells": [
  {
   "cell_type": "markdown",
   "metadata": {},
   "source": [
    "### static method "
   ]
  },
  {
   "cell_type": "code",
   "execution_count": 15,
   "metadata": {},
   "outputs": [
    {
     "name": "stdout",
     "output_type": "stream",
     "text": [
      "Addition is 30\n",
      "Addition is 300\n"
     ]
    }
   ],
   "source": [
    "# calling static method outside of the class \n",
    "class Calculation:\n",
    "    \n",
    "    @staticmethod\n",
    "    def add(a,b):\n",
    "        print(f'Addition is {a+b}')\n",
    "        \n",
    "    @staticmethod\n",
    "    def sub(a,b):\n",
    "        print(f'Substraction is {a-b}')\n",
    "\n",
    "Calculation.add(10,20) # calling static method using classname \n",
    "\n",
    "c1=Calculation()\n",
    "c1.add(100,200)   # calling static method using objcet referance "
   ]
  },
  {
   "cell_type": "code",
   "execution_count": 16,
   "metadata": {},
   "outputs": [
    {
     "name": "stdout",
     "output_type": "stream",
     "text": [
      "Addition is 46\n",
      "Substraction is 22\n"
     ]
    }
   ],
   "source": [
    "# calling static method inside the class \n",
    "class Calculation:\n",
    "    \n",
    "    @staticmethod\n",
    "    def add(a,b):\n",
    "        print(f'Addition is {a+b}')\n",
    "        Calculation.sub(44,22) # calling static method inside the class using classname \n",
    "        \n",
    "    @staticmethod\n",
    "    def sub(a,b):\n",
    "        print(f'Substraction is {a-b}')\n",
    "        \n",
    "        \n",
    "Calculation.add(23,23)\n"
   ]
  },
  {
   "cell_type": "code",
   "execution_count": null,
   "metadata": {},
   "outputs": [],
   "source": []
  }
 ],
 "metadata": {
  "kernelspec": {
   "display_name": "Python 3",
   "language": "python",
   "name": "python3"
  },
  "language_info": {
   "codemirror_mode": {
    "name": "ipython",
    "version": 3
   },
   "file_extension": ".py",
   "mimetype": "text/x-python",
   "name": "python",
   "nbconvert_exporter": "python",
   "pygments_lexer": "ipython3",
   "version": "3.8.5"
  }
 },
 "nbformat": 4,
 "nbformat_minor": 4
}
