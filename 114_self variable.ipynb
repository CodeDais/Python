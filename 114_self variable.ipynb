{
 "cells": [
  {
   "cell_type": "markdown",
   "metadata": {},
   "source": [
    "### self variable"
   ]
  },
  {
   "cell_type": "code",
   "execution_count": null,
   "metadata": {},
   "outputs": [],
   "source": [
    "#create a class Student having 3 attributes and 1 methods "
   ]
  },
  {
   "cell_type": "code",
   "execution_count": null,
   "metadata": {},
   "outputs": [],
   "source": [
    "class Student:\n",
    "    def __init__(self):\n",
    "        self.name=input(\"Enter Your Name : \")\n",
    "        self.age=int(input(\"Enter Your Age : \"))\n",
    "        self.course=input(\"Enter Your Course: \")\n",
    "        \n",
    "    def printDetails(self):\n",
    "        print('-'*30)\n",
    "        print(f'Name is {self.name}')\n",
    "        print(f'Age is {self.age}')\n",
    "        print(f'Course is {self.course}')\n",
    "        \n",
    "\n",
    "s1=Student()\n",
    "s1.printDetails()\n"
   ]
  },
  {
   "cell_type": "code",
   "execution_count": 2,
   "metadata": {},
   "outputs": [
    {
     "name": "stdout",
     "output_type": "stream",
     "text": [
      "Enter Your Name : Priynak\n",
      "Enter Your Age : 24\n",
      "Enter Your Course: Mtech\n",
      "Enter Your Name : Rahul\n",
      "Enter Your Age : 25\n",
      "Enter Your Course: MCA\n",
      "Enter Your Name : Zini\n",
      "Enter Your Age : 24\n",
      "Enter Your Course: Msc\n",
      "------------------------------\n",
      "Name is Rahul\n",
      "Age is 25\n",
      "Course is MCA\n",
      "------------------------------\n",
      "Name is Priynak\n",
      "Age is 24\n",
      "Course is Mtech\n",
      "------------------------------\n",
      "Name is Zini\n",
      "Age is 24\n",
      "Course is Msc\n"
     ]
    }
   ],
   "source": [
    "class Student:\n",
    "    def __init__(self):\n",
    "        self.name=input(\"Enter Your Name : \")\n",
    "        self.age=int(input(\"Enter Your Age : \"))\n",
    "        self.course=input(\"Enter Your Course: \")\n",
    "        \n",
    "    def printDetails(self):\n",
    "        print('-'*30)\n",
    "        print(f'Name is {self.name}')\n",
    "        print(f'Age is {self.age}')\n",
    "        print(f'Course is {self.course}')\n",
    "        \n",
    "\n",
    "s1=Student()\n",
    "\n",
    "s2=Student()\n",
    "\n",
    "s3=Student()\n",
    "\n",
    "s2.printDetails()\n",
    "s1.printDetails()\n",
    "s3.printDetails()"
   ]
  },
  {
   "cell_type": "code",
   "execution_count": 6,
   "metadata": {},
   "outputs": [
    {
     "name": "stdout",
     "output_type": "stream",
     "text": [
      "2277035990320\n",
      "2277035990320\n"
     ]
    }
   ],
   "source": [
    "# here self and s1 pointing to same memory location\n",
    "class Student:\n",
    "    def __init__(self):\n",
    "        print(id(self))\n",
    "        \n",
    "s1=Student()\n",
    "print(id(s1))\n"
   ]
  },
  {
   "cell_type": "code",
   "execution_count": 8,
   "metadata": {},
   "outputs": [
    {
     "name": "stdout",
     "output_type": "stream",
     "text": [
      "2277035988928\n",
      "2277035988928\n",
      "--------------------\n",
      "2277035989840\n",
      "2277035989840\n"
     ]
    }
   ],
   "source": [
    "class Student:\n",
    "    def __init__(self):\n",
    "        print(id(self))\n",
    "        \n",
    "s1=Student()\n",
    "print(id(s1))\n",
    "\n",
    "print(\"-\"*20)\n",
    "        \n",
    "s2=Student()\n",
    "print(id(s2))"
   ]
  },
  {
   "cell_type": "code",
   "execution_count": 9,
   "metadata": {},
   "outputs": [
    {
     "name": "stdout",
     "output_type": "stream",
     "text": [
      "Enter Your Name : Anjali\n",
      "Enter Your Age : 43\n",
      "Enter Your Course: MA\n",
      "------------------------------\n",
      "Name is Anjali\n",
      "Age is 43\n",
      "Course is MA\n"
     ]
    }
   ],
   "source": [
    "#self is not a keyword \n",
    "\n",
    "class Student:\n",
    "    def __init__(x):\n",
    "        x.name=input(\"Enter Your Name : \")\n",
    "        x.age=int(input(\"Enter Your Age : \"))\n",
    "        x.course=input(\"Enter Your Course: \")\n",
    "        \n",
    "    def printDetails(x):\n",
    "        print('-'*30)\n",
    "        print(f'Name is {x.name}')\n",
    "        print(f'Age is {x.age}')\n",
    "        print(f'Course is {x.course}')\n",
    "        \n",
    "\n",
    "s1=Student()\n",
    "s1.printDetails()"
   ]
  },
  {
   "cell_type": "code",
   "execution_count": 14,
   "metadata": {},
   "outputs": [
    {
     "ename": "TypeError",
     "evalue": "__init__() takes 3 positional arguments but 4 were given",
     "output_type": "error",
     "traceback": [
      "\u001b[1;31m---------------------------------------------------------------------------\u001b[0m",
      "\u001b[1;31mTypeError\u001b[0m                                 Traceback (most recent call last)",
      "\u001b[1;32m<ipython-input-14-30bf30ca6751>\u001b[0m in \u001b[0;36m<module>\u001b[1;34m\u001b[0m\n\u001b[0;32m     12\u001b[0m \u001b[1;33m\u001b[0m\u001b[0m\n\u001b[0;32m     13\u001b[0m \u001b[1;33m\u001b[0m\u001b[0m\n\u001b[1;32m---> 14\u001b[1;33m \u001b[0ms1\u001b[0m\u001b[1;33m=\u001b[0m\u001b[0mStudent\u001b[0m\u001b[1;33m(\u001b[0m\u001b[1;34m'Priynka'\u001b[0m\u001b[1;33m,\u001b[0m\u001b[1;36m24\u001b[0m\u001b[1;33m,\u001b[0m\u001b[1;34m\"Mtech\"\u001b[0m\u001b[1;33m)\u001b[0m\u001b[1;33m\u001b[0m\u001b[1;33m\u001b[0m\u001b[0m\n\u001b[0m\u001b[0;32m     15\u001b[0m \u001b[0ms1\u001b[0m\u001b[1;33m.\u001b[0m\u001b[0mprintDetails\u001b[0m\u001b[1;33m(\u001b[0m\u001b[1;33m)\u001b[0m\u001b[1;33m\u001b[0m\u001b[1;33m\u001b[0m\u001b[0m\n",
      "\u001b[1;31mTypeError\u001b[0m: __init__() takes 3 positional arguments but 4 were given"
     ]
    }
   ],
   "source": [
    "class Student:\n",
    "    def __init__(name,age,course):\n",
    "        x.name=name\n",
    "        x.age=age\n",
    "        x.course=course\n",
    "        \n",
    "    def printDetails(x):\n",
    "        print('-'*30)\n",
    "        print(f'Name is {x.name}')\n",
    "        print(f'Age is {x.age}')\n",
    "        print(f'Course is {x.course}')\n",
    "        \n",
    "\n",
    "s1=Student('Priynka',24,\"Mtech\")\n",
    "s1.printDetails()\n"
   ]
  },
  {
   "cell_type": "code",
   "execution_count": 16,
   "metadata": {},
   "outputs": [
    {
     "name": "stdout",
     "output_type": "stream",
     "text": [
      "------------------------------\n",
      "Age is 24\n",
      "Course is Mtech\n"
     ]
    }
   ],
   "source": [
    "#here name is acting as self\n",
    "class Student:\n",
    "    def __init__(name,age,course):\n",
    "        name.age=age\n",
    "        name.course=course\n",
    "        \n",
    "    def printDetails(name):\n",
    "        print('-'*30)\n",
    "        print(f'Age is {name.age}')\n",
    "        print(f'Course is {name.course}')\n",
    "        \n",
    "\n",
    "s1=Student(24,\"Mtech\")\n",
    "s1.printDetails()\n"
   ]
  },
  {
   "cell_type": "code",
   "execution_count": null,
   "metadata": {},
   "outputs": [],
   "source": []
  }
 ],
 "metadata": {
  "kernelspec": {
   "display_name": "Python 3",
   "language": "python",
   "name": "python3"
  },
  "language_info": {
   "codemirror_mode": {
    "name": "ipython",
    "version": 3
   },
   "file_extension": ".py",
   "mimetype": "text/x-python",
   "name": "python",
   "nbconvert_exporter": "python",
   "pygments_lexer": "ipython3",
   "version": "3.8.5"
  }
 },
 "nbformat": 4,
 "nbformat_minor": 4
}
