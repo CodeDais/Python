{
 "cells": [
  {
   "cell_type": "code",
   "execution_count": null,
   "metadata": {},
   "outputs": [],
   "source": [
    "#try with multiple except block"
   ]
  },
  {
   "cell_type": "code",
   "execution_count": 47,
   "metadata": {},
   "outputs": [
    {
     "ename": "ZeroDivisionError",
     "evalue": "division by zero",
     "output_type": "error",
     "traceback": [
      "\u001b[1;31m---------------------------------------------------------------------------\u001b[0m",
      "\u001b[1;31mZeroDivisionError\u001b[0m                         Traceback (most recent call last)",
      "\u001b[1;32m<ipython-input-47-fe01563e1bc6>\u001b[0m in \u001b[0;36m<module>\u001b[1;34m\u001b[0m\n\u001b[1;32m----> 1\u001b[1;33m \u001b[0mprint\u001b[0m\u001b[1;33m(\u001b[0m\u001b[1;36m10\u001b[0m\u001b[1;33m/\u001b[0m\u001b[1;36m0\u001b[0m\u001b[1;33m)\u001b[0m\u001b[1;33m\u001b[0m\u001b[1;33m\u001b[0m\u001b[0m\n\u001b[0m",
      "\u001b[1;31mZeroDivisionError\u001b[0m: division by zero"
     ]
    }
   ],
   "source": [
    "print(10/0)"
   ]
  },
  {
   "cell_type": "code",
   "execution_count": 48,
   "metadata": {},
   "outputs": [
    {
     "ename": "TypeError",
     "evalue": "unsupported operand type(s) for /: 'int' and 'str'",
     "output_type": "error",
     "traceback": [
      "\u001b[1;31m---------------------------------------------------------------------------\u001b[0m",
      "\u001b[1;31mTypeError\u001b[0m                                 Traceback (most recent call last)",
      "\u001b[1;32m<ipython-input-48-6348ca4b0987>\u001b[0m in \u001b[0;36m<module>\u001b[1;34m\u001b[0m\n\u001b[1;32m----> 1\u001b[1;33m \u001b[0mprint\u001b[0m\u001b[1;33m(\u001b[0m\u001b[1;36m10\u001b[0m\u001b[1;33m/\u001b[0m\u001b[1;34m'surendra'\u001b[0m\u001b[1;33m)\u001b[0m\u001b[1;33m\u001b[0m\u001b[1;33m\u001b[0m\u001b[0m\n\u001b[0m",
      "\u001b[1;31mTypeError\u001b[0m: unsupported operand type(s) for /: 'int' and 'str'"
     ]
    }
   ],
   "source": [
    "print(10/'surendra')"
   ]
  },
  {
   "cell_type": "code",
   "execution_count": 2,
   "metadata": {},
   "outputs": [
    {
     "name": "stdout",
     "output_type": "stream",
     "text": [
      "enter the value for a :10\n",
      "enter the value for b :surendra\n"
     ]
    },
    {
     "ename": "ValueError",
     "evalue": "invalid literal for int() with base 10: 'surendra'",
     "output_type": "error",
     "traceback": [
      "\u001b[1;31m---------------------------------------------------------------------------\u001b[0m",
      "\u001b[1;31mValueError\u001b[0m                                Traceback (most recent call last)",
      "\u001b[1;32m<ipython-input-2-072b6791b82f>\u001b[0m in \u001b[0;36m<module>\u001b[1;34m\u001b[0m\n\u001b[0;32m      1\u001b[0m \u001b[1;32mtry\u001b[0m\u001b[1;33m:\u001b[0m\u001b[1;33m\u001b[0m\u001b[1;33m\u001b[0m\u001b[0m\n\u001b[0;32m      2\u001b[0m     \u001b[0ma\u001b[0m\u001b[1;33m=\u001b[0m\u001b[0mint\u001b[0m\u001b[1;33m(\u001b[0m\u001b[0minput\u001b[0m\u001b[1;33m(\u001b[0m\u001b[1;34m'enter the value for a :'\u001b[0m\u001b[1;33m)\u001b[0m\u001b[1;33m)\u001b[0m\u001b[1;33m\u001b[0m\u001b[1;33m\u001b[0m\u001b[0m\n\u001b[1;32m----> 3\u001b[1;33m     \u001b[0mb\u001b[0m\u001b[1;33m=\u001b[0m\u001b[0mint\u001b[0m\u001b[1;33m(\u001b[0m\u001b[0minput\u001b[0m\u001b[1;33m(\u001b[0m\u001b[1;34m'enter the value for b :'\u001b[0m\u001b[1;33m)\u001b[0m\u001b[1;33m)\u001b[0m\u001b[1;33m\u001b[0m\u001b[1;33m\u001b[0m\u001b[0m\n\u001b[0m\u001b[0;32m      4\u001b[0m     \u001b[0mresult\u001b[0m\u001b[1;33m=\u001b[0m\u001b[0ma\u001b[0m\u001b[1;33m/\u001b[0m\u001b[0mb\u001b[0m\u001b[1;33m;\u001b[0m\u001b[1;33m\u001b[0m\u001b[1;33m\u001b[0m\u001b[0m\n\u001b[0;32m      5\u001b[0m     \u001b[0mprint\u001b[0m\u001b[1;33m(\u001b[0m\u001b[0mresult\u001b[0m\u001b[1;33m)\u001b[0m\u001b[1;33m\u001b[0m\u001b[1;33m\u001b[0m\u001b[0m\n",
      "\u001b[1;31mValueError\u001b[0m: invalid literal for int() with base 10: 'surendra'"
     ]
    }
   ],
   "source": [
    "try:\n",
    "    a=int(input('enter the value for a :'))\n",
    "    b=int(input('enter the value for b :'))\n",
    "    result=a/b;\n",
    "    print(result)\n",
    "except ZeroDivisionError as z:\n",
    "    print(z)"
   ]
  },
  {
   "cell_type": "code",
   "execution_count": 51,
   "metadata": {},
   "outputs": [
    {
     "name": "stdout",
     "output_type": "stream",
     "text": [
      "enter the value for a :10\n",
      "enter the value for b :0\n",
      "division by zero\n"
     ]
    }
   ],
   "source": [
    "try:\n",
    "    a=int(input('enter the value for a :'))\n",
    "    b=int(input('enter the value for b :'))\n",
    "    result=a/b;\n",
    "    print(result)\n",
    "except ZeroDivisionError as z:\n",
    "    print(z)"
   ]
  },
  {
   "cell_type": "code",
   "execution_count": 4,
   "metadata": {},
   "outputs": [
    {
     "name": "stdout",
     "output_type": "stream",
     "text": [
      "enter the value for a :10\n",
      "enter the value for b :surendra\n",
      "invalid literal for int() with base 10: 'surendra'\n"
     ]
    }
   ],
   "source": [
    "# try with multiple except block \n",
    "try:\n",
    "    a=int(input('enter the value for a :'))\n",
    "    b=int(input('enter the value for b :'))\n",
    "    result=a/b;\n",
    "    print(result)\n",
    "except ZeroDivisionError as z:\n",
    "    print(z)\n",
    "except ValueError as v:\n",
    "    print(v)"
   ]
  },
  {
   "cell_type": "code",
   "execution_count": 57,
   "metadata": {},
   "outputs": [
    {
     "name": "stdout",
     "output_type": "stream",
     "text": [
      "unsupported operand type(s) for /: 'int' and 'str'\n"
     ]
    }
   ],
   "source": [
    "# try with multiple except block \n",
    "try:\n",
    "    a=10\n",
    "    b='surendra'\n",
    "    result=a/b;\n",
    "    print(result)\n",
    "except ZeroDivisionError as z:\n",
    "    print(z)\n",
    "except TypeError as t:\n",
    "    print(t)"
   ]
  },
  {
   "cell_type": "code",
   "execution_count": 2,
   "metadata": {},
   "outputs": [
    {
     "name": "stdout",
     "output_type": "stream",
     "text": [
      "enter the value for a : 10\n",
      "enter the value for b : 2\n",
      "enter the value for x : 5\n",
      "c is  5.0\n",
      "d is  2.0\n"
     ]
    }
   ],
   "source": [
    "# try with multiple except block \n",
    "try:\n",
    "    a=int(input('enter the value for a : '))\n",
    "    b=int(input('enter the value for b : '))\n",
    "    c=a/b\n",
    "    x=int(input('enter the value for x : '))\n",
    "    d=a/x\n",
    "    print('c is ',c)\n",
    "    print('d is ',d)\n",
    "except ZeroDivisionError as z:\n",
    "    print(z)\n",
    "except TypeError as t:\n",
    "    print(t)"
   ]
  },
  {
   "cell_type": "code",
   "execution_count": 4,
   "metadata": {},
   "outputs": [
    {
     "name": "stdout",
     "output_type": "stream",
     "text": [
      "enter the value for a : 10\n",
      "enter the value for b : surendra\n",
      "invalid literal for int() with base 10: 'surendra'\n"
     ]
    }
   ],
   "source": [
    "# try with multiple except block \n",
    "try:\n",
    "    a=int(input('enter the value for a : '))\n",
    "    b=int(input('enter the value for b : '))\n",
    "    c=a/b\n",
    "    x=int(input('enter the value for x : '))\n",
    "    d=a/x\n",
    "    print('c is ',c)\n",
    "    print('d is ',d)\n",
    "except ZeroDivisionError as z:\n",
    "    print(z)\n",
    "except TypeError as t:\n",
    "    print(t)\n",
    "except ValueError as v:\n",
    "    print(v)"
   ]
  },
  {
   "cell_type": "code",
   "execution_count": 6,
   "metadata": {},
   "outputs": [
    {
     "name": "stdout",
     "output_type": "stream",
     "text": [
      "enter the value for a : djfhg\n",
      "invalid literal for int() with base 10: 'djfhg'\n"
     ]
    }
   ],
   "source": [
    "# try with multiple except block \n",
    "try:\n",
    "    a=int(input('enter the value for a : '))\n",
    "    b=int(input('enter the value for b : '))\n",
    "    c=a/b\n",
    "    x=int(input('enter the value for x : '))\n",
    "    d=a/x\n",
    "    print('c is ',c)\n",
    "    print('d is ',d)\n",
    "except Exception as e:\n",
    "    print(e)\n",
    "    "
   ]
  },
  {
   "cell_type": "code",
   "execution_count": 5,
   "metadata": {},
   "outputs": [],
   "source": [
    "# single except block can handel multiple exception "
   ]
  },
  {
   "cell_type": "code",
   "execution_count": 8,
   "metadata": {},
   "outputs": [
    {
     "name": "stdout",
     "output_type": "stream",
     "text": [
      "enter the value for a :10\n",
      "enter the value for b :wqhgdh\n",
      "invalid literal for int() with base 10: 'wqhgdh'\n"
     ]
    }
   ],
   "source": [
    "try:\n",
    "    a=int(input('enter the value for a :'))\n",
    "    b=int(input('enter the value for b :'))\n",
    "    result=a/b;\n",
    "    print(result)\n",
    "except ZeroDivisionError as z:\n",
    "    print(z)\n",
    "except ValueError as v:\n",
    "    print(v)"
   ]
  },
  {
   "cell_type": "code",
   "execution_count": null,
   "metadata": {},
   "outputs": [],
   "source": [
    "# single except block "
   ]
  },
  {
   "cell_type": "code",
   "execution_count": 10,
   "metadata": {},
   "outputs": [
    {
     "name": "stdout",
     "output_type": "stream",
     "text": [
      "enter the value for a :10\n",
      "enter the value for b :surendra\n",
      "invalid literal for int() with base 10: 'surendra'\n"
     ]
    }
   ],
   "source": [
    "try:\n",
    "    a=int(input('enter the value for a :'))\n",
    "    b=int(input('enter the value for b :'))\n",
    "    result=a/b;\n",
    "    print(result)\n",
    "except (ZeroDivisionError,ValueError) as e:\n",
    "    print(e)\n",
    "    "
   ]
  },
  {
   "cell_type": "code",
   "execution_count": 11,
   "metadata": {},
   "outputs": [
    {
     "name": "stdout",
     "output_type": "stream",
     "text": [
      "enter the value for a :10\n",
      "enter the value for b :0\n",
      "division by zero\n"
     ]
    }
   ],
   "source": [
    "try:\n",
    "    a=int(input('enter the value for a :'))\n",
    "    b=int(input('enter the value for b :'))\n",
    "    result=a/b;\n",
    "    print(result)\n",
    "except (ZeroDivisionError,ValueError) as e:\n",
    "    print(e)"
   ]
  },
  {
   "cell_type": "code",
   "execution_count": null,
   "metadata": {},
   "outputs": [],
   "source": [
    "# default except: block "
   ]
  },
  {
   "cell_type": "code",
   "execution_count": 2,
   "metadata": {},
   "outputs": [
    {
     "name": "stdout",
     "output_type": "stream",
     "text": [
      "enter the value for a :10\n",
      "enter the value for b :surendra\n",
      "something goes wrong !!!\n"
     ]
    }
   ],
   "source": [
    "\n",
    "try:\n",
    "    a=int(input('enter the value for a :'))\n",
    "    b=int(input('enter the value for b :'))\n",
    "    result=a/b;\n",
    "    print(result)\n",
    "except:\n",
    "    print('something goes wrong !!!')"
   ]
  },
  {
   "cell_type": "code",
   "execution_count": null,
   "metadata": {},
   "outputs": [],
   "source": [
    "#----------"
   ]
  },
  {
   "cell_type": "code",
   "execution_count": 3,
   "metadata": {},
   "outputs": [
    {
     "name": "stdout",
     "output_type": "stream",
     "text": [
      "enter the value for a :10\n",
      "enter the value for b :0\n",
      "division by zero\n"
     ]
    }
   ],
   "source": [
    "try:\n",
    "    a=int(input('enter the value for a :'))\n",
    "    b=int(input('enter the value for b :'))\n",
    "    result=a/b;\n",
    "    print(result)\n",
    "except Exception as e:\n",
    "    print(e)"
   ]
  }
 ],
 "metadata": {
  "kernelspec": {
   "display_name": "Python 3",
   "language": "python",
   "name": "python3"
  },
  "language_info": {
   "codemirror_mode": {
    "name": "ipython",
    "version": 3
   },
   "file_extension": ".py",
   "mimetype": "text/x-python",
   "name": "python",
   "nbconvert_exporter": "python",
   "pygments_lexer": "ipython3",
   "version": "3.8.5"
  }
 },
 "nbformat": 4,
 "nbformat_minor": 4
}
