{
 "cells": [
  {
   "cell_type": "code",
   "execution_count": 2,
   "metadata": {},
   "outputs": [],
   "source": [
    "#problem without super function"
   ]
  },
  {
   "cell_type": "code",
   "execution_count": 5,
   "metadata": {},
   "outputs": [
    {
     "name": "stdout",
     "output_type": "stream",
     "text": [
      "Name is priyanka\n",
      "Age is 24\n",
      "Eid is 1024\n",
      "sal is 25000\n",
      "Name is Zini\n",
      "Age is 24\n",
      "Sid is 102423\n",
      "Course is MTech\n",
      "college is xyz college\n",
      "Name is Dr. Chand\n",
      "Age is 58\n",
      "Sid is 102325\n",
      "Course is CSE\n",
      "college is abc college\n"
     ]
    }
   ],
   "source": [
    "class Employee:\n",
    "    def __init__(self,name,age,eid,sal):\n",
    "        self.name=name\n",
    "        self.age=age\n",
    "        self.eid=eid\n",
    "        self.sal=sal\n",
    "    def printDetails(self):\n",
    "        print(f'Name is {self.name}')\n",
    "        print(f'Age is {self.age}')\n",
    "        print(f'Eid is {self.eid}')\n",
    "        print(f'sal is {self.sal}')\n",
    "    \n",
    "class Student:\n",
    "    def __init__(self,name,age,sid,course,college):\n",
    "        self.name=name\n",
    "        self.age=age\n",
    "        self.sid=sid\n",
    "        self.course=course\n",
    "        self.college=college\n",
    "    def printDetails(self):\n",
    "        print(f'Name is {self.name}')\n",
    "        print(f'Age is {self.age}')\n",
    "        print(f'Sid is {self.sid}')\n",
    "        print(f'Course is {self.course}')\n",
    "        print(f'college is {self.college}')\n",
    "        \n",
    "    \n",
    "    \n",
    "class Faculty:\n",
    "    def __init__(self,name,age,fid,dept,college):\n",
    "        self.name=name\n",
    "        self.age=age\n",
    "        self.fid=fid\n",
    "        self.dept=dept\n",
    "        self.college=college\n",
    "    def printDetails(self):\n",
    "        print(f'Name is {self.name}')\n",
    "        print(f'Age is {self.age}')\n",
    "        print(f'Sid is {self.fid}')\n",
    "        print(f'Course is {self.dept}')\n",
    "        print(f'college is {self.college}')\n",
    "\n",
    "e=Employee('priyanka',24,1024,25000)  \n",
    "e.printDetails()\n",
    "    \n",
    "s=Student('Zini',24,102423,'MTech','xyz college')\n",
    "s.printDetails()\n",
    "\n",
    "f=Faculty('Dr. Chand',58,102325,'CSE','abc college')\n",
    "f.printDetails()"
   ]
  },
  {
   "cell_type": "code",
   "execution_count": null,
   "metadata": {},
   "outputs": [],
   "source": [
    "#solution by using super function"
   ]
  },
  {
   "cell_type": "code",
   "execution_count": 15,
   "metadata": {},
   "outputs": [
    {
     "name": "stdout",
     "output_type": "stream",
     "text": [
      "Name is Priaynka\n",
      "Age is 24\n",
      "Eid is 1024\n",
      "Sal is 25000\n",
      "Name is Zini\n",
      "Age is 24\n",
      "Sid is 102423\n",
      "Course is Mtech\n",
      "College is xyz college\n",
      "Name is Rahul\n",
      "Age is 25\n",
      "Sid is 102424\n",
      "Course is Msc\n",
      "College is abc college\n"
     ]
    }
   ],
   "source": [
    "class Human:\n",
    "    def __init__(self,name,age):\n",
    "        self.name=name\n",
    "        self.age=age\n",
    "        \n",
    "    def printDetails(self):\n",
    "        print(f'Name is {self.name}')\n",
    "        print(f'Age is {self.age}')\n",
    "\n",
    "    \n",
    "class Employee(Human):\n",
    "    def __init__(self,name,age,eid,sal):\n",
    "        super().__init__(name,age)\n",
    "        self.eid=eid\n",
    "        self.sal=sal\n",
    "        \n",
    "    def printDeatils(self):\n",
    "        super().printDetails()\n",
    "        print(f'Eid is {self.eid}')\n",
    "        print(f'Sal is {self.sal}')\n",
    "        \n",
    "class Student(Human):\n",
    "    def __init__(self,name,age,sid,course,college):\n",
    "        super().__init__(name,age)\n",
    "        self.sid=sid\n",
    "        self.course=course\n",
    "        self.college=college\n",
    "            \n",
    "    def printDetails(self):\n",
    "        super().printDetails()\n",
    "        print(f'Sid is {self.sid}')\n",
    "        print(f'Course is {self.course}')\n",
    "        print(f'College is {self.college}')\n",
    "        \n",
    "        \n",
    "e=Employee('Priaynka',24,1024,25000)\n",
    "e.printDeatils()\n",
    "\n",
    "s=Student('Zini',24,102423,'Mtech','xyz college')\n",
    "s.printDetails()\n",
    "\n",
    "\n",
    "s1=Student('Rahul',25,102424,'Msc','abc college')\n",
    "s1.printDetails()"
   ]
  },
  {
   "cell_type": "code",
   "execution_count": null,
   "metadata": {},
   "outputs": [],
   "source": []
  },
  {
   "cell_type": "code",
   "execution_count": null,
   "metadata": {},
   "outputs": [],
   "source": []
  },
  {
   "cell_type": "code",
   "execution_count": null,
   "metadata": {},
   "outputs": [],
   "source": []
  },
  {
   "cell_type": "code",
   "execution_count": null,
   "metadata": {},
   "outputs": [],
   "source": []
  },
  {
   "cell_type": "code",
   "execution_count": null,
   "metadata": {},
   "outputs": [],
   "source": []
  },
  {
   "cell_type": "code",
   "execution_count": null,
   "metadata": {},
   "outputs": [],
   "source": []
  },
  {
   "cell_type": "code",
   "execution_count": null,
   "metadata": {},
   "outputs": [],
   "source": []
  }
 ],
 "metadata": {
  "kernelspec": {
   "display_name": "Python 3",
   "language": "python",
   "name": "python3"
  },
  "language_info": {
   "codemirror_mode": {
    "name": "ipython",
    "version": 3
   },
   "file_extension": ".py",
   "mimetype": "text/x-python",
   "name": "python",
   "nbconvert_exporter": "python",
   "pygments_lexer": "ipython3",
   "version": "3.8.5"
  }
 },
 "nbformat": 4,
 "nbformat_minor": 4
}
