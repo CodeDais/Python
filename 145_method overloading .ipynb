{
 "cells": [
  {
   "cell_type": "code",
   "execution_count": null,
   "metadata": {},
   "outputs": [],
   "source": [
    "# Method overloading \n",
    "# 2 or more methods with same name but argumets are diffrent "
   ]
  },
  {
   "cell_type": "code",
   "execution_count": 16,
   "metadata": {},
   "outputs": [
    {
     "name": "stdout",
     "output_type": "stream",
     "text": [
      "10\n",
      "20\n",
      "30\n"
     ]
    }
   ],
   "source": [
    "class Test:\n",
    "    def mt1(self,a):\n",
    "        print(a)\n",
    "    def mt1(self,a,b):\n",
    "        print(a)\n",
    "        print(b)\n",
    "    def mt1(self,a,b,c):\n",
    "        print(a)\n",
    "        print(b)\n",
    "        print(c)\n",
    "        \n",
    "t=Test()\n",
    "# t.mt1(10)  #mt1() missing 2 required positional arguments: 'b' and 'c'\n",
    "#t.mt1(10,20) #mt1() missing 1 required positional argument: 'c'\n",
    "t.mt1(10,20,30) "
   ]
  },
  {
   "cell_type": "code",
   "execution_count": null,
   "metadata": {},
   "outputs": [],
   "source": [
    "# how to archive method overloading python "
   ]
  },
  {
   "cell_type": "code",
   "execution_count": 28,
   "metadata": {},
   "outputs": [
    {
     "name": "stdout",
     "output_type": "stream",
     "text": [
      "()\n",
      "(10,)\n",
      "(10, 20)\n",
      "(10, 20, 30)\n",
      "(999, 888, 777, 666, 555)\n"
     ]
    }
   ],
   "source": [
    "class Test:\n",
    "    def mt1(self,*a):\n",
    "        print(a)\n",
    "        \n",
    "t=Test()\n",
    "t.mt1()\n",
    "t.mt1(10)\n",
    "t.mt1(10,20)\n",
    "t.mt1(10,20,30)\n",
    "t.mt1(999,888,777,666,555)"
   ]
  },
  {
   "cell_type": "code",
   "execution_count": null,
   "metadata": {},
   "outputs": [],
   "source": [
    "#  another "
   ]
  },
  {
   "cell_type": "code",
   "execution_count": 24,
   "metadata": {},
   "outputs": [
    {
     "name": "stdout",
     "output_type": "stream",
     "text": [
      "10\n",
      "20\n",
      "10\n",
      "None\n",
      "None\n",
      "None\n"
     ]
    }
   ],
   "source": [
    "class Test:\n",
    "    def mt1(self,a=None,b=None):\n",
    "        print(a)\n",
    "        print(b)\n",
    "        \n",
    "t=Test()\n",
    "t.mt1(10,20)\n",
    "t.mt1(10)\n",
    "t.mt1()"
   ]
  },
  {
   "cell_type": "code",
   "execution_count": 27,
   "metadata": {},
   "outputs": [
    {
     "name": "stdout",
     "output_type": "stream",
     "text": [
      "U provied two value\n",
      "u didnot provided two value\n"
     ]
    }
   ],
   "source": [
    "class Test:\n",
    "    def mt1(self,a=None,b=None):\n",
    "        if a!=None and b!=None:\n",
    "            print('U provied two value')\n",
    "        else:\n",
    "            print('u didnot provided two value')\n",
    "        \n",
    "t=Test()\n",
    "t.mt1(10,20)\n",
    "t.mt1(10)"
   ]
  },
  {
   "cell_type": "code",
   "execution_count": null,
   "metadata": {},
   "outputs": [],
   "source": []
  }
 ],
 "metadata": {
  "kernelspec": {
   "display_name": "Python 3",
   "language": "python",
   "name": "python3"
  },
  "language_info": {
   "codemirror_mode": {
    "name": "ipython",
    "version": 3
   },
   "file_extension": ".py",
   "mimetype": "text/x-python",
   "name": "python",
   "nbconvert_exporter": "python",
   "pygments_lexer": "ipython3",
   "version": "3.8.5"
  }
 },
 "nbformat": 4,
 "nbformat_minor": 4
}
