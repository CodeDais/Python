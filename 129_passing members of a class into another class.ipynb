{
 "cells": [
  {
   "cell_type": "markdown",
   "metadata": {},
   "source": [
    "#### Passing members of one class to another class "
   ]
  },
  {
   "cell_type": "code",
   "execution_count": 15,
   "metadata": {},
   "outputs": [
    {
     "name": "stdout",
     "output_type": "stream",
     "text": [
      "Name is Priyanka\n",
      "Age is 24\n",
      "Roll is 1024\n",
      "address is cuttack\n",
      "Name is Priyanka\n",
      "Age is 24\n",
      "Roll is 1024\n",
      "address is Bbsr\n"
     ]
    }
   ],
   "source": [
    "class Student:\n",
    "    def __init__(self,name,age,roll,address):\n",
    "        self.name=name\n",
    "        self.age=age\n",
    "        self.roll=roll\n",
    "        self.address=address\n",
    "        \n",
    "    def printDetails(self):\n",
    "        print(f'Name is {self.name}')\n",
    "        print(f'Age is {self.age}')\n",
    "        print(f'Roll is {self.roll}')\n",
    "        print(f'address is {self.address}')\n",
    "        \n",
    "class Normal:\n",
    "    @staticmethod\n",
    "    def modify(r):\n",
    "        r.address='Bbsr'\n",
    "        \n",
    "s1=Student('Priyanka',24,1024,'cuttack')\n",
    "s1.printDetails()\n",
    "\n",
    "Normal.modify(s1)\n",
    "s1.printDetails()"
   ]
  },
  {
   "cell_type": "code",
   "execution_count": 18,
   "metadata": {},
   "outputs": [
    {
     "name": "stdout",
     "output_type": "stream",
     "text": [
      "x is 100\n",
      "y is 200\n",
      "x is 100\n",
      "y is 999\n"
     ]
    }
   ],
   "source": [
    "#ex2 \n",
    "\n",
    "class A:\n",
    "    def __init__(self,x,y):\n",
    "        self.x=x\n",
    "        self.y=y\n",
    "    \n",
    "    def printDetails(self):\n",
    "        print(f'x is {self.x}')\n",
    "        print(f'y is {self.y}')\n",
    "        \n",
    "class B:\n",
    "    @staticmethod\n",
    "    def modify(r):\n",
    "        r.y=999\n",
    "        \n",
    "a1=A(100,200)\n",
    "a1.printDetails()\n",
    "\n",
    "B.modify(a1)\n",
    "a1.printDetails()\n"
   ]
  },
  {
   "cell_type": "code",
   "execution_count": 19,
   "metadata": {},
   "outputs": [
    {
     "name": "stdout",
     "output_type": "stream",
     "text": [
      "cuttack\n"
     ]
    }
   ],
   "source": [
    "# passing single member of a class to another class \n",
    "class Student:\n",
    "    def __init__(self,name,age,roll,address):\n",
    "        self.name=name\n",
    "        self.age=age\n",
    "        self.roll=roll\n",
    "        self.address=address\n",
    "        \n",
    "    def printDetails(self):\n",
    "        print(f'Name is {self.name}')\n",
    "        print(f'Age is {self.age}')\n",
    "        print(f'Roll is {self.roll}')\n",
    "        print(f'address is {self.address}')\n",
    "        \n",
    "class Normal:\n",
    "    @staticmethod\n",
    "    def printInfo(r):\n",
    "        print(r)\n",
    "        \n",
    "s1=Student('Priyanka',24,1024,'cuttack')\n",
    "\n",
    "Normal.printInfo(s1.address)\n"
   ]
  },
  {
   "cell_type": "code",
   "execution_count": null,
   "metadata": {},
   "outputs": [],
   "source": []
  },
  {
   "cell_type": "code",
   "execution_count": null,
   "metadata": {},
   "outputs": [],
   "source": []
  }
 ],
 "metadata": {
  "kernelspec": {
   "display_name": "Python 3",
   "language": "python",
   "name": "python3"
  },
  "language_info": {
   "codemirror_mode": {
    "name": "ipython",
    "version": 3
   },
   "file_extension": ".py",
   "mimetype": "text/x-python",
   "name": "python",
   "nbconvert_exporter": "python",
   "pygments_lexer": "ipython3",
   "version": "3.8.5"
  }
 },
 "nbformat": 4,
 "nbformat_minor": 4
}
