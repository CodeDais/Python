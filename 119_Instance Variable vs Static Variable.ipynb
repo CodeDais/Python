{
 "cells": [
  {
   "cell_type": "code",
   "execution_count": 21,
   "metadata": {},
   "outputs": [],
   "source": [
    "#without static varaiable\n",
    "class Student:\n",
    "    \n",
    "    def __init__(self,name,age,roll,college):\n",
    "        self.name=name\n",
    "        self.age=age\n",
    "        self.roll=roll\n",
    "        self.college=college\n",
    "s1=Student('Priyanka',24,1024,'xyz collge')\n",
    "s2=Student('Rahul',25,1025,'xyz college')\n",
    "s3=Student('Zini',24,1026,'xyz college')"
   ]
  },
  {
   "cell_type": "code",
   "execution_count": 23,
   "metadata": {},
   "outputs": [
    {
     "name": "stdout",
     "output_type": "stream",
     "text": [
      "{'name': 'Priyanka', 'age': 24, 'roll': 1024, 'college': 'xyz collge'}\n",
      "{'name': 'Rahul', 'age': 25, 'roll': 1025, 'college': 'xyz college'}\n",
      "{'name': 'Zini', 'age': 24, 'roll': 1026, 'college': 'xyz college'}\n",
      "{'__module__': '__main__', '__init__': <function Student.__init__ at 0x000002A55FAC54C0>, '__dict__': <attribute '__dict__' of 'Student' objects>, '__weakref__': <attribute '__weakref__' of 'Student' objects>, '__doc__': None}\n"
     ]
    }
   ],
   "source": [
    "print(s1.__dict__)\n",
    "print(s2.__dict__)\n",
    "print(s3.__dict__)\n"
   ]
  },
  {
   "cell_type": "code",
   "execution_count": null,
   "metadata": {},
   "outputs": [],
   "source": []
  },
  {
   "cell_type": "code",
   "execution_count": 14,
   "metadata": {},
   "outputs": [],
   "source": [
    "#with static variable \n",
    "class Student:\n",
    "    college=\"xyz college\"  #static variable \n",
    "    def __init__(self,name,age,roll):\n",
    "        self.name=name\n",
    "        self.age=age\n",
    "        self.roll=roll\n",
    "        \n",
    "s1=Student('Priyanka',24,1024)\n",
    "s2=Student('Rahul',25,1025)\n",
    "s3=Student('Zini',24,1026)"
   ]
  },
  {
   "cell_type": "code",
   "execution_count": 16,
   "metadata": {},
   "outputs": [
    {
     "name": "stdout",
     "output_type": "stream",
     "text": [
      "{'name': 'Priyanka', 'age': 24, 'roll': 1024}\n",
      "{'name': 'Rahul', 'age': 25, 'roll': 1025}\n",
      "{'name': 'Zini', 'age': 24, 'roll': 1026}\n"
     ]
    }
   ],
   "source": [
    "print(s1.__dict__)\n",
    "print(s2.__dict__)\n",
    "print(s3.__dict__)"
   ]
  },
  {
   "cell_type": "code",
   "execution_count": 18,
   "metadata": {},
   "outputs": [
    {
     "name": "stdout",
     "output_type": "stream",
     "text": [
      "{'__module__': '__main__', 'college': 'xyz college', '__init__': <function Student.__init__ at 0x000002A55FAC5280>, '__dict__': <attribute '__dict__' of 'Student' objects>, '__weakref__': <attribute '__weakref__' of 'Student' objects>, '__doc__': None}\n"
     ]
    }
   ],
   "source": [
    "print(Student.__dict__)"
   ]
  },
  {
   "cell_type": "code",
   "execution_count": null,
   "metadata": {},
   "outputs": [],
   "source": []
  },
  {
   "cell_type": "code",
   "execution_count": null,
   "metadata": {},
   "outputs": [],
   "source": []
  }
 ],
 "metadata": {
  "kernelspec": {
   "display_name": "Python 3",
   "language": "python",
   "name": "python3"
  },
  "language_info": {
   "codemirror_mode": {
    "name": "ipython",
    "version": 3
   },
   "file_extension": ".py",
   "mimetype": "text/x-python",
   "name": "python",
   "nbconvert_exporter": "python",
   "pygments_lexer": "ipython3",
   "version": "3.8.5"
  }
 },
 "nbformat": 4,
 "nbformat_minor": 4
}
