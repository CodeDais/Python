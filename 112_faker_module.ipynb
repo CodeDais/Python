{
 "cells": [
  {
   "cell_type": "markdown",
   "metadata": {},
   "source": [
    "### Working with faker module"
   ]
  },
  {
   "cell_type": "code",
   "execution_count": 418,
   "metadata": {},
   "outputs": [
    {
     "name": "stdout",
     "output_type": "stream",
     "text": [
      "Requirement already satisfied: Faker in c:\\users\\hp\\anaconda3\\lib\\site-packages (14.2.0)\n",
      "Requirement already satisfied: python-dateutil>=2.4 in c:\\users\\hp\\anaconda3\\lib\\site-packages (from Faker) (2.8.1)\n",
      "Requirement already satisfied: six>=1.5 in c:\\users\\hp\\anaconda3\\lib\\site-packages (from python-dateutil>=2.4->Faker) (1.15.0)\n"
     ]
    }
   ],
   "source": [
    "!pip install Faker"
   ]
  },
  {
   "cell_type": "code",
   "execution_count": 1,
   "metadata": {},
   "outputs": [
    {
     "name": "stdout",
     "output_type": "stream",
     "text": [
      "Matthew Peters\n",
      "dianestone@example.com\n"
     ]
    }
   ],
   "source": [
    "from faker import Faker\n",
    "#objcet creation \n",
    "fk=Faker()\n",
    "\n",
    "#fake name \n",
    "print(fk.name())\n",
    "print(fk.email())"
   ]
  },
  {
   "cell_type": "code",
   "execution_count": 45,
   "metadata": {},
   "outputs": [
    {
     "name": "stdout",
     "output_type": "stream",
     "text": [
      "07043 Rodriguez Road\n",
      "West Kelly, GA 33952\n"
     ]
    }
   ],
   "source": [
    "print(fk.address())"
   ]
  },
  {
   "cell_type": "code",
   "execution_count": 81,
   "metadata": {},
   "outputs": [
    {
     "name": "stdout",
     "output_type": "stream",
     "text": [
      "Cameroon\n"
     ]
    }
   ],
   "source": [
    "print(fk.country())"
   ]
  },
  {
   "cell_type": "code",
   "execution_count": 87,
   "metadata": {},
   "outputs": [
    {
     "name": "stdout",
     "output_type": "stream",
     "text": [
      "http://carey.org/\n"
     ]
    }
   ],
   "source": [
    "print(fk.url())"
   ]
  },
  {
   "cell_type": "code",
   "execution_count": 97,
   "metadata": {},
   "outputs": [
    {
     "name": "stdout",
     "output_type": "stream",
     "text": [
      "Life newspaper anyone father same you. Especially participant discussion night common smile term. Respond else particular each produce system.\n"
     ]
    }
   ],
   "source": [
    "print(fk.text())"
   ]
  },
  {
   "cell_type": "code",
   "execution_count": 99,
   "metadata": {},
   "outputs": [
    {
     "name": "stdout",
     "output_type": "stream",
     "text": [
      "Jamie\n",
      "Maldonado\n"
     ]
    }
   ],
   "source": [
    "print(fk.first_name())\n",
    "print(fk.last_name())"
   ]
  },
  {
   "cell_type": "code",
   "execution_count": 2,
   "metadata": {},
   "outputs": [
    {
     "name": "stdout",
     "output_type": "stream",
     "text": [
      "AM\n"
     ]
    }
   ],
   "source": [
    "print(fk.am_pm())"
   ]
  },
  {
   "cell_type": "code",
   "execution_count": 107,
   "metadata": {},
   "outputs": [
    {
     "name": "stdout",
     "output_type": "stream",
     "text": [
      "True\n"
     ]
    }
   ],
   "source": [
    "print(fk.boolean())"
   ]
  },
  {
   "cell_type": "code",
   "execution_count": 112,
   "metadata": {},
   "outputs": [
    {
     "name": "stdout",
     "output_type": "stream",
     "text": [
      "South Jesus\n"
     ]
    }
   ],
   "source": [
    "print(fk.city())"
   ]
  },
  {
   "cell_type": "code",
   "execution_count": 6,
   "metadata": {},
   "outputs": [
    {
     "name": "stdout",
     "output_type": "stream",
     "text": [
      "VII\n"
     ]
    }
   ],
   "source": [
    "print(fk.century())"
   ]
  },
  {
   "cell_type": "code",
   "execution_count": 7,
   "metadata": {},
   "outputs": [
    {
     "name": "stdout",
     "output_type": "stream",
     "text": [
      "370469403039323\n"
     ]
    }
   ],
   "source": [
    "print(fk.credit_card_number())"
   ]
  },
  {
   "cell_type": "code",
   "execution_count": 9,
   "metadata": {},
   "outputs": [
    {
     "name": "stdout",
     "output_type": "stream",
     "text": [
      "#dbf4a1\n"
     ]
    }
   ],
   "source": [
    "print(fk.color())"
   ]
  },
  {
   "cell_type": "code",
   "execution_count": 13,
   "metadata": {},
   "outputs": [
    {
     "name": "stdout",
     "output_type": "stream",
     "text": [
      "Green\n"
     ]
    }
   ],
   "source": [
    "print(fk.color_name())"
   ]
  },
  {
   "cell_type": "code",
   "execution_count": 18,
   "metadata": {},
   "outputs": [
    {
     "name": "stdout",
     "output_type": "stream",
     "text": [
      "Macdonald-Johnson\n"
     ]
    }
   ],
   "source": [
    "print(fk.company())"
   ]
  },
  {
   "cell_type": "code",
   "execution_count": 19,
   "metadata": {},
   "outputs": [
    {
     "name": "stdout",
     "output_type": "stream",
     "text": [
      "hatfieldcolton@jackson-nelson.com\n"
     ]
    }
   ],
   "source": [
    "print(fk.company_email())"
   ]
  },
  {
   "cell_type": "code",
   "execution_count": 20,
   "metadata": {},
   "outputs": [
    {
     "name": "stdout",
     "output_type": "stream",
     "text": [
      "\"Dylan Whitaker\",\"088 Javier Bypass Apt. 959\n",
      "South Jessicafort, HI 85111\"\r\n",
      "\"Tina Roberts\",\"6388 Wall Drive\n",
      "New Bradyside, NE 45356\"\r\n",
      "\"Ryan Delgado\",\"08864 Donna Place\n",
      "Perezchester, CT 87450\"\r\n",
      "\"Michael Wallace\",\"2741 Smith Gardens Suite 542\n",
      "South Justintown, OK 50764\"\r\n",
      "\"Jordan Clark\",\"1314 Timothy Brook Suite 061\n",
      "Rodriguezport, NH 39624\"\r\n",
      "\"Terry Noble\",\"889 Wood Falls Apt. 978\n",
      "West Maureenchester, MI 57801\"\r\n",
      "\"Justin Cole\",\"1703 Lucas Key\n",
      "Fisherburgh, WA 51270\"\r\n",
      "\"Helen Delgado\",\"5912 Janet Island\n",
      "Carlsonhaven, NY 15905\"\r\n",
      "\"Kyle Jackson\",\"8753 Michael Stream Apt. 488\n",
      "North Chelsea, LA 26538\"\r\n",
      "\"Dawn Potter\",\"69099 Chelsea Pass Suite 887\n",
      "West Jamesport, IN 83416\"\r\n",
      "\n"
     ]
    }
   ],
   "source": [
    "print(fk.csv())"
   ]
  },
  {
   "cell_type": "code",
   "execution_count": 153,
   "metadata": {},
   "outputs": [
    {
     "name": "stdout",
     "output_type": "stream",
     "text": [
      "[{\"name\": \"Derek Ramirez\", \"residency\": \"16174 Stein Crescent\\nRodriguezfurt, UT 26872\"}, {\"name\": \"David Paul\", \"residency\": \"USNV Melton\\nFPO AP 71908\"}, {\"name\": \"Rachel Hanson\", \"residency\": \"54087 Wolf Ville\\nEast Williamview, IA 54455\"}, {\"name\": \"David Russell\", \"residency\": \"982 Nelson Neck\\nJosephborough, MN 79014\"}, {\"name\": \"George Obrien\", \"residency\": \"208 Rice Dale Apt. 597\\nRiveraberg, DC 92034\"}, {\"name\": \"Brandon Ryan\", \"residency\": \"139 Wesley Shoals\\nRoberttown, AK 40517\"}, {\"name\": \"Connie Paul\", \"residency\": \"9860 Mark Dam Apt. 429\\nWest Chrisville, MD 33131\"}, {\"name\": \"Anthony Johnson\", \"residency\": \"3154 Zachary Islands Apt. 529\\nRichardshire, VA 69672\"}, {\"name\": \"Jason Peck\", \"residency\": \"482 Carol Creek\\nEast Jason, KY 72060\"}, {\"name\": \"Joshua Duffy\", \"residency\": \"1518 Gardner Vista\\nNew Kyleberg, CA 76428\"}]\n"
     ]
    }
   ],
   "source": [
    "print(fk.json())"
   ]
  },
  {
   "cell_type": "code",
   "execution_count": 23,
   "metadata": {},
   "outputs": [
    {
     "name": "stdout",
     "output_type": "stream",
     "text": [
      "('ETH', 'Ethereum')\n"
     ]
    }
   ],
   "source": [
    "print(fk.cryptocurrency())"
   ]
  },
  {
   "cell_type": "code",
   "execution_count": 29,
   "metadata": {},
   "outputs": [
    {
     "name": "stdout",
     "output_type": "stream",
     "text": [
      "('BOB', 'Bolivian boliviano')\n"
     ]
    }
   ],
   "source": [
    "print(fk.currency())"
   ]
  },
  {
   "cell_type": "code",
   "execution_count": 30,
   "metadata": {},
   "outputs": [
    {
     "name": "stdout",
     "output_type": "stream",
     "text": [
      "2007-04-22\n"
     ]
    }
   ],
   "source": [
    "print(fk.date())"
   ]
  },
  {
   "cell_type": "code",
   "execution_count": 32,
   "metadata": {},
   "outputs": [
    {
     "name": "stdout",
     "output_type": "stream",
     "text": [
      "1969-03-28\n"
     ]
    }
   ],
   "source": [
    "print(fk.date_of_birth())"
   ]
  },
  {
   "cell_type": "code",
   "execution_count": 36,
   "metadata": {},
   "outputs": [
    {
     "name": "stdout",
     "output_type": "stream",
     "text": [
      "wells-arnold.com\n"
     ]
    }
   ],
   "source": [
    "print(fk.domain_name())"
   ]
  },
  {
   "cell_type": "code",
   "execution_count": 41,
   "metadata": {},
   "outputs": [
    {
     "name": "stdout",
     "output_type": "stream",
     "text": [
      "png\n"
     ]
    }
   ],
   "source": [
    "print(fk.file_extension())"
   ]
  },
  {
   "cell_type": "code",
   "execution_count": 42,
   "metadata": {},
   "outputs": [
    {
     "name": "stdout",
     "output_type": "stream",
     "text": [
      "#2d2116\n"
     ]
    }
   ],
   "source": [
    "print(fk.hex_color())"
   ]
  },
  {
   "cell_type": "code",
   "execution_count": 48,
   "metadata": {},
   "outputs": [
    {
     "name": "stdout",
     "output_type": "stream",
     "text": [
      "huge.wav\n"
     ]
    }
   ],
   "source": [
    "print(fk.file_name())"
   ]
  },
  {
   "cell_type": "code",
   "execution_count": 56,
   "metadata": {},
   "outputs": [
    {
     "name": "stdout",
     "output_type": "stream",
     "text": [
      "lt-70.sharp.com\n"
     ]
    }
   ],
   "source": [
    "print(fk.hostname())"
   ]
  },
  {
   "cell_type": "code",
   "execution_count": 59,
   "metadata": {},
   "outputs": [
    {
     "name": "stdout",
     "output_type": "stream",
     "text": [
      "xgray@hotmail.com\n"
     ]
    }
   ],
   "source": [
    "print(fk.free_email())"
   ]
  },
  {
   "cell_type": "code",
   "execution_count": 65,
   "metadata": {},
   "outputs": [
    {
     "name": "stdout",
     "output_type": "stream",
     "text": [
      "172.26.43.104\n"
     ]
    }
   ],
   "source": [
    "print(fk.ipv4_private())"
   ]
  },
  {
   "cell_type": "code",
   "execution_count": 73,
   "metadata": {},
   "outputs": [
    {
     "name": "stdout",
     "output_type": "stream",
     "text": [
      "Logistics and distribution manager\n"
     ]
    }
   ],
   "source": [
    "print(fk.job())"
   ]
  },
  {
   "cell_type": "code",
   "execution_count": 80,
   "metadata": {},
   "outputs": [
    {
     "name": "stdout",
     "output_type": "stream",
     "text": [
      "09\n"
     ]
    }
   ],
   "source": [
    "print(fk.month())"
   ]
  },
  {
   "cell_type": "code",
   "execution_count": 86,
   "metadata": {},
   "outputs": [
    {
     "name": "stdout",
     "output_type": "stream",
     "text": [
      "Good none my dark activity.\n"
     ]
    }
   ],
   "source": [
    "print(fk.paragraph())"
   ]
  },
  {
   "cell_type": "code",
   "execution_count": 98,
   "metadata": {},
   "outputs": [
    {
     "name": "stdout",
     "output_type": "stream",
     "text": [
      "['Budget day idea measure charge stand. Individual open hard daughter possible cup.', 'Often industry treatment soldier. Writer chance catch cultural.', 'Paper hotel member cultural ever likely present free. Bit upon dream cultural green never.']\n"
     ]
    }
   ],
   "source": [
    "print(fk.paragraphs())"
   ]
  },
  {
   "cell_type": "code",
   "execution_count": 104,
   "metadata": {},
   "outputs": [
    {
     "name": "stdout",
     "output_type": "stream",
     "text": [
      "Europe/Chisinau\n"
     ]
    }
   ],
   "source": [
    "print(fk.timezone())"
   ]
  },
  {
   "cell_type": "code",
   "execution_count": 113,
   "metadata": {},
   "outputs": [
    {
     "name": "stdout",
     "output_type": "stream",
     "text": [
      "Komi\n"
     ]
    }
   ],
   "source": [
    "print(fk.language_name())"
   ]
  },
  {
   "cell_type": "code",
   "execution_count": 115,
   "metadata": {},
   "outputs": [
    {
     "name": "stdout",
     "output_type": "stream",
     "text": [
      "most\n"
     ]
    }
   ],
   "source": [
    "print(fk.word())"
   ]
  },
  {
   "cell_type": "code",
   "execution_count": 120,
   "metadata": {},
   "outputs": [
    {
     "name": "stdout",
     "output_type": "stream",
     "text": [
      "['fast', 'air', 'brother']\n"
     ]
    }
   ],
   "source": [
    "print(fk.words())"
   ]
  },
  {
   "cell_type": "code",
   "execution_count": 121,
   "metadata": {},
   "outputs": [
    {
     "name": "stdout",
     "output_type": "stream",
     "text": [
      "tell\n"
     ]
    }
   ],
   "source": [
    "print(fk.word())"
   ]
  },
  {
   "cell_type": "code",
   "execution_count": 125,
   "metadata": {},
   "outputs": [
    {
     "name": "stdout",
     "output_type": "stream",
     "text": [
      "May\n"
     ]
    }
   ],
   "source": [
    "print(fk.month_name())"
   ]
  },
  {
   "cell_type": "code",
   "execution_count": 127,
   "metadata": {},
   "outputs": [
    {
     "name": "stdout",
     "output_type": "stream",
     "text": [
      "1P8IPka5v+\n"
     ]
    }
   ],
   "source": [
    "print(fk.password())"
   ]
  },
  {
   "cell_type": "code",
   "execution_count": 132,
   "metadata": {},
   "outputs": [
    {
     "name": "stdout",
     "output_type": "stream",
     "text": [
      "2\n"
     ]
    }
   ],
   "source": [
    "print(fk.random_digit())"
   ]
  },
  {
   "cell_type": "code",
   "execution_count": 138,
   "metadata": {},
   "outputs": [
    {
     "name": "stdout",
     "output_type": "stream",
     "text": [
      "4164\n"
     ]
    }
   ],
   "source": [
    "print(fk.random_int())"
   ]
  },
  {
   "cell_type": "code",
   "execution_count": 144,
   "metadata": {},
   "outputs": [
    {
     "name": "stdout",
     "output_type": "stream",
     "text": [
      "['k', 't', 'i', 'n', 'Y', 'p', 'i', 'f', 'E', 'p', 'W', 'K', 'b', 'u', 'r', 'B']\n"
     ]
    }
   ],
   "source": [
    "print(fk.random_letters())"
   ]
  },
  {
   "cell_type": "code",
   "execution_count": 145,
   "metadata": {},
   "outputs": [
    {
     "name": "stdout",
     "output_type": "stream",
     "text": [
      "A\n"
     ]
    }
   ],
   "source": [
    "print(fk.random_letter())"
   ]
  },
  {
   "cell_type": "code",
   "execution_count": 149,
   "metadata": {},
   "outputs": [
    {
     "name": "stdout",
     "output_type": "stream",
     "text": [
      "b\n"
     ]
    }
   ],
   "source": [
    "print(fk.random_element())"
   ]
  },
  {
   "cell_type": "code",
   "execution_count": 151,
   "metadata": {},
   "outputs": [
    {
     "name": "stdout",
     "output_type": "stream",
     "text": [
      "['Book yourself cut million lead add.', 'A over stage control reflect woman.', 'Difficult operation build magazine evidence long call party.']\n"
     ]
    }
   ],
   "source": [
    "print(fk.sentences())"
   ]
  },
  {
   "cell_type": "code",
   "execution_count": 154,
   "metadata": {},
   "outputs": [
    {
     "name": "stdout",
     "output_type": "stream",
     "text": [
      "18408\n"
     ]
    }
   ],
   "source": [
    "print(fk.zipcode())"
   ]
  },
  {
   "cell_type": "code",
   "execution_count": 201,
   "metadata": {},
   "outputs": [
    {
     "name": "stdout",
     "output_type": "stream",
     "text": [
      "{'job': 'Contractor', 'company': 'Boone, Gallagher and Scott', 'ssn': '508-98-7365', 'residence': '17066 Heather Grove Apt. 915\\nNorth Anthonyside, MS 90479', 'current_location': (Decimal('-31.8570425'), Decimal('46.622110')), 'blood_group': 'A+', 'website': ['https://hall.info/', 'https://www.monroe-hawkins.com/'], 'username': 'paula86', 'name': 'Misty Phillips', 'sex': 'F', 'address': '4978 Chapman Bypass\\nSanchezfurt, TN 23177', 'mail': 'ana51@yahoo.com', 'birthdate': datetime.date(1997, 2, 14)}\n"
     ]
    }
   ],
   "source": [
    "Faker.seed(1)\n",
    "print(fk.profile())"
   ]
  },
  {
   "cell_type": "code",
   "execution_count": null,
   "metadata": {},
   "outputs": [],
   "source": []
  },
  {
   "cell_type": "code",
   "execution_count": 416,
   "metadata": {},
   "outputs": [
    {
     "name": "stdout",
     "output_type": "stream",
     "text": [
      "चेतना महाराज\n",
      "लिचटीनस्टीन\n",
      "56/5088 लता\n",
      "जिलोंपर 289218\n"
     ]
    }
   ],
   "source": [
    "#generate hindi name \n",
    "fk=Faker('hi-IN')\n",
    "print(fk.name())\n",
    "print(fk.country())\n",
    "print(fk.address())"
   ]
  },
  {
   "cell_type": "code",
   "execution_count": 211,
   "metadata": {},
   "outputs": [],
   "source": [
    "\n",
    "    \n",
    "   "
   ]
  },
  {
   "cell_type": "code",
   "execution_count": null,
   "metadata": {},
   "outputs": [],
   "source": []
  },
  {
   "cell_type": "code",
   "execution_count": null,
   "metadata": {},
   "outputs": [],
   "source": []
  },
  {
   "cell_type": "code",
   "execution_count": null,
   "metadata": {},
   "outputs": [],
   "source": []
  },
  {
   "cell_type": "code",
   "execution_count": null,
   "metadata": {},
   "outputs": [],
   "source": []
  },
  {
   "cell_type": "code",
   "execution_count": null,
   "metadata": {},
   "outputs": [],
   "source": []
  }
 ],
 "metadata": {
  "kernelspec": {
   "display_name": "Python 3",
   "language": "python",
   "name": "python3"
  },
  "language_info": {
   "codemirror_mode": {
    "name": "ipython",
    "version": 3
   },
   "file_extension": ".py",
   "mimetype": "text/x-python",
   "name": "python",
   "nbconvert_exporter": "python",
   "pygments_lexer": "ipython3",
   "version": "3.8.5"
  }
 },
 "nbformat": 4,
 "nbformat_minor": 4
}
