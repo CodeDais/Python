{
 "cells": [
  {
   "cell_type": "markdown",
   "metadata": {},
   "source": [
    "### Working with faker module"
   ]
  },
  {
   "cell_type": "code",
   "execution_count": 418,
   "metadata": {},
   "outputs": [
    {
     "name": "stdout",
     "output_type": "stream",
     "text": [
      "Requirement already satisfied: Faker in c:\\users\\hp\\anaconda3\\lib\\site-packages (14.2.0)\n",
      "Requirement already satisfied: python-dateutil>=2.4 in c:\\users\\hp\\anaconda3\\lib\\site-packages (from Faker) (2.8.1)\n",
      "Requirement already satisfied: six>=1.5 in c:\\users\\hp\\anaconda3\\lib\\site-packages (from python-dateutil>=2.4->Faker) (1.15.0)\n"
     ]
    }
   ],
   "source": [
    "!pip install Faker"
   ]
  },
  {
   "cell_type": "code",
   "execution_count": 41,
   "metadata": {},
   "outputs": [
    {
     "name": "stdout",
     "output_type": "stream",
     "text": [
      "Jennifer Burns\n",
      "harrisonkyle@example.net\n"
     ]
    }
   ],
   "source": [
    "from faker import Faker\n",
    "#objcet creation \n",
    "fk=Faker()\n",
    "\n",
    "#fake name \n",
    "print(fk.name())\n",
    "print(fk.email())\n"
   ]
  },
  {
   "cell_type": "code",
   "execution_count": 45,
   "metadata": {},
   "outputs": [
    {
     "name": "stdout",
     "output_type": "stream",
     "text": [
      "07043 Rodriguez Road\n",
      "West Kelly, GA 33952\n"
     ]
    }
   ],
   "source": [
    "print(fk.address())"
   ]
  },
  {
   "cell_type": "code",
   "execution_count": 81,
   "metadata": {},
   "outputs": [
    {
     "name": "stdout",
     "output_type": "stream",
     "text": [
      "Cameroon\n"
     ]
    }
   ],
   "source": [
    "print(fk.country())"
   ]
  },
  {
   "cell_type": "code",
   "execution_count": 87,
   "metadata": {},
   "outputs": [
    {
     "name": "stdout",
     "output_type": "stream",
     "text": [
      "http://carey.org/\n"
     ]
    }
   ],
   "source": [
    "print(fk.url())"
   ]
  },
  {
   "cell_type": "code",
   "execution_count": 97,
   "metadata": {},
   "outputs": [
    {
     "name": "stdout",
     "output_type": "stream",
     "text": [
      "Life newspaper anyone father same you. Especially participant discussion night common smile term. Respond else particular each produce system.\n"
     ]
    }
   ],
   "source": [
    "print(fk.text())"
   ]
  },
  {
   "cell_type": "code",
   "execution_count": 99,
   "metadata": {},
   "outputs": [
    {
     "name": "stdout",
     "output_type": "stream",
     "text": [
      "Jamie\n",
      "Maldonado\n"
     ]
    }
   ],
   "source": [
    "print(fk.first_name())\n",
    "print(fk.last_name())"
   ]
  },
  {
   "cell_type": "code",
   "execution_count": 103,
   "metadata": {},
   "outputs": [
    {
     "name": "stdout",
     "output_type": "stream",
     "text": [
      "PM\n"
     ]
    }
   ],
   "source": [
    "print(fk.am_pm())"
   ]
  },
  {
   "cell_type": "code",
   "execution_count": 107,
   "metadata": {},
   "outputs": [
    {
     "name": "stdout",
     "output_type": "stream",
     "text": [
      "True\n"
     ]
    }
   ],
   "source": [
    "print(fk.boolean())"
   ]
  },
  {
   "cell_type": "code",
   "execution_count": 112,
   "metadata": {},
   "outputs": [
    {
     "name": "stdout",
     "output_type": "stream",
     "text": [
      "South Jesus\n"
     ]
    }
   ],
   "source": [
    "print(fk.city())"
   ]
  },
  {
   "cell_type": "code",
   "execution_count": 117,
   "metadata": {},
   "outputs": [
    {
     "name": "stdout",
     "output_type": "stream",
     "text": [
      "VIII\n"
     ]
    }
   ],
   "source": [
    "print(fk.century())"
   ]
  },
  {
   "cell_type": "code",
   "execution_count": 120,
   "metadata": {},
   "outputs": [
    {
     "name": "stdout",
     "output_type": "stream",
     "text": [
      "4740080820416138\n"
     ]
    }
   ],
   "source": [
    "print(fk.credit_card_number())"
   ]
  },
  {
   "cell_type": "code",
   "execution_count": 130,
   "metadata": {},
   "outputs": [
    {
     "name": "stdout",
     "output_type": "stream",
     "text": [
      "#c686f4\n"
     ]
    }
   ],
   "source": [
    "print(fk.color())"
   ]
  },
  {
   "cell_type": "code",
   "execution_count": 136,
   "metadata": {},
   "outputs": [
    {
     "name": "stdout",
     "output_type": "stream",
     "text": [
      "LightCoral\n"
     ]
    }
   ],
   "source": [
    "print(fk.color_name())"
   ]
  },
  {
   "cell_type": "code",
   "execution_count": 147,
   "metadata": {},
   "outputs": [
    {
     "name": "stdout",
     "output_type": "stream",
     "text": [
      "Anderson, Norton and Roman\n"
     ]
    }
   ],
   "source": [
    "print(fk.company())"
   ]
  },
  {
   "cell_type": "code",
   "execution_count": 151,
   "metadata": {},
   "outputs": [
    {
     "name": "stdout",
     "output_type": "stream",
     "text": [
      "princemarie@paul-gonzalez.biz\n"
     ]
    }
   ],
   "source": [
    "print(fk.company_email())"
   ]
  },
  {
   "cell_type": "code",
   "execution_count": 152,
   "metadata": {},
   "outputs": [
    {
     "name": "stdout",
     "output_type": "stream",
     "text": [
      "\"Anne Reed\",\"8564 Gomez Islands\n",
      "New Davidmouth, VA 43174\"\r\n",
      "\"Laura Hayes\",\"6190 Brandon Overpass Suite 395\n",
      "Vickistad, ME 61393\"\r\n",
      "\"Gina Romero\",\"392 Jack Loop Apt. 184\n",
      "East Joseshire, SD 10789\"\r\n",
      "\"Rebecca Robinson\",\"95743 Carly Way Apt. 675\n",
      "Port Timothy, KS 53887\"\r\n",
      "\"Paul Townsend\",\"69899 Williams Vista Suite 034\n",
      "New Davidport, WA 41861\"\r\n",
      "\"Kimberly Armstrong\",\"869 Chavez Curve Suite 928\n",
      "West Dana, WA 87211\"\r\n",
      "\"Isabella Morales\",\"USS Roach\n",
      "FPO AE 01132\"\r\n",
      "\"John Flynn\",\"6717 Thomas Drive Apt. 245\n",
      "New Kristi, KS 67844\"\r\n",
      "\"Jason Hill\",\"76611 Jamie Drive Apt. 014\n",
      "South Kim, MO 85653\"\r\n",
      "\"Sandra Davis\",\"386 Williams Run\n",
      "Lake Angelachester, TN 97641\"\r\n",
      "\n"
     ]
    }
   ],
   "source": [
    "print(fk.csv())"
   ]
  },
  {
   "cell_type": "code",
   "execution_count": 153,
   "metadata": {},
   "outputs": [
    {
     "name": "stdout",
     "output_type": "stream",
     "text": [
      "[{\"name\": \"Derek Ramirez\", \"residency\": \"16174 Stein Crescent\\nRodriguezfurt, UT 26872\"}, {\"name\": \"David Paul\", \"residency\": \"USNV Melton\\nFPO AP 71908\"}, {\"name\": \"Rachel Hanson\", \"residency\": \"54087 Wolf Ville\\nEast Williamview, IA 54455\"}, {\"name\": \"David Russell\", \"residency\": \"982 Nelson Neck\\nJosephborough, MN 79014\"}, {\"name\": \"George Obrien\", \"residency\": \"208 Rice Dale Apt. 597\\nRiveraberg, DC 92034\"}, {\"name\": \"Brandon Ryan\", \"residency\": \"139 Wesley Shoals\\nRoberttown, AK 40517\"}, {\"name\": \"Connie Paul\", \"residency\": \"9860 Mark Dam Apt. 429\\nWest Chrisville, MD 33131\"}, {\"name\": \"Anthony Johnson\", \"residency\": \"3154 Zachary Islands Apt. 529\\nRichardshire, VA 69672\"}, {\"name\": \"Jason Peck\", \"residency\": \"482 Carol Creek\\nEast Jason, KY 72060\"}, {\"name\": \"Joshua Duffy\", \"residency\": \"1518 Gardner Vista\\nNew Kyleberg, CA 76428\"}]\n"
     ]
    }
   ],
   "source": [
    "print(fk.json())"
   ]
  },
  {
   "cell_type": "code",
   "execution_count": 156,
   "metadata": {},
   "outputs": [
    {
     "name": "stdout",
     "output_type": "stream",
     "text": [
      "('NEM', 'XEM')\n"
     ]
    }
   ],
   "source": [
    "print(fk.cryptocurrency())"
   ]
  },
  {
   "cell_type": "code",
   "execution_count": 164,
   "metadata": {},
   "outputs": [
    {
     "name": "stdout",
     "output_type": "stream",
     "text": [
      "('NGN', 'Nigerian naira')\n"
     ]
    }
   ],
   "source": [
    "print(fk.currency())"
   ]
  },
  {
   "cell_type": "code",
   "execution_count": 170,
   "metadata": {},
   "outputs": [
    {
     "name": "stdout",
     "output_type": "stream",
     "text": [
      "2015-05-20\n"
     ]
    }
   ],
   "source": [
    "print(fk.date())"
   ]
  },
  {
   "cell_type": "code",
   "execution_count": 171,
   "metadata": {},
   "outputs": [
    {
     "name": "stdout",
     "output_type": "stream",
     "text": [
      "2000-03-19\n"
     ]
    }
   ],
   "source": [
    "print(fk.date_of_birth())"
   ]
  },
  {
   "cell_type": "code",
   "execution_count": 175,
   "metadata": {},
   "outputs": [
    {
     "name": "stdout",
     "output_type": "stream",
     "text": [
      "mahoney-ortiz.org\n"
     ]
    }
   ],
   "source": [
    "print(fk.domain_name())"
   ]
  },
  {
   "cell_type": "code",
   "execution_count": 186,
   "metadata": {},
   "outputs": [
    {
     "name": "stdout",
     "output_type": "stream",
     "text": [
      "png\n"
     ]
    }
   ],
   "source": [
    "print(fk.file_extension())"
   ]
  },
  {
   "cell_type": "code",
   "execution_count": 190,
   "metadata": {},
   "outputs": [
    {
     "name": "stdout",
     "output_type": "stream",
     "text": [
      "#f3b436\n"
     ]
    }
   ],
   "source": [
    "print(fk.hex_color())"
   ]
  },
  {
   "cell_type": "code",
   "execution_count": 195,
   "metadata": {},
   "outputs": [
    {
     "name": "stdout",
     "output_type": "stream",
     "text": [
      "learn.wav\n"
     ]
    }
   ],
   "source": [
    "print(fk.file_name())"
   ]
  },
  {
   "cell_type": "code",
   "execution_count": 197,
   "metadata": {},
   "outputs": [
    {
     "name": "stdout",
     "output_type": "stream",
     "text": [
      "email-98.brown.com\n"
     ]
    }
   ],
   "source": [
    "print(fk.hostname())"
   ]
  },
  {
   "cell_type": "code",
   "execution_count": 203,
   "metadata": {},
   "outputs": [
    {
     "name": "stdout",
     "output_type": "stream",
     "text": [
      "travis36@yahoo.com\n"
     ]
    }
   ],
   "source": [
    "print(fk.free_email())"
   ]
  },
  {
   "cell_type": "code",
   "execution_count": 204,
   "metadata": {},
   "outputs": [
    {
     "name": "stdout",
     "output_type": "stream",
     "text": [
      "172.31.159.248\n"
     ]
    }
   ],
   "source": [
    "print(fk.ipv4_private())"
   ]
  },
  {
   "cell_type": "code",
   "execution_count": 212,
   "metadata": {},
   "outputs": [
    {
     "name": "stdout",
     "output_type": "stream",
     "text": [
      "Agricultural engineer\n"
     ]
    }
   ],
   "source": [
    "print(fk.job())"
   ]
  },
  {
   "cell_type": "code",
   "execution_count": 215,
   "metadata": {},
   "outputs": [
    {
     "name": "stdout",
     "output_type": "stream",
     "text": [
      "01\n"
     ]
    }
   ],
   "source": [
    "print(fk.month())"
   ]
  },
  {
   "cell_type": "code",
   "execution_count": 216,
   "metadata": {},
   "outputs": [
    {
     "name": "stdout",
     "output_type": "stream",
     "text": [
      "She project something eye choose will step. Affect however plant save tree.\n"
     ]
    }
   ],
   "source": [
    "print(fk.paragraph())"
   ]
  },
  {
   "cell_type": "code",
   "execution_count": 217,
   "metadata": {},
   "outputs": [
    {
     "name": "stdout",
     "output_type": "stream",
     "text": [
      "['Yard name economic institution city condition. Away movie newspaper claim heart. Message into some.', 'Record real president Mr easy. Budget popular hit nice political look within. Since again teacher letter reveal.', 'Card no step side PM yeah sort network. Recognize space many everything up else.']\n"
     ]
    }
   ],
   "source": [
    "print(fk.paragraphs())"
   ]
  },
  {
   "cell_type": "code",
   "execution_count": 233,
   "metadata": {},
   "outputs": [
    {
     "name": "stdout",
     "output_type": "stream",
     "text": [
      "Africa/Lome\n"
     ]
    }
   ],
   "source": [
    "print(fk.timezone())"
   ]
  },
  {
   "cell_type": "code",
   "execution_count": 292,
   "metadata": {},
   "outputs": [
    {
     "name": "stdout",
     "output_type": "stream",
     "text": [
      "Divehi\n"
     ]
    }
   ],
   "source": [
    "print(fk.language_name())"
   ]
  },
  {
   "cell_type": "code",
   "execution_count": 295,
   "metadata": {},
   "outputs": [
    {
     "name": "stdout",
     "output_type": "stream",
     "text": [
      "term\n"
     ]
    }
   ],
   "source": [
    "print(fk.word())"
   ]
  },
  {
   "cell_type": "code",
   "execution_count": 322,
   "metadata": {},
   "outputs": [
    {
     "name": "stdout",
     "output_type": "stream",
     "text": [
      "['various', 'need', 'travel']\n"
     ]
    }
   ],
   "source": [
    "print(fk.words())"
   ]
  },
  {
   "cell_type": "code",
   "execution_count": 323,
   "metadata": {},
   "outputs": [
    {
     "name": "stdout",
     "output_type": "stream",
     "text": [
      "me\n"
     ]
    }
   ],
   "source": [
    "print(fk.word())"
   ]
  },
  {
   "cell_type": "code",
   "execution_count": 326,
   "metadata": {},
   "outputs": [
    {
     "name": "stdout",
     "output_type": "stream",
     "text": [
      "September\n"
     ]
    }
   ],
   "source": [
    "print(fk.month_name())"
   ]
  },
  {
   "cell_type": "code",
   "execution_count": 338,
   "metadata": {},
   "outputs": [
    {
     "name": "stdout",
     "output_type": "stream",
     "text": [
      "dxW51Eyi@U\n"
     ]
    }
   ],
   "source": [
    "print(fk.password())"
   ]
  },
  {
   "cell_type": "code",
   "execution_count": 341,
   "metadata": {},
   "outputs": [
    {
     "name": "stdout",
     "output_type": "stream",
     "text": [
      "3\n"
     ]
    }
   ],
   "source": [
    "print(fk.random_digit())"
   ]
  },
  {
   "cell_type": "code",
   "execution_count": 346,
   "metadata": {},
   "outputs": [
    {
     "name": "stdout",
     "output_type": "stream",
     "text": [
      "691\n"
     ]
    }
   ],
   "source": [
    "print(fk.random_int())"
   ]
  },
  {
   "cell_type": "code",
   "execution_count": 351,
   "metadata": {},
   "outputs": [
    {
     "name": "stdout",
     "output_type": "stream",
     "text": [
      "['x', 'r', 'v', 'a', 'j', 'H', 'N', 'l', 'j', 'V', 'f', 'P', 'T', 'h', 'R', 'h']\n"
     ]
    }
   ],
   "source": [
    "print(fk.random_letters())"
   ]
  },
  {
   "cell_type": "code",
   "execution_count": 354,
   "metadata": {},
   "outputs": [
    {
     "name": "stdout",
     "output_type": "stream",
     "text": [
      "p\n"
     ]
    }
   ],
   "source": [
    "print(fk.random_letter())"
   ]
  },
  {
   "cell_type": "code",
   "execution_count": 367,
   "metadata": {},
   "outputs": [
    {
     "name": "stdout",
     "output_type": "stream",
     "text": [
      "b\n"
     ]
    }
   ],
   "source": [
    "print(fk.random_element())"
   ]
  },
  {
   "cell_type": "code",
   "execution_count": 368,
   "metadata": {},
   "outputs": [
    {
     "name": "stdout",
     "output_type": "stream",
     "text": [
      "['Become use story majority gas condition.', 'Dream significant job everybody.', 'Tv us senior have lead.']\n"
     ]
    }
   ],
   "source": [
    "print(fk.sentences())"
   ]
  },
  {
   "cell_type": "code",
   "execution_count": 372,
   "metadata": {},
   "outputs": [
    {
     "name": "stdout",
     "output_type": "stream",
     "text": [
      "62277\n"
     ]
    }
   ],
   "source": [
    "print(fk.zipcode())"
   ]
  },
  {
   "cell_type": "code",
   "execution_count": 404,
   "metadata": {},
   "outputs": [
    {
     "name": "stdout",
     "output_type": "stream",
     "text": [
      "{'job': 'Contractor', 'company': 'Boone, Gallagher and Scott', 'ssn': '508-98-7365', 'residence': '17066 Heather Grove Apt. 915\\nNorth Anthonyside, MS 90479', 'current_location': (Decimal('-31.8570425'), Decimal('46.622110')), 'blood_group': 'A+', 'website': ['https://hall.info/', 'https://www.monroe-hawkins.com/'], 'username': 'paula86', 'name': 'Misty Phillips', 'sex': 'F', 'address': '4978 Chapman Bypass\\nSanchezfurt, TN 23177', 'mail': 'ana51@yahoo.com', 'birthdate': datetime.date(1997, 1, 21)}\n"
     ]
    }
   ],
   "source": [
    "Faker.seed(1)\n",
    "print(fk.profile())"
   ]
  },
  {
   "cell_type": "code",
   "execution_count": 416,
   "metadata": {},
   "outputs": [
    {
     "name": "stdout",
     "output_type": "stream",
     "text": [
      "चेतना महाराज\n",
      "लिचटीनस्टीन\n",
      "56/5088 लता\n",
      "जिलोंपर 289218\n"
     ]
    }
   ],
   "source": [
    "#generate hindi name \n",
    "fk=Faker('hi-IN')\n",
    "print(fk.name())\n",
    "print(fk.country())\n",
    "print(fk.address())"
   ]
  },
  {
   "cell_type": "code",
   "execution_count": null,
   "metadata": {},
   "outputs": [],
   "source": []
  },
  {
   "cell_type": "code",
   "execution_count": null,
   "metadata": {},
   "outputs": [],
   "source": []
  },
  {
   "cell_type": "code",
   "execution_count": null,
   "metadata": {},
   "outputs": [],
   "source": []
  },
  {
   "cell_type": "code",
   "execution_count": null,
   "metadata": {},
   "outputs": [],
   "source": []
  },
  {
   "cell_type": "code",
   "execution_count": null,
   "metadata": {},
   "outputs": [],
   "source": []
  },
  {
   "cell_type": "code",
   "execution_count": null,
   "metadata": {},
   "outputs": [],
   "source": []
  }
 ],
 "metadata": {
  "kernelspec": {
   "display_name": "Python 3",
   "language": "python",
   "name": "python3"
  },
  "language_info": {
   "codemirror_mode": {
    "name": "ipython",
    "version": 3
   },
   "file_extension": ".py",
   "mimetype": "text/x-python",
   "name": "python",
   "nbconvert_exporter": "python",
   "pygments_lexer": "ipython3",
   "version": "3.8.5"
  }
 },
 "nbformat": 4,
 "nbformat_minor": 4
}
