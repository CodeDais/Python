{
 "cells": [
  {
   "cell_type": "markdown",
   "metadata": {},
   "source": [
    "### Hybrid Inheritance "
   ]
  },
  {
   "cell_type": "code",
   "execution_count": null,
   "metadata": {},
   "outputs": [],
   "source": [
    "# ex "
   ]
  },
  {
   "cell_type": "code",
   "execution_count": 2,
   "metadata": {},
   "outputs": [
    {
     "name": "stdout",
     "output_type": "stream",
     "text": [
      "A class method1\n",
      "B class method2\n",
      "C class method3\n",
      "D class method4\n"
     ]
    }
   ],
   "source": [
    "class A:\n",
    "    def method1(self):\n",
    "        print('A class method1')\n",
    "        \n",
    "class B(A):\n",
    "    def method2(self):\n",
    "        print('B class method2')\n",
    "        \n",
    "class C(A):\n",
    "    def method3(self):\n",
    "        print('C class method3')\n",
    "        \n",
    "class D(B,C):\n",
    "    def method4(self):\n",
    "        print('D class method4')\n",
    "        \n",
    "d=D()\n",
    "d.method1()\n",
    "d.method2()\n",
    "d.method3()\n",
    "d.method4()"
   ]
  },
  {
   "cell_type": "code",
   "execution_count": null,
   "metadata": {},
   "outputs": [],
   "source": []
  }
 ],
 "metadata": {
  "kernelspec": {
   "display_name": "Python 3",
   "language": "python",
   "name": "python3"
  },
  "language_info": {
   "codemirror_mode": {
    "name": "ipython",
    "version": 3
   },
   "file_extension": ".py",
   "mimetype": "text/x-python",
   "name": "python",
   "nbconvert_exporter": "python",
   "pygments_lexer": "ipython3",
   "version": "3.8.5"
  }
 },
 "nbformat": 4,
 "nbformat_minor": 4
}
