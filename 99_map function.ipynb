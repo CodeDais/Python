{
 "cells": [
  {
   "cell_type": "markdown",
   "metadata": {},
   "source": [
    "## map() "
   ]
  },
  {
   "cell_type": "code",
   "execution_count": 5,
   "metadata": {},
   "outputs": [
    {
     "name": "stdout",
     "output_type": "stream",
     "text": [
      "[14, 24, 34, 44, 54]\n"
     ]
    }
   ],
   "source": [
    "# add 4 to each and every element present in list without using lambda \n",
    "#craete the body for add4 function \n",
    "def add4(x):\n",
    "    return x+4\n",
    "l=[10,20,30,40,50]\n",
    "data=list(map(add4,l))\n",
    "print(data)"
   ]
  },
  {
   "cell_type": "code",
   "execution_count": null,
   "metadata": {},
   "outputs": [],
   "source": []
  },
  {
   "cell_type": "code",
   "execution_count": 8,
   "metadata": {},
   "outputs": [
    {
     "name": "stdout",
     "output_type": "stream",
     "text": [
      "[104, 204, 304, 404, 504]\n"
     ]
    }
   ],
   "source": [
    "# add 4 to each and every element present in list with using lambda \n",
    "l=[100,200,300,400,500]\n",
    "data=list(map(lambda x:x+4,l))\n",
    "print(data)"
   ]
  },
  {
   "cell_type": "code",
   "execution_count": 12,
   "metadata": {},
   "outputs": [
    {
     "name": "stdout",
     "output_type": "stream",
     "text": [
      "(1, 4, 9, 16, 25, 36)\n"
     ]
    }
   ],
   "source": [
    "#find out square of ecah number preset inside tuple \n",
    "t=(1,2,3,4,5,6)\n",
    "data=tuple(map(lambda x:x*x,t))\n",
    "print(data)"
   ]
  },
  {
   "cell_type": "code",
   "execution_count": 14,
   "metadata": {},
   "outputs": [
    {
     "name": "stdout",
     "output_type": "stream",
     "text": [
      "[21, 32, 43, 54, 65]\n"
     ]
    }
   ],
   "source": [
    "#add individual elemenet of both list\n",
    "l1=[10,20,30,40,50]\n",
    "l2=[11,12,13,14,15]\n",
    "\n",
    "data=list(map(lambda x,y:x+y,l1,l2))\n",
    "print(data)\n"
   ]
  },
  {
   "cell_type": "code",
   "execution_count": 19,
   "metadata": {},
   "outputs": [
    {
     "name": "stdout",
     "output_type": "stream",
     "text": [
      "[132, 144, 156, 168, 180]\n"
     ]
    }
   ],
   "source": [
    "l1=[10,20,30,40,50]\n",
    "l2=[11,12,13,14,15]\n",
    "l3=[111,112,113,114,115]\n",
    "data=list(map(lambda x,y,z:x+y+z,l1,l2,l3))\n",
    "print(data)\n"
   ]
  },
  {
   "cell_type": "code",
   "execution_count": 21,
   "metadata": {},
   "outputs": [
    {
     "name": "stdout",
     "output_type": "stream",
     "text": [
      "[8, 8, 5, 4]\n"
     ]
    }
   ],
   "source": [
    "#find the length of each words preset in a list \n",
    "\n",
    "names=['surendra','priyanka','rahul','zini']\n",
    "\n",
    "data=list(map(lambda x:len(x),names))\n",
    "print(data)"
   ]
  },
  {
   "cell_type": "code",
   "execution_count": 25,
   "metadata": {},
   "outputs": [
    {
     "name": "stdout",
     "output_type": "stream",
     "text": [
      "8\n",
      "8\n",
      "5\n",
      "4\n"
     ]
    }
   ],
   "source": [
    "names=['surendra','priyanka','rahul','zini']\n",
    "\n",
    "data=map(lambda x:len(x),names)\n",
    "# print(type(data))\n",
    "for i in data:\n",
    "    print(i)"
   ]
  },
  {
   "cell_type": "code",
   "execution_count": 1,
   "metadata": {},
   "outputs": [
    {
     "name": "stdout",
     "output_type": "stream",
     "text": [
      "['hello', 'everyone', 'welcome', 'back', 'to', 'code', 'dais']\n"
     ]
    }
   ],
   "source": [
    "# find out the length of each words preset in a string \n",
    "msg='hello everyone welcome back to code dais'\n",
    "s=msg.split(' ')\n",
    "print(s)\n"
   ]
  },
  {
   "cell_type": "code",
   "execution_count": 2,
   "metadata": {},
   "outputs": [
    {
     "name": "stdout",
     "output_type": "stream",
     "text": [
      "30\n",
      "56\n",
      "<class 'function'>\n",
      "100\n"
     ]
    }
   ],
   "source": [
    "import test\n",
    "print(tes)"
   ]
  }
 ],
 "metadata": {
  "kernelspec": {
   "display_name": "Python 3",
   "language": "python",
   "name": "python3"
  },
  "language_info": {
   "codemirror_mode": {
    "name": "ipython",
    "version": 3
   },
   "file_extension": ".py",
   "mimetype": "text/x-python",
   "name": "python",
   "nbconvert_exporter": "python",
   "pygments_lexer": "ipython3",
   "version": "3.8.5"
  }
 },
 "nbformat": 4,
 "nbformat_minor": 4
}
