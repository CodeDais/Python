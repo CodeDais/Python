{
 "cells": [
  {
   "cell_type": "code",
   "execution_count": 20,
   "metadata": {},
   "outputs": [],
   "source": [
    "#Abstrat Class"
   ]
  },
  {
   "cell_type": "code",
   "execution_count": 23,
   "metadata": {},
   "outputs": [
    {
     "name": "stdout",
     "output_type": "stream",
     "text": [
      "area of circle is 181.3664\n",
      "area of square is 10.3041\n"
     ]
    }
   ],
   "source": [
    "from abc import ABC,abstractmethod\n",
    "\n",
    "class Shape(ABC):\n",
    "    @abstractmethod\n",
    "    def area(self):\n",
    "        pass\n",
    "    \n",
    "class Circle(Shape):\n",
    "    def area(self,r):\n",
    "        print(f'area of circle is {3.14*r*r}')\n",
    "        \n",
    "class Square(Shape):\n",
    "    def area(self,s):\n",
    "        print(f'area of square is {s*s}')\n",
    "        \n",
    "c=Circle()\n",
    "c.area(7.6)\n",
    "   \n",
    "s=Square()\n",
    "s.area(3.21)"
   ]
  },
  {
   "cell_type": "code",
   "execution_count": null,
   "metadata": {},
   "outputs": [],
   "source": [
    "# ex 2 "
   ]
  },
  {
   "cell_type": "code",
   "execution_count": 26,
   "metadata": {},
   "outputs": [
    {
     "name": "stdout",
     "output_type": "stream",
     "text": [
      "Number seats 40+\n",
      "Number of whls 4\n",
      "Number of seats 4+\n",
      "Number of whls 4\n",
      "Number of seats 2\n",
      "Number of whl 2\n"
     ]
    }
   ],
   "source": [
    "class Vechile(ABC):\n",
    "    @abstractmethod\n",
    "    def no_of_seats(self):\n",
    "        pass\n",
    "    @abstractmethod\n",
    "    def no_of_whl(self):\n",
    "        pass\n",
    "    \n",
    "    \n",
    "class Bus(Vechile):\n",
    "    def no_of_seats(self):\n",
    "        print('Number seats 40+')\n",
    "    def no_of_whl(self):\n",
    "        print('Number of whls 4')\n",
    "        \n",
    "class Car(Vechile):\n",
    "    def no_of_seats(self):\n",
    "        print('Number of seats 4+')\n",
    "    def no_of_whl(self):\n",
    "        print('Number of whls 4')\n",
    "        \n",
    "class Bike(Vechile):\n",
    "    def no_of_seats(self):\n",
    "        print('Number of seats 2')\n",
    "    def no_of_whl(self):\n",
    "        print('Number of whl 2')\n",
    "        \n",
    "bs=Bus()\n",
    "bs.no_of_seats()\n",
    "bs.no_of_whl()\n",
    "\n",
    "c=Car()\n",
    "c.no_of_seats()\n",
    "c.no_of_whl()\n",
    "\n",
    "bk=Bike()\n",
    "bk.no_of_seats()\n",
    "bk.no_of_whl()\n"
   ]
  },
  {
   "cell_type": "code",
   "execution_count": 34,
   "metadata": {},
   "outputs": [
    {
     "name": "stdout",
     "output_type": "stream",
     "text": [
      "Number seats 46\n",
      "Number of whls 4\n",
      "Number seats 4\n",
      "Number of whls 4\n",
      "Number seats 5\n",
      "Number of whls 4\n"
     ]
    }
   ],
   "source": [
    "# customize \n",
    "\n",
    "class Vechile(ABC):\n",
    "    @abstractmethod\n",
    "    def no_of_seats(self):\n",
    "        pass\n",
    "    @abstractmethod\n",
    "    def no_of_whl(self):\n",
    "        pass\n",
    "    \n",
    "    \n",
    "class Bus(Vechile):\n",
    "    def no_of_seats(self,seats):\n",
    "        print(f'Number seats {seats}')\n",
    "    def no_of_whl(self,whl):\n",
    "        print(f'Number of whls {whl}')\n",
    "        \n",
    "class Car(Vechile):\n",
    "    def no_of_seats(self,seats):\n",
    "        print(f'Number seats {seats}')\n",
    "    def no_of_whl(self,whl):\n",
    "        print(f'Number of whls {whl}')\n",
    "        \n",
    "class Bike(Vechile):\n",
    "    def no_of_seats(self,whl):\n",
    "        print(f'Number seats {seats}')\n",
    "    def no_of_whl(self,whl):\n",
    "        print(f'Number of whls {whl}')\n",
    "    \n",
    "tatastarbus=Bus()\n",
    "tatastarbus.no_of_seats(46)\n",
    "tatastarbus.no_of_whl(4)\n",
    "\n",
    "\n",
    "thar=Car()\n",
    "thar.no_of_seats(4)\n",
    "thar.no_of_whl(4)\n",
    "\n",
    "hondacity=Car()\n",
    "hondacity.no_of_seats(5)\n",
    "hondacity.no_of_whl(4)\n",
    "\n"
   ]
  },
  {
   "cell_type": "code",
   "execution_count": null,
   "metadata": {},
   "outputs": [],
   "source": [
    "# abstract class can also conatin concreate method as well as abstract method "
   ]
  },
  {
   "cell_type": "code",
   "execution_count": 39,
   "metadata": {},
   "outputs": [
    {
     "name": "stdout",
     "output_type": "stream",
     "text": [
      "Normal break\n",
      "Special and powerful break\n"
     ]
    }
   ],
   "source": [
    "class Car(ABC):\n",
    "    def breaktype(self):\n",
    "        print('Normal break')\n",
    "        \n",
    "    @abstractmethod\n",
    "    def no_of_seats(self):\n",
    "        pass\n",
    "    \n",
    "class Suzuki(Car):\n",
    "    def no_of_seats(self):\n",
    "        print('number of serats 6')\n",
    "        \n",
    "class Audi(Car):\n",
    "    def no_of_seats(self):\n",
    "        print('number of setas 5')\n",
    "        \n",
    "    def breaktype(self):\n",
    "        print('Special and powerful break')\n",
    "\n",
    "        \n",
    "s=Suzuki()\n",
    "s.breaktype()\n",
    "    \n",
    "a=Audi()\n",
    "a.breaktype()"
   ]
  },
  {
   "cell_type": "code",
   "execution_count": null,
   "metadata": {},
   "outputs": [],
   "source": []
  },
  {
   "cell_type": "code",
   "execution_count": null,
   "metadata": {},
   "outputs": [],
   "source": []
  },
  {
   "cell_type": "code",
   "execution_count": null,
   "metadata": {},
   "outputs": [],
   "source": []
  },
  {
   "cell_type": "code",
   "execution_count": null,
   "metadata": {},
   "outputs": [],
   "source": []
  },
  {
   "cell_type": "code",
   "execution_count": null,
   "metadata": {},
   "outputs": [],
   "source": []
  },
  {
   "cell_type": "code",
   "execution_count": null,
   "metadata": {},
   "outputs": [],
   "source": []
  },
  {
   "cell_type": "code",
   "execution_count": null,
   "metadata": {},
   "outputs": [],
   "source": []
  },
  {
   "cell_type": "code",
   "execution_count": null,
   "metadata": {},
   "outputs": [],
   "source": []
  },
  {
   "cell_type": "code",
   "execution_count": null,
   "metadata": {},
   "outputs": [],
   "source": []
  },
  {
   "cell_type": "code",
   "execution_count": null,
   "metadata": {},
   "outputs": [],
   "source": []
  },
  {
   "cell_type": "code",
   "execution_count": null,
   "metadata": {},
   "outputs": [],
   "source": []
  },
  {
   "cell_type": "code",
   "execution_count": null,
   "metadata": {},
   "outputs": [],
   "source": []
  },
  {
   "cell_type": "code",
   "execution_count": null,
   "metadata": {},
   "outputs": [],
   "source": []
  },
  {
   "cell_type": "code",
   "execution_count": null,
   "metadata": {},
   "outputs": [],
   "source": []
  },
  {
   "cell_type": "code",
   "execution_count": null,
   "metadata": {},
   "outputs": [],
   "source": []
  },
  {
   "cell_type": "code",
   "execution_count": null,
   "metadata": {},
   "outputs": [],
   "source": []
  }
 ],
 "metadata": {
  "kernelspec": {
   "display_name": "Python 3",
   "language": "python",
   "name": "python3"
  },
  "language_info": {
   "codemirror_mode": {
    "name": "ipython",
    "version": 3
   },
   "file_extension": ".py",
   "mimetype": "text/x-python",
   "name": "python",
   "nbconvert_exporter": "python",
   "pygments_lexer": "ipython3",
   "version": "3.8.5"
  }
 },
 "nbformat": 4,
 "nbformat_minor": 4
}
