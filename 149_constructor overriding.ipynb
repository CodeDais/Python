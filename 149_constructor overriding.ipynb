{
 "cells": [
  {
   "cell_type": "code",
   "execution_count": null,
   "metadata": {},
   "outputs": [],
   "source": [
    "#Constructor overriding "
   ]
  },
  {
   "cell_type": "code",
   "execution_count": 10,
   "metadata": {},
   "outputs": [
    {
     "name": "stdout",
     "output_type": "stream",
     "text": [
      "hello i like old songs\n"
     ]
    }
   ],
   "source": [
    "class Parent:\n",
    "    def __init__(self):\n",
    "        print('hello i like old songs')\n",
    "        \n",
    "class Child(Parent):\n",
    "    pass\n",
    "\n",
    "c=Child()"
   ]
  },
  {
   "cell_type": "code",
   "execution_count": 12,
   "metadata": {},
   "outputs": [
    {
     "name": "stdout",
     "output_type": "stream",
     "text": [
      "hello i like new songs\n"
     ]
    }
   ],
   "source": [
    "class Parent:\n",
    "    def __init__(self):\n",
    "        print('hello i like old songs')\n",
    "        \n",
    "class Child(Parent):\n",
    "    def __init__(self):\n",
    "        print('hello i like new songs')\n",
    "c=Child()"
   ]
  },
  {
   "cell_type": "code",
   "execution_count": null,
   "metadata": {},
   "outputs": [],
   "source": [
    "# Problem with out using constructor overriding   "
   ]
  },
  {
   "cell_type": "code",
   "execution_count": null,
   "metadata": {},
   "outputs": [],
   "source": [
    "class Human:\n",
    "    def __init__(self,name,age):\n",
    "        self.name=name\n",
    "        self.age=age\n",
    "        \n",
    "    def printDeatils(self):\n",
    "        print(f'name is {self.name}')\n",
    "        print(f'age is {self.age}')\n",
    "        \n",
    "class Student:\n",
    "    def __init__(self,name,age,roll,course,college):\n",
    "        self.name=name # duplicate code \n",
    "        self.age=age # duplicate code\n",
    "        self.roll=roll\n",
    "        self.course=course\n",
    "        self.college=college\n",
    "        \n",
    "    def printDeatils(self):\n",
    "        print(f'name is {self.name}') # duplicate code\n",
    "        print(f'age is {self.age}') # duplicate code\n",
    "        print(f'roll is {self.roll}')\n",
    "        print(f'course is {self.course}')\n",
    "        print(f'college is {self.college}')\n",
    "        \n",
    "        \n",
    "class Employee:\n",
    "    def __init__(self,name,age,eid,company,sal):\n",
    "        self.name=name ## duplicate code\n",
    "        self.age=age # duplicate code\n",
    "        self.eid=eid\n",
    "        self.company=company\n",
    "        self.sal=sal\n",
    "        \n",
    "    def printDeatils(self):\n",
    "        print(f'name is {self.name}')  # duplicate code\n",
    "        print(f'age is {self.age}') # duplicate code\n",
    "        print(f'eid is {self.eid}')\n",
    "        print(f'company is {self.company}')\n",
    "        print(f'sal is {self.sal}')\n",
    "        \n"
   ]
  },
  {
   "cell_type": "code",
   "execution_count": null,
   "metadata": {},
   "outputs": [],
   "source": [
    "# solution by using constructor overring "
   ]
  },
  {
   "cell_type": "code",
   "execution_count": 18,
   "metadata": {},
   "outputs": [
    {
     "name": "stdout",
     "output_type": "stream",
     "text": [
      "name is Priyanka\n",
      "age is 24\n",
      "roll is 101\n",
      "course is MSc\n",
      "college is XYZ College\n",
      "------\n",
      "name is Rahul\n",
      "age is 25\n",
      "eid is 1024\n",
      "company is E&N\n",
      "sal is 25000\n"
     ]
    }
   ],
   "source": [
    "class Human:\n",
    "    def __init__(self,name,age):\n",
    "        self.name=name\n",
    "        self.age=age\n",
    "        \n",
    "    def printDeatils(self):\n",
    "        print(f'name is {self.name}')\n",
    "        print(f'age is {self.age}')\n",
    "        \n",
    "class Student(Human):\n",
    "    def __init__(self,name,age,roll,course,college):\n",
    "        super().__init__(name,age)  # calling parent class constructor\n",
    "        self.roll=roll\n",
    "        self.course=course\n",
    "        self.college=college\n",
    "        \n",
    "    def printDeatils(self):\n",
    "        super().printDeatils()\n",
    "        print(f'roll is {self.roll}')\n",
    "        print(f'course is {self.course}')\n",
    "        print(f'college is {self.college}')\n",
    "        \n",
    "        \n",
    "class Employee(Human):\n",
    "    def __init__(self,name,age,eid,company,sal):\n",
    "        super().__init__(name,age)\n",
    "        self.eid=eid\n",
    "        self.company=company\n",
    "        self.sal=sal\n",
    "        \n",
    "    def printDeatils(self):\n",
    "        super().printDeatils()\n",
    "        print(f'eid is {self.eid}')\n",
    "        print(f'company is {self.company}')\n",
    "        print(f'sal is {self.sal}')\n",
    "        \n",
    "\n",
    "s=Student('Priyanka',24,101,'MSc','XYZ College')\n",
    "s.printDeatils()\n",
    "\n",
    "print('------')\n",
    "\n",
    "e=Employee('Rahul',25,1024,'E&N',25000)\n",
    "e.printDeatils()"
   ]
  }
 ],
 "metadata": {
  "kernelspec": {
   "display_name": "Python 3",
   "language": "python",
   "name": "python3"
  },
  "language_info": {
   "codemirror_mode": {
    "name": "ipython",
    "version": 3
   },
   "file_extension": ".py",
   "mimetype": "text/x-python",
   "name": "python",
   "nbconvert_exporter": "python",
   "pygments_lexer": "ipython3",
   "version": "3.8.5"
  }
 },
 "nbformat": 4,
 "nbformat_minor": 4
}
