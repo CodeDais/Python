{
 "cells": [
  {
   "cell_type": "code",
   "execution_count": null,
   "metadata": {},
   "outputs": [],
   "source": [
    "#method overrriding "
   ]
  },
  {
   "cell_type": "code",
   "execution_count": 12,
   "metadata": {},
   "outputs": [
    {
     "name": "stdout",
     "output_type": "stream",
     "text": [
      "i like new songs\n"
     ]
    }
   ],
   "source": [
    "class P:\n",
    "    def fav_songs(self):\n",
    "        print('i like old songs')\n",
    "        \n",
    "class C(P):\n",
    "    def fav_songs(self):\n",
    "        print('i like new songs')\n",
    "\n",
    "c=C()\n",
    "c.fav_songs()"
   ]
  },
  {
   "cell_type": "code",
   "execution_count": 14,
   "metadata": {},
   "outputs": [
    {
     "name": "stdout",
     "output_type": "stream",
     "text": [
      "6.16\n",
      "9\n"
     ]
    }
   ],
   "source": [
    "class Circle:\n",
    "    def area(self,r):\n",
    "        print(3.14*r*r)\n",
    "        \n",
    "class Triangle(Circle):\n",
    "    def area(self,b,h):\n",
    "        print(0.5*b*h)\n",
    "        \n",
    "class Square(Circle):\n",
    "    def area(self,s):\n",
    "        print(s*s)\n",
    "        \n",
    "t=Triangle()\n",
    "t.area(2.2,5.6)\n",
    "\n",
    "s=Square()\n",
    "s.area(3)\n"
   ]
  },
  {
   "cell_type": "code",
   "execution_count": 18,
   "metadata": {},
   "outputs": [
    {
     "name": "stdout",
     "output_type": "stream",
     "text": [
      "i like yamaha rx100\n",
      "i like touch screen mobile\n"
     ]
    }
   ],
   "source": [
    "class P:\n",
    "    def bike(self):\n",
    "        print('i like yamaha rx100')\n",
    "    def mob(slef):\n",
    "        print('i like keypad mobile')\n",
    "        \n",
    "class C(P):\n",
    "    def mob(self):\n",
    "        print('i like touch screen mobile')\n",
    "        \n",
    "c=C()\n",
    "c.bike()\n",
    "c.mob()"
   ]
  },
  {
   "cell_type": "code",
   "execution_count": 19,
   "metadata": {},
   "outputs": [
    {
     "name": "stdout",
     "output_type": "stream",
     "text": [
      "i like yamaha rx100\n",
      "i like touch screen mobile\n"
     ]
    }
   ],
   "source": [
    "class P:\n",
    "    def bike(self):\n",
    "        print('i like yamaha rx100')\n",
    "    def mob(slef):\n",
    "        print('i like keypad mobile')\n",
    "        \n",
    "class C(P):\n",
    "    def mob(self):\n",
    "        super().bike()\n",
    "        print('i like touch screen mobile')\n",
    "        \n",
    "c=C()\n",
    "c.mob()"
   ]
  }
 ],
 "metadata": {
  "kernelspec": {
   "display_name": "Python 3",
   "language": "python",
   "name": "python3"
  },
  "language_info": {
   "codemirror_mode": {
    "name": "ipython",
    "version": 3
   },
   "file_extension": ".py",
   "mimetype": "text/x-python",
   "name": "python",
   "nbconvert_exporter": "python",
   "pygments_lexer": "ipython3",
   "version": "3.8.5"
  }
 },
 "nbformat": 4,
 "nbformat_minor": 4
}
