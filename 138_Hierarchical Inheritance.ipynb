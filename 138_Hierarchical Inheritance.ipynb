{
 "cells": [
  {
   "cell_type": "code",
   "execution_count": 6,
   "metadata": {},
   "outputs": [
    {
     "name": "stdout",
     "output_type": "stream",
     "text": [
      "parent class method1\n",
      "parent class method2\n",
      "child class method5\n",
      "child class method6\n",
      "parent class method1\n"
     ]
    }
   ],
   "source": [
    "class A:\n",
    "    def method1(self):\n",
    "        print('parent class method1')\n",
    "    def method2(self):\n",
    "        print('parent class method2')\n",
    "class B(A):\n",
    "    def method3(self):\n",
    "        print('child class method3')\n",
    "    def method4(self):\n",
    "        print('child class method4')\n",
    "class C(A):\n",
    "    def method5(self):\n",
    "        print('child class method5')\n",
    "    def method6(self):\n",
    "        print('child class method6')\n",
    "        \n",
    "c=C()\n",
    "c.method1()\n",
    "c.method2()\n",
    "#c.method3() #C' object has no attribute 'method3'\n",
    "#c.method4() #C' object has no attribute 'method4'\n",
    "c.method5()\n",
    "c.method6()\n",
    "\n",
    "b=B()\n",
    "b.method1()\n",
    "b.method2()\n",
    "b.method3()\n",
    "b.method()"
   ]
  }
 ],
 "metadata": {
  "kernelspec": {
   "display_name": "Python 3",
   "language": "python",
   "name": "python3"
  },
  "language_info": {
   "codemirror_mode": {
    "name": "ipython",
    "version": 3
   },
   "file_extension": ".py",
   "mimetype": "text/x-python",
   "name": "python",
   "nbconvert_exporter": "python",
   "pygments_lexer": "ipython3",
   "version": "3.8.5"
  }
 },
 "nbformat": 4,
 "nbformat_minor": 4
}
