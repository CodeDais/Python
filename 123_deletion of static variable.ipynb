{
 "cells": [
  {
   "cell_type": "markdown",
   "metadata": {},
   "source": [
    "### Delition of Static variable in various places "
   ]
  },
  {
   "cell_type": "code",
   "execution_count": 6,
   "metadata": {},
   "outputs": [
    {
     "name": "stdout",
     "output_type": "stream",
     "text": [
      "{'__module__': '__main__', 'college': 'xyz college', 'princiapl': 'Dr. Chand', '__dict__': <attribute '__dict__' of 'Studnet' objects>, '__weakref__': <attribute '__weakref__' of 'Studnet' objects>, '__doc__': None}\n",
      "\n",
      "After deletion\n",
      " \n",
      "{'__module__': '__main__', 'college': 'xyz college', '__dict__': <attribute '__dict__' of 'Studnet' objects>, '__weakref__': <attribute '__weakref__' of 'Studnet' objects>, '__doc__': None}\n"
     ]
    }
   ],
   "source": [
    "#1. oustide of the class (by using class name )\n",
    "\n",
    "class Studnet:\n",
    "    college=\"xyz college\" \n",
    "    princiapl=\"Dr. Chand\"\n",
    "    \n",
    "print(Studnet.__dict__)\n",
    "\n",
    "del Studnet.princiapl #delete principal varaible \n",
    "print(\"\\nAfter deletion\\n \")\n",
    "print(Studnet.__dict__)\n"
   ]
  },
  {
   "cell_type": "code",
   "execution_count": 14,
   "metadata": {},
   "outputs": [
    {
     "name": "stdout",
     "output_type": "stream",
     "text": [
      "{'__module__': '__main__', 'college': 'abc college', 'princiapl': 'Dr. Chand', '__init__': <function Studnet.__init__ at 0x000001D2CF6CAC10>, '__dict__': <attribute '__dict__' of 'Studnet' objects>, '__weakref__': <attribute '__weakref__' of 'Studnet' objects>, '__doc__': None}\n",
      "\n",
      "after deletion \n",
      "\n",
      "{'__module__': '__main__', '__init__': <function Studnet.__init__ at 0x000001D2CF6CAC10>, '__dict__': <attribute '__dict__' of 'Studnet' objects>, '__weakref__': <attribute '__weakref__' of 'Studnet' objects>, '__doc__': None}\n"
     ]
    }
   ],
   "source": [
    "# 2. inside constructor (using class name )\n",
    "\n",
    "class Studnet:\n",
    "    college=\"abc college\" \n",
    "    princiapl=\"Dr. Chand\"\n",
    "    \n",
    "    def __init__(self):\n",
    "        #del Studnet.college\n",
    "        #del Studnet.princiapl\n",
    "        del Studnet.college,Studnet.princiapl #delete multiple variable \n",
    "print(Studnet.__dict__)\n",
    "s1=Studnet()\n",
    "print('\\nafter deletion \\n')\n",
    "print(Studnet.__dict__)"
   ]
  },
  {
   "cell_type": "code",
   "execution_count": 18,
   "metadata": {},
   "outputs": [
    {
     "name": "stdout",
     "output_type": "stream",
     "text": [
      "{'__module__': '__main__', 'college': 'def college', 'princiapl': 'Dr. Chand', 'dlt': <function Studnet.dlt at 0x000001D2CF6CAEE0>, '__dict__': <attribute '__dict__' of 'Studnet' objects>, '__weakref__': <attribute '__weakref__' of 'Studnet' objects>, '__doc__': None}\n",
      "\n",
      " after deleition \n",
      "\n",
      "{'__module__': '__main__', 'college': 'def college', 'dlt': <function Studnet.dlt at 0x000001D2CF6CAEE0>, '__dict__': <attribute '__dict__' of 'Studnet' objects>, '__weakref__': <attribute '__weakref__' of 'Studnet' objects>, '__doc__': None}\n"
     ]
    }
   ],
   "source": [
    "# 3. inside instance method (using classname)\n",
    "\n",
    "class Studnet:\n",
    "    college=\"def college\" \n",
    "    princiapl=\"Dr. Chand\"\n",
    "\n",
    "    def dlt(self):\n",
    "        del Studnet.princiapl\n",
    "        \n",
    "print(Studnet.__dict__)\n",
    "s1=Studnet()\n",
    "s1.dlt()\n",
    "print('\\n after deleition \\n')\n",
    "print(Studnet.__dict__)"
   ]
  },
  {
   "cell_type": "code",
   "execution_count": 30,
   "metadata": {},
   "outputs": [
    {
     "name": "stdout",
     "output_type": "stream",
     "text": [
      "{'__module__': '__main__', 'college': 'ijk college', 'princiapl': 'Dr. Chand', 'cm': <classmethod object at 0x000001D2CE91D3A0>, '__dict__': <attribute '__dict__' of 'Student' objects>, '__weakref__': <attribute '__weakref__' of 'Student' objects>, '__doc__': None}\n",
      "\n",
      "after delition\n",
      "{'__module__': '__main__', 'princiapl': 'Dr. Chand', 'cm': <classmethod object at 0x000001D2CE91D3A0>, '__dict__': <attribute '__dict__' of 'Student' objects>, '__weakref__': <attribute '__weakref__' of 'Student' objects>, '__doc__': None}\n"
     ]
    }
   ],
   "source": [
    "# 4. inside classmethod method (usisng class name)\n",
    "\n",
    "class Student:\n",
    "    college=\"ijk college\" \n",
    "    princiapl=\"Dr. Chand\"\n",
    "    \n",
    "    @classmethod\n",
    "    def cm(cls):\n",
    "        del Student.college\n",
    "    \n",
    "print(Student.__dict__)\n",
    "Student.cm()\n",
    "print(\"\\nafter delition\")\n",
    "print(Student.__dict__)"
   ]
  },
  {
   "cell_type": "code",
   "execution_count": 31,
   "metadata": {},
   "outputs": [
    {
     "name": "stdout",
     "output_type": "stream",
     "text": [
      "{'__module__': '__main__', 'college': 'lnm college', 'princiapl': 'Dr. Chand', 'cm': <classmethod object at 0x000001D2CE91DBE0>, '__dict__': <attribute '__dict__' of 'Student' objects>, '__weakref__': <attribute '__weakref__' of 'Student' objects>, '__doc__': None}\n",
      "\n",
      "after delition\n",
      "{'__module__': '__main__', 'princiapl': 'Dr. Chand', 'cm': <classmethod object at 0x000001D2CE91DBE0>, '__dict__': <attribute '__dict__' of 'Student' objects>, '__weakref__': <attribute '__weakref__' of 'Student' objects>, '__doc__': None}\n"
     ]
    }
   ],
   "source": [
    "# 4. inside classmethod method (usisng cls varaible)\n",
    "\n",
    "class Student:\n",
    "    college=\"lnm college\" \n",
    "    princiapl=\"Dr. Chand\"\n",
    "    \n",
    "    @classmethod\n",
    "    def cm(cls):\n",
    "        del cls.college\n",
    "    \n",
    "print(Student.__dict__)\n",
    "Student.cm()\n",
    "print(\"\\nafter delition\")\n",
    "print(Student.__dict__)"
   ]
  },
  {
   "cell_type": "code",
   "execution_count": 35,
   "metadata": {},
   "outputs": [
    {
     "name": "stdout",
     "output_type": "stream",
     "text": [
      "{'__module__': '__main__', 'college': 'stv college', 'princiapl': 'Dr. Chand', 'sm': <staticmethod object at 0x000001D2CEF8E100>, '__dict__': <attribute '__dict__' of 'Student' objects>, '__weakref__': <attribute '__weakref__' of 'Student' objects>, '__doc__': None}\n",
      "\n",
      "after delition\n",
      "\n",
      "{'__module__': '__main__', 'college': 'stv college', 'sm': <staticmethod object at 0x000001D2CEF8E100>, '__dict__': <attribute '__dict__' of 'Student' objects>, '__weakref__': <attribute '__weakref__' of 'Student' objects>, '__doc__': None}\n"
     ]
    }
   ],
   "source": [
    "# 5. inside stataic method (using class name )\n",
    "\n",
    "class Student:\n",
    "    college=\"stv college\" \n",
    "    princiapl=\"Dr. Chand\"\n",
    "    \n",
    "    @staticmethod\n",
    "    def sm():\n",
    "        del Student.princiapl\n",
    "        \n",
    "print(Student.__dict__)    \n",
    "s1=Student()\n",
    "s1.sm()\n",
    "print('\\nafter delition\\n')\n",
    "print(Student.__dict__)"
   ]
  },
  {
   "cell_type": "code",
   "execution_count": null,
   "metadata": {},
   "outputs": [],
   "source": []
  },
  {
   "cell_type": "code",
   "execution_count": null,
   "metadata": {},
   "outputs": [],
   "source": []
  },
  {
   "cell_type": "code",
   "execution_count": null,
   "metadata": {},
   "outputs": [],
   "source": []
  }
 ],
 "metadata": {
  "kernelspec": {
   "display_name": "Python 3",
   "language": "python",
   "name": "python3"
  },
  "language_info": {
   "codemirror_mode": {
    "name": "ipython",
    "version": 3
   },
   "file_extension": ".py",
   "mimetype": "text/x-python",
   "name": "python",
   "nbconvert_exporter": "python",
   "pygments_lexer": "ipython3",
   "version": "3.8.5"
  }
 },
 "nbformat": 4,
 "nbformat_minor": 4
}
