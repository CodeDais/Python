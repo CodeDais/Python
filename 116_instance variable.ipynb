{
 "cells": [
  {
   "cell_type": "markdown",
   "metadata": {},
   "source": [
    "### Creation of Instance variable "
   ]
  },
  {
   "cell_type": "code",
   "execution_count": 3,
   "metadata": {},
   "outputs": [
    {
     "name": "stdout",
     "output_type": "stream",
     "text": [
      "{'name': 'Priyanka', 'age': 24, 'roll': 1024}\n"
     ]
    }
   ],
   "source": [
    "# 1. craeteion of instance variable inside constructor \n",
    "\n",
    "class Student:\n",
    "    def __init__(self,name,age,roll):\n",
    "        self.name=name\n",
    "        self.age=age\n",
    "        self.roll=roll\n",
    "        \n",
    "s1=Student('Priyanka',24,1024)\n",
    "\n",
    "print(s1.__dict__)"
   ]
  },
  {
   "cell_type": "code",
   "execution_count": 8,
   "metadata": {},
   "outputs": [
    {
     "name": "stdout",
     "output_type": "stream",
     "text": [
      "{}\n",
      "{'name': 'rahul', 'age': 25, 'roll': 1025}\n"
     ]
    }
   ],
   "source": [
    "#creation of instance variable inside instace method \n",
    "class Student:\n",
    "    def create(self,name,age,roll):\n",
    "        self.name=name\n",
    "        self.age=age\n",
    "        self.roll=roll\n",
    "        \n",
    "s1=Student()\n",
    "print(s1.__dict__)\n",
    "s1.create('rahul',25,1025)\n",
    "print(s1.__dict__)\n"
   ]
  },
  {
   "cell_type": "code",
   "execution_count": 11,
   "metadata": {},
   "outputs": [
    {
     "name": "stdout",
     "output_type": "stream",
     "text": [
      "{'name': 'Zini'}\n",
      "{'name': 'Zini', 'age': 24}\n",
      "{'name': 'Zini', 'age': 24, 'roll': 1026}\n"
     ]
    }
   ],
   "source": [
    "#creation of instance variable outside of the class \n",
    "class Student:\n",
    "    def __init__(self,name):\n",
    "        self.name=name\n",
    "        \n",
    "s1=Student('Zini')\n",
    "print(s1.__dict__)\n",
    "s1.age=24      # craete instance variable outside of the class using ref var\n",
    "print(s1.__dict__)\n",
    "s1.roll=1026\n",
    "print(s1.__dict__)"
   ]
  }
 ],
 "metadata": {
  "kernelspec": {
   "display_name": "Python 3",
   "language": "python",
   "name": "python3"
  },
  "language_info": {
   "codemirror_mode": {
    "name": "ipython",
    "version": 3
   },
   "file_extension": ".py",
   "mimetype": "text/x-python",
   "name": "python",
   "nbconvert_exporter": "python",
   "pygments_lexer": "ipython3",
   "version": "3.8.5"
  }
 },
 "nbformat": 4,
 "nbformat_minor": 4
}
