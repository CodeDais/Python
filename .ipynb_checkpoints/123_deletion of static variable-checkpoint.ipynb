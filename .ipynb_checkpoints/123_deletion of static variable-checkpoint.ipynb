{
 "cells": [
  {
   "cell_type": "markdown",
   "metadata": {},
   "source": [
    "### Delition of Static variable in various places "
   ]
  },
  {
   "cell_type": "code",
   "execution_count": 6,
   "metadata": {},
   "outputs": [
    {
     "name": "stdout",
     "output_type": "stream",
     "text": [
      "{'__module__': '__main__', 'college': 'xyz college', 'princiapl': 'Dr. Chand', '__dict__': <attribute '__dict__' of 'Studnet' objects>, '__weakref__': <attribute '__weakref__' of 'Studnet' objects>, '__doc__': None}\n",
      "\n",
      "After deletion\n",
      " \n",
      "{'__module__': '__main__', 'college': 'xyz college', '__dict__': <attribute '__dict__' of 'Studnet' objects>, '__weakref__': <attribute '__weakref__' of 'Studnet' objects>, '__doc__': None}\n"
     ]
    }
   ],
   "source": [
    "#1. oustide of the class (by using class name )\n",
    "\n",
    "class Studnet:\n",
    "    college=\"xyz college\" \n",
    "    princiapl=\"Dr. Chand\"\n",
    "    \n",
    "print(Studnet.__dict__)\n",
    "\n",
    "del Studnet.princiapl #delete principal varaible \n",
    "print(\"\\nAfter deletion\\n \")\n",
    "print(Studnet.__dict__)\n"
   ]
  },
  {
   "cell_type": "code",
   "execution_count": 8,
   "metadata": {},
   "outputs": [
    {
     "name": "stdout",
     "output_type": "stream",
     "text": [
      "{'__module__': '__main__', 'college': 'abc college', 'princiapl': 'Dr. Chand', '__init__': <function Studnet.__init__ at 0x000001D2CCA61820>, '__dict__': <attribute '__dict__' of 'Studnet' objects>, '__weakref__': <attribute '__weakref__' of 'Studnet' objects>, '__doc__': None}\n"
     ]
    }
   ],
   "source": [
    "# 2. inside constructor \n",
    "\n",
    "class Studnet:\n",
    "    college=\"abc college\" \n",
    "    princiapl=\"Dr. Chand\"\n",
    "    \n",
    "    def __init__(self):\n",
    "        del Studnet.college\n",
    "        \n",
    "print(Studnet.__dict__)\n",
    "s1=Studnet()\n",
    "print('\\nafter deletion \\n')\n",
    "print(Studnet.__dict__)"
   ]
  },
  {
   "cell_type": "code",
   "execution_count": null,
   "metadata": {},
   "outputs": [],
   "source": []
  },
  {
   "cell_type": "code",
   "execution_count": null,
   "metadata": {},
   "outputs": [],
   "source": []
  },
  {
   "cell_type": "code",
   "execution_count": null,
   "metadata": {},
   "outputs": [],
   "source": []
  },
  {
   "cell_type": "code",
   "execution_count": null,
   "metadata": {},
   "outputs": [],
   "source": []
  },
  {
   "cell_type": "code",
   "execution_count": null,
   "metadata": {},
   "outputs": [],
   "source": []
  },
  {
   "cell_type": "code",
   "execution_count": null,
   "metadata": {},
   "outputs": [],
   "source": []
  },
  {
   "cell_type": "code",
   "execution_count": null,
   "metadata": {},
   "outputs": [],
   "source": []
  }
 ],
 "metadata": {
  "kernelspec": {
   "display_name": "Python 3",
   "language": "python",
   "name": "python3"
  },
  "language_info": {
   "codemirror_mode": {
    "name": "ipython",
    "version": 3
   },
   "file_extension": ".py",
   "mimetype": "text/x-python",
   "name": "python",
   "nbconvert_exporter": "python",
   "pygments_lexer": "ipython3",
   "version": "3.8.5"
  }
 },
 "nbformat": 4,
 "nbformat_minor": 4
}
