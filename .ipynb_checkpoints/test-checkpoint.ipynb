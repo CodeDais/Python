{
 "cells": [
  {
   "cell_type": "code",
   "execution_count": 12,
   "metadata": {},
   "outputs": [
    {
     "name": "stdout",
     "output_type": "stream",
     "text": [
      "addition is 120\n",
      "substraction is 300\n"
     ]
    }
   ],
   "source": [
    "##call static method ouside  of the class \n",
    "class Calculation:\n",
    "    \n",
    "    @staticmethod\n",
    "    def add(a,b):\n",
    "        print(f'addition is {a+b}')\n",
    "        \n",
    "    @staticmethod\n",
    "    def sub(a,b):\n",
    "        print(f'substraction is {a-b}')\n",
    "        \n",
    "Calculation.add(100,20)\n",
    "Calculation.sub(500,200)"
   ]
  },
  {
   "cell_type": "code",
   "execution_count": 15,
   "metadata": {},
   "outputs": [
    {
     "name": "stdout",
     "output_type": "stream",
     "text": [
      "addition is 110\n",
      "substraction is 8\n"
     ]
    }
   ],
   "source": [
    "c1=Calculation()\n",
    "c1.add(55,55)\n",
    "c1.sub(10,2)"
   ]
  },
  {
   "cell_type": "code",
   "execution_count": null,
   "metadata": {},
   "outputs": [],
   "source": [
    "#call static method inside of the class \n",
    "\n",
    "class Calculation:\n",
    "    \n",
    "    @staticmethod\n",
    "    def add(a,b):\n",
    "        print(f'addition is {a+b}')\n",
    "        Calculation.sub(100,50)\n",
    "        \n",
    "    @staticmethod\n",
    "    def sub(a,b):\n",
    "        print(f'substraction is {a-b}')\n",
    "        \n",
    "    "
   ]
  },
  {
   "cell_type": "code",
   "execution_count": 16,
   "metadata": {},
   "outputs": [
    {
     "name": "stdout",
     "output_type": "stream",
     "text": [
      "addition is 30\n"
     ]
    }
   ],
   "source": [
    "Calculation.add(10,20)"
   ]
  },
  {
   "cell_type": "code",
   "execution_count": null,
   "metadata": {},
   "outputs": [],
   "source": []
  }
 ],
 "metadata": {
  "kernelspec": {
   "display_name": "Python 3",
   "language": "python",
   "name": "python3"
  },
  "language_info": {
   "codemirror_mode": {
    "name": "ipython",
    "version": 3
   },
   "file_extension": ".py",
   "mimetype": "text/x-python",
   "name": "python",
   "nbconvert_exporter": "python",
   "pygments_lexer": "ipython3",
   "version": "3.8.5"
  }
 },
 "nbformat": 4,
 "nbformat_minor": 4
}
