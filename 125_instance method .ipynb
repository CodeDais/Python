{
 "cells": [
  {
   "cell_type": "markdown",
   "metadata": {},
   "source": [
    "#### Instance Method "
   ]
  },
  {
   "cell_type": "code",
   "execution_count": 16,
   "metadata": {},
   "outputs": [
    {
     "name": "stdout",
     "output_type": "stream",
     "text": [
      "addition is 15\n",
      "addition is 25\n"
     ]
    }
   ],
   "source": [
    "class Calculation:\n",
    "    def __init__(self,a,b):\n",
    "        self.a=a\n",
    "        self.b=b\n",
    "    \n",
    "    def add(self):\n",
    "        result=self.a+self.b\n",
    "        print(f'addition is {result}')\n",
    "       \n",
    "c1=Calculation(10,5)\n",
    "c1.add()\n",
    "c2=Calculation(20,5)\n",
    "c2.add()\n",
    "    "
   ]
  },
  {
   "cell_type": "code",
   "execution_count": 20,
   "metadata": {},
   "outputs": [
    {
     "name": "stdout",
     "output_type": "stream",
     "text": [
      "addition is 30\n",
      "substarction is -10\n",
      "addition is 850\n",
      "substarction is 150\n"
     ]
    }
   ],
   "source": [
    "#Ex2 call instnace method inside another instance method \n",
    "class Calculation:\n",
    "    def __init__(self,a,b):\n",
    "        self.a=a\n",
    "        self.b=b\n",
    "    \n",
    "    def add(self):\n",
    "        result=self.a+self.b\n",
    "        print(f'addition is {result}')\n",
    "        self.sub()\n",
    "        \n",
    "    def sub(self):\n",
    "        result=self.a-self.b\n",
    "        print(f'substarction is {result}')\n",
    "       \n",
    "c1=Calculation(10,20)\n",
    "c1.add()\n",
    "c2=Calculation(500,350)\n",
    "c2.add()"
   ]
  },
  {
   "cell_type": "code",
   "execution_count": 22,
   "metadata": {},
   "outputs": [
    {
     "name": "stdout",
     "output_type": "stream",
     "text": [
      "addition is 30\n",
      "substarction is -10\n"
     ]
    }
   ],
   "source": [
    "#Ex3 call instnace method outside of the class \n",
    "class Calculation:\n",
    "    def __init__(self,a,b):\n",
    "        self.a=a\n",
    "        self.b=b\n",
    "    \n",
    "    def add(self):\n",
    "        result=self.a+self.b\n",
    "        print(f'addition is {result}')\n",
    "        \n",
    "        \n",
    "    def sub(self):\n",
    "        result=self.a-self.b\n",
    "        print(f'substarction is {result}')\n",
    "       \n",
    "c1=Calculation(10,20)\n",
    "c1.add()\n",
    "c1.sub()"
   ]
  },
  {
   "cell_type": "code",
   "execution_count": 23,
   "metadata": {},
   "outputs": [
    {
     "name": "stdout",
     "output_type": "stream",
     "text": [
      "addition is 30\n",
      "substarction is -10\n",
      "substarction is -10\n"
     ]
    }
   ],
   "source": [
    "#Ex4 call instnace method outside of the class as well as inside class\n",
    "class Calculation:\n",
    "    def __init__(self,a,b):\n",
    "        self.a=a\n",
    "        self.b=b\n",
    "    \n",
    "    def add(self):\n",
    "        result=self.a+self.b\n",
    "        print(f'addition is {result}')\n",
    "        self.sub()\n",
    "        \n",
    "    def sub(self):\n",
    "        result=self.a-self.b\n",
    "        print(f'substarction is {result}')\n",
    "       \n",
    "c1=Calculation(10,20)\n",
    "c1.add()\n",
    "c1.sub()"
   ]
  },
  {
   "cell_type": "code",
   "execution_count": 29,
   "metadata": {},
   "outputs": [
    {
     "name": "stdout",
     "output_type": "stream",
     "text": [
      "{'a': 10, 'b': 20}\n",
      "{'a': 888, 'b': 999}\n",
      "{'b': 999}\n"
     ]
    }
   ],
   "source": [
    "#By using instance method we can perform various operations like modify, delete, etc.\n",
    "\n",
    "class Test:\n",
    "    def __init__(self,a,b):\n",
    "        self.a=a\n",
    "        self.b=b\n",
    "        \n",
    "    def update(self,m,n):\n",
    "        self.a=m\n",
    "        self.b=n\n",
    "    def delete(self):\n",
    "        del self.a\n",
    "        \n",
    "t1=Test(10,20)      \n",
    "print(t1.__dict__)\n",
    "t1.update(888,999)\n",
    "print(t1.__dict__)\n",
    "t1.delete()\n",
    "print(t1.__dict__)"
   ]
  },
  {
   "cell_type": "code",
   "execution_count": null,
   "metadata": {},
   "outputs": [],
   "source": []
  },
  {
   "cell_type": "code",
   "execution_count": null,
   "metadata": {},
   "outputs": [],
   "source": []
  },
  {
   "cell_type": "code",
   "execution_count": null,
   "metadata": {},
   "outputs": [],
   "source": []
  }
 ],
 "metadata": {
  "kernelspec": {
   "display_name": "Python 3",
   "language": "python",
   "name": "python3"
  },
  "language_info": {
   "codemirror_mode": {
    "name": "ipython",
    "version": 3
   },
   "file_extension": ".py",
   "mimetype": "text/x-python",
   "name": "python",
   "nbconvert_exporter": "python",
   "pygments_lexer": "ipython3",
   "version": "3.8.5"
  }
 },
 "nbformat": 4,
 "nbformat_minor": 4
}
