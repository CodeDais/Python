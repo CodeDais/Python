{
 "cells": [
  {
   "cell_type": "markdown",
   "metadata": {},
   "source": [
    "### Class Method "
   ]
  },
  {
   "cell_type": "code",
   "execution_count": 13,
   "metadata": {},
   "outputs": [
    {
     "name": "stdout",
     "output_type": "stream",
     "text": [
      "College name is xyz college\n",
      "Princiapl name is Dr. Chand\n",
      "College name is xyz college\n",
      "Princiapl name is Dr. Chand\n"
     ]
    }
   ],
   "source": [
    "class Student:\n",
    "    college='xyz college'\n",
    "    principal='Dr. Chand'\n",
    "    \n",
    "    @classmethod\n",
    "    def cm(cls):\n",
    "        print(f'College name is {cls.college}')\n",
    "        print(f'Princiapl name is {cls.principal}')\n",
    "        #print(id(cls))\n",
    "        #print(id(Student))\n",
    "\n",
    "Student.cm()\n",
    "\n",
    "# s1=Student()\n",
    "# s1.cm()\n"
   ]
  },
  {
   "cell_type": "code",
   "execution_count": 21,
   "metadata": {},
   "outputs": [
    {
     "name": "stdout",
     "output_type": "stream",
     "text": [
      "College name is xyz college\n",
      "College name is xyz university\n"
     ]
    }
   ],
   "source": [
    "#modify static variable value using class method \n",
    "class Student:\n",
    "    college='xyz college'\n",
    "    principal='Dr. Chand'\n",
    "    \n",
    "    @classmethod\n",
    "    def cm(cls):\n",
    "        print(f'College name is {cls.college}')\n",
    "    \n",
    "    \n",
    "    @classmethod\n",
    "    def modify(cls):\n",
    "        cls.college=\"xyz university\"\n",
    "        \n",
    "    @classmethod\n",
    "    def delete(cls):\n",
    "        del cls.principal\n",
    "        \n",
    "    @classmethod\n",
    "    def create(cls):\n",
    "        cls.address=\"Bbsr\"\n",
    "        \n",
    "Student.cm()    \n",
    "Student.modify()\n",
    "Student.cm()\n",
    "Student.delete()    \n",
    "Student.create()"
   ]
  },
  {
   "cell_type": "code",
   "execution_count": 22,
   "metadata": {},
   "outputs": [
    {
     "name": "stdout",
     "output_type": "stream",
     "text": [
      "{'__module__': '__main__', 'college': 'xyz university', 'cm': <classmethod object at 0x0000025B14CB0AC0>, 'modify': <classmethod object at 0x0000025B14720B20>, 'delete': <classmethod object at 0x0000025B14720EB0>, 'create': <classmethod object at 0x0000025B14720A30>, '__dict__': <attribute '__dict__' of 'Student' objects>, '__weakref__': <attribute '__weakref__' of 'Student' objects>, '__doc__': None, 'address': 'Bbsr'}\n"
     ]
    }
   ],
   "source": [
    "print(Student.__dict__)"
   ]
  },
  {
   "cell_type": "code",
   "execution_count": 1,
   "metadata": {},
   "outputs": [
    {
     "name": "stdout",
     "output_type": "stream",
     "text": [
      "College name is xyz college\n"
     ]
    }
   ],
   "source": [
    "#call classmethod inside another class method \n",
    "class Student:\n",
    "    college='xyz college'\n",
    "    principal='Dr. Chand'\n",
    "    \n",
    "    @classmethod\n",
    "    def cm(cls):\n",
    "        print(f'College name is {cls.college}')\n",
    "        Student.delete()\n",
    "        \n",
    "    @classmethod\n",
    "    def delete(cls):\n",
    "        del cls.principal\n",
    "        \n",
    "Student.cm()\n",
    "\n",
    "\n"
   ]
  },
  {
   "cell_type": "code",
   "execution_count": null,
   "metadata": {},
   "outputs": [],
   "source": []
  },
  {
   "cell_type": "code",
   "execution_count": 3,
   "metadata": {},
   "outputs": [
    {
     "name": "stdout",
     "output_type": "stream",
     "text": [
      "{'__module__': '__main__', 'college': 'xyz college', 'cm': <classmethod(<function Student.cm at 0x0000021ADF8076D0>)>, 'delete': <classmethod(<function Student.delete at 0x0000021ADF807370>)>, '__dict__': <attribute '__dict__' of 'Student' objects>, '__weakref__': <attribute '__weakref__' of 'Student' objects>, '__doc__': None}\n"
     ]
    }
   ],
   "source": [
    "print(Student.__dict__)"
   ]
  },
  {
   "cell_type": "code",
   "execution_count": null,
   "metadata": {},
   "outputs": [],
   "source": []
  },
  {
   "cell_type": "code",
   "execution_count": 10,
   "metadata": {},
   "outputs": [
    {
     "name": "stdout",
     "output_type": "stream",
     "text": [
      "30\n",
      "999\n",
      "888\n",
      "888\n"
     ]
    }
   ],
   "source": [
    "class Student:\n",
    "    x=999\n",
    "    y=888\n",
    "    @classmethod\n",
    "    def cm(cls):\n",
    "        print(cls.x)\n",
    "        Student.cm1()\n",
    "        cls.cm1()\n",
    "\n",
    "    @classmethod\n",
    "    def cm1(cls):\n",
    "        print(cls.y)\n",
    "\n",
    "    @staticmethod\n",
    "    def add(a,b):\n",
    "        print(a+b)\n",
    "        Student.cm()\n",
    "\n",
    "\n",
    "s1=Student()\n",
    "s1.add(10,20)"
   ]
  },
  {
   "cell_type": "code",
   "execution_count": null,
   "metadata": {},
   "outputs": [],
   "source": []
  }
 ],
 "metadata": {
  "kernelspec": {
   "display_name": "Python 3",
   "language": "python",
   "name": "python3"
  },
  "language_info": {
   "codemirror_mode": {
    "name": "ipython",
    "version": 3
   },
   "file_extension": ".py",
   "mimetype": "text/x-python",
   "name": "python",
   "nbconvert_exporter": "python",
   "pygments_lexer": "ipython3",
   "version": "3.10.1"
  }
 },
 "nbformat": 4,
 "nbformat_minor": 4
}
