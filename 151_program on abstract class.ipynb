{
 "cells": [
  {
   "cell_type": "code",
   "execution_count": null,
   "metadata": {},
   "outputs": [],
   "source": [
    "#program on abstract class\n",
    "#a abstract class can constion abstract method as well as concreate method "
   ]
  },
  {
   "cell_type": "code",
   "execution_count": 5,
   "metadata": {},
   "outputs": [
    {
     "name": "stdout",
     "output_type": "stream",
     "text": [
      "No. of seats is 6\n",
      "Normal break\n",
      "No. of seats is 7\n",
      "Special break\n",
      "No. of seats is 4\n",
      "Special with powerful break\n",
      "No. of seats is 5\n",
      "Normal break\n"
     ]
    }
   ],
   "source": [
    "from abc import ABC,abstractmethod\n",
    "class Car(ABC):\n",
    "    @abstractmethod\n",
    "    def no_of_setas(self):\n",
    "        pass\n",
    "    \n",
    "    def break_type(self):\n",
    "        print(\"Normal break\")\n",
    "        \n",
    "        \n",
    "class Suzuki(Car):\n",
    "    def no_of_setas(self):\n",
    "        print(\"No. of seats is 6\")\n",
    "        \n",
    "class Toyata(Car):\n",
    "    def no_of_setas(self):\n",
    "        print(\"No. of seats is 7\")\n",
    "    \n",
    "    def break_type(self):\n",
    "        print(\"Special break\")\n",
    "        \n",
    "class Audi(Car):\n",
    "    def no_of_setas(self):\n",
    "        print(\"No. of seats is 4\")\n",
    "    def break_type(self):\n",
    "        print(\"Special with powerful break\")\n",
    "        \n",
    "class Hundai(Car):\n",
    "    def no_of_setas(self):\n",
    "        print(\"No. of seats is 5\")\n",
    "        \n",
    "\n",
    "s=Suzuki()\n",
    "s.no_of_setas()\n",
    "s.break_type()\n",
    "   \n",
    "t=Toyata()\n",
    "t.no_of_setas()\n",
    "t.break_type()\n",
    "        \n",
    "a=Audi()\n",
    "a.no_of_setas()\n",
    "a.break_type()\n",
    "\n",
    "h=Hundai()\n",
    "h.no_of_setas()\n",
    "h.break_type()"
   ]
  },
  {
   "cell_type": "code",
   "execution_count": null,
   "metadata": {},
   "outputs": [],
   "source": []
  },
  {
   "cell_type": "code",
   "execution_count": null,
   "metadata": {},
   "outputs": [],
   "source": []
  },
  {
   "cell_type": "code",
   "execution_count": null,
   "metadata": {},
   "outputs": [],
   "source": []
  },
  {
   "cell_type": "code",
   "execution_count": null,
   "metadata": {},
   "outputs": [],
   "source": []
  }
 ],
 "metadata": {
  "kernelspec": {
   "display_name": "Python 3",
   "language": "python",
   "name": "python3"
  },
  "language_info": {
   "codemirror_mode": {
    "name": "ipython",
    "version": 3
   },
   "file_extension": ".py",
   "mimetype": "text/x-python",
   "name": "python",
   "nbconvert_exporter": "python",
   "pygments_lexer": "ipython3",
   "version": "3.8.5"
  }
 },
 "nbformat": 4,
 "nbformat_minor": 4
}
