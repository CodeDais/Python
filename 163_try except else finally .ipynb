{
 "cells": [
  {
   "cell_type": "code",
   "execution_count": 10,
   "metadata": {},
   "outputs": [],
   "source": [
    "#try except else finally "
   ]
  },
  {
   "cell_type": "code",
   "execution_count": 19,
   "metadata": {},
   "outputs": [
    {
     "name": "stdout",
     "output_type": "stream",
     "text": [
      "division by zero\n"
     ]
    }
   ],
   "source": [
    "try:\n",
    "    print(10/0)\n",
    "except ZeroDivisionError as z:\n",
    "    print(z)\n",
    "else:\n",
    "    print('i m else block') # here else block is not executing  beacuse of there is an execption in try block\n",
    "    "
   ]
  },
  {
   "cell_type": "code",
   "execution_count": 20,
   "metadata": {},
   "outputs": [
    {
     "name": "stdout",
     "output_type": "stream",
     "text": [
      "5.0\n",
      "i m else block\n"
     ]
    }
   ],
   "source": [
    "try:\n",
    "    print(10/2)\n",
    "except ZeroDivisionError as z:\n",
    "    print(z)\n",
    "else:\n",
    "    print('i m else block') # here else block is executing beacuse of there is not execption in try block\n",
    "    "
   ]
  },
  {
   "cell_type": "code",
   "execution_count": 23,
   "metadata": {},
   "outputs": [
    {
     "name": "stdout",
     "output_type": "stream",
     "text": [
      "30\n"
     ]
    }
   ],
   "source": [
    "# ex\n",
    "\n",
    "def add(a,b):\n",
    "    print(a+b)\n",
    "    \n",
    "add(10,20)"
   ]
  },
  {
   "cell_type": "code",
   "execution_count": 34,
   "metadata": {},
   "outputs": [
    {
     "name": "stdout",
     "output_type": "stream",
     "text": [
      "unsupported operand type(s) for +: 'int' and 'str'\n"
     ]
    }
   ],
   "source": [
    "\n",
    "def add(a,b):\n",
    "    try:\n",
    "        result=a+b\n",
    "    except TypeError as t:\n",
    "        print(t)\n",
    "    else:\n",
    "        print('addition result is : ',result)\n",
    "    \n",
    "add(10,'surendra')"
   ]
  },
  {
   "cell_type": "code",
   "execution_count": 2,
   "metadata": {},
   "outputs": [
    {
     "name": "stdout",
     "output_type": "stream",
     "text": [
      "addition result is :  30\n",
      "can only concatenate str (not \"int\") to str\n",
      "addition result is :  650\n"
     ]
    }
   ],
   "source": [
    "\n",
    "def add(a,b):\n",
    "    try:\n",
    "        result=a+b\n",
    "    except TypeError as t:\n",
    "        print(t)\n",
    "    else:\n",
    "        print('addition result is : ',result)\n",
    "    \n",
    "add(10,20)\n",
    "add('rahul',10)\n",
    "add(500,150)"
   ]
  },
  {
   "cell_type": "code",
   "execution_count": 3,
   "metadata": {},
   "outputs": [
    {
     "name": "stdout",
     "output_type": "stream",
     "text": [
      "addition result is :  30\n",
      "clean-up code\n",
      "can only concatenate str (not \"int\") to str\n",
      "clean-up code\n",
      "addition result is :  650\n",
      "clean-up code\n"
     ]
    }
   ],
   "source": [
    "\n",
    "def add(a,b):\n",
    "    try:\n",
    "        result=a+b\n",
    "    except TypeError as t:\n",
    "        print(t)\n",
    "    else:\n",
    "        print('addition result is : ',result)\n",
    "    finally:\n",
    "        print('clean-up code')\n",
    "add(10,20)\n",
    "add('rahul',10)\n",
    "add(500,150)"
   ]
  },
  {
   "cell_type": "code",
   "execution_count": 41,
   "metadata": {},
   "outputs": [
    {
     "ename": "SyntaxError",
     "evalue": "invalid syntax (<ipython-input-41-92fec60488cc>, line 9)",
     "output_type": "error",
     "traceback": [
      "\u001b[1;36m  File \u001b[1;32m\"<ipython-input-41-92fec60488cc>\"\u001b[1;36m, line \u001b[1;32m9\u001b[0m\n\u001b[1;33m    else:\u001b[0m\n\u001b[1;37m    ^\u001b[0m\n\u001b[1;31mSyntaxError\u001b[0m\u001b[1;31m:\u001b[0m invalid syntax\n"
     ]
    }
   ],
   "source": [
    "# order is importanat ( we cant change the order )\n",
    "def add(a,b):\n",
    "    try:\n",
    "        result=a+b\n",
    "    except TypeError as t:\n",
    "        print(t)\n",
    "    finally:\n",
    "        print('clean-up code')\n",
    "    else:\n",
    "        print('addition result is : ',result)\n",
    "add(10,20)\n"
   ]
  },
  {
   "cell_type": "code",
   "execution_count": 42,
   "metadata": {},
   "outputs": [
    {
     "ename": "SyntaxError",
     "evalue": "invalid syntax (<ipython-input-42-ae6538913b42>, line 5)",
     "output_type": "error",
     "traceback": [
      "\u001b[1;36m  File \u001b[1;32m\"<ipython-input-42-ae6538913b42>\"\u001b[1;36m, line \u001b[1;32m5\u001b[0m\n\u001b[1;33m    else:\u001b[0m\n\u001b[1;37m    ^\u001b[0m\n\u001b[1;31mSyntaxError\u001b[0m\u001b[1;31m:\u001b[0m invalid syntax\n"
     ]
    }
   ],
   "source": [
    "# order is importanat ( we cant change the order )\n",
    "def add(a,b):\n",
    "    try:\n",
    "        result=a+b\n",
    "    else:\n",
    "        print('addition result is : ',result)\n",
    "    except TypeError as t:\n",
    "        print(t)\n",
    "    finally:\n",
    "        print('clean-up code')\n",
    "    \n",
    "add(10,20)\n"
   ]
  }
 ],
 "metadata": {
  "kernelspec": {
   "display_name": "Python 3",
   "language": "python",
   "name": "python3"
  },
  "language_info": {
   "codemirror_mode": {
    "name": "ipython",
    "version": 3
   },
   "file_extension": ".py",
   "mimetype": "text/x-python",
   "name": "python",
   "nbconvert_exporter": "python",
   "pygments_lexer": "ipython3",
   "version": "3.8.5"
  }
 },
 "nbformat": 4,
 "nbformat_minor": 4
}
