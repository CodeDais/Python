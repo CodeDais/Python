{
 "cells": [
  {
   "cell_type": "markdown",
   "metadata": {},
   "source": [
    "### modify Static varaible value"
   ]
  },
  {
   "cell_type": "code",
   "execution_count": 20,
   "metadata": {},
   "outputs": [
    {
     "name": "stdout",
     "output_type": "stream",
     "text": [
      "xyz college\n",
      "abc college\n"
     ]
    }
   ],
   "source": [
    "# 1. outside of the class\n",
    "\n",
    "class Student:\n",
    "    college=\"xyz college\" # static varaiable\n",
    "    \n",
    "print(Student.college)  \n",
    "Student.college=\"abc college\"\n",
    "print(Student.college)"
   ]
  },
  {
   "cell_type": "code",
   "execution_count": 22,
   "metadata": {},
   "outputs": [
    {
     "name": "stdout",
     "output_type": "stream",
     "text": [
      "abc college\n",
      "def college\n"
     ]
    }
   ],
   "source": [
    "#2. inside constructor\n",
    "\n",
    "class Student:\n",
    "    college=\"abc college\"\n",
    "    \n",
    "    def __init__(self):\n",
    "        Student.college=\"def college\"\n",
    "        \n",
    "print(Student.college)\n",
    "\n",
    "s1=Student()\n",
    "\n",
    "print(Student.college)"
   ]
  },
  {
   "cell_type": "code",
   "execution_count": 23,
   "metadata": {},
   "outputs": [
    {
     "name": "stdout",
     "output_type": "stream",
     "text": [
      "{}\n"
     ]
    }
   ],
   "source": [
    "print(s1.__dict__)"
   ]
  },
  {
   "cell_type": "code",
   "execution_count": 24,
   "metadata": {},
   "outputs": [
    {
     "name": "stdout",
     "output_type": "stream",
     "text": [
      "{'__module__': '__main__', 'college': 'def college', '__init__': <function Student.__init__ at 0x000002111249FF70>, '__dict__': <attribute '__dict__' of 'Student' objects>, '__weakref__': <attribute '__weakref__' of 'Student' objects>, '__doc__': None}\n"
     ]
    }
   ],
   "source": [
    "print(Student.__dict__)"
   ]
  },
  {
   "cell_type": "code",
   "execution_count": 29,
   "metadata": {},
   "outputs": [
    {
     "name": "stdout",
     "output_type": "stream",
     "text": [
      "ijk college\n",
      "lmn college\n"
     ]
    }
   ],
   "source": [
    "# 3. inside instance method \n",
    "\n",
    "class Student:\n",
    "    college=\"ijk college\"\n",
    "    \n",
    "    def modify(self):\n",
    "        Student.college=\"lmn college\"\n",
    "        \n",
    "print(Student.college)\n",
    "s1=Student()\n",
    "s1.modify()\n",
    "\n",
    "print(Student.college)"
   ]
  },
  {
   "cell_type": "code",
   "execution_count": 36,
   "metadata": {},
   "outputs": [
    {
     "name": "stdout",
     "output_type": "stream",
     "text": [
      "opq college\n",
      "stv college\n"
     ]
    }
   ],
   "source": [
    "#4. inside class method (usinsg class name )\n",
    "\n",
    "class Student:\n",
    "    college=\"opq college\"\n",
    "    \n",
    "    @classmethod\n",
    "    def cm(cls):\n",
    "        Student.college=\"stv college\" # modify\n",
    "        \n",
    "print(Student.college)\n",
    "s1=Student()\n",
    "s1.cm()\n",
    "print(Student.college)"
   ]
  },
  {
   "cell_type": "code",
   "execution_count": 39,
   "metadata": {},
   "outputs": [
    {
     "name": "stdout",
     "output_type": "stream",
     "text": [
      "opq college\n",
      "stv college\n"
     ]
    }
   ],
   "source": [
    "#4. inside class method (usinsg cls varaiable )\n",
    "\n",
    "class Student:\n",
    "    college=\"opq college\"\n",
    "    \n",
    "    @classmethod\n",
    "    def cm(cls):\n",
    "        cls.college=\"stv college\" # modify\n",
    "        \n",
    "print(Student.college)\n",
    "s1=Student()\n",
    "s1.cm()\n",
    "print(Student.college)"
   ]
  },
  {
   "cell_type": "code",
   "execution_count": 35,
   "metadata": {},
   "outputs": [
    {
     "name": "stdout",
     "output_type": "stream",
     "text": [
      "uvx college\n",
      "xyz college\n"
     ]
    }
   ],
   "source": [
    "#. 5. inside static method \n",
    "\n",
    "class Student:\n",
    "    college=\"uvx college\"\n",
    "    \n",
    "    @staticmethod\n",
    "    def sm():\n",
    "        Student.college=\"xyz college\"\n",
    "        \n",
    "print(Student.college)\n",
    "s1=Student()\n",
    "s1.sm()\n",
    "print(Student.college)"
   ]
  },
  {
   "cell_type": "code",
   "execution_count": null,
   "metadata": {},
   "outputs": [],
   "source": [
    "#modifying static variable valaues using self / objcet referenace "
   ]
  },
  {
   "cell_type": "code",
   "execution_count": 41,
   "metadata": {},
   "outputs": [
    {
     "name": "stdout",
     "output_type": "stream",
     "text": [
      "xyz college\n",
      "xyz college\n"
     ]
    }
   ],
   "source": [
    "# modify using self ( unexcepted result )\n",
    "class Student:\n",
    "    college='xyz college'\n",
    "    \n",
    "    def __init__(self):\n",
    "        self.college=\"abc college\"  # it will craete instance variable instread of modifying static variable \n",
    "        \n",
    "print(Student.college)\n",
    "s1=Student()\n",
    "print(Student.college)"
   ]
  },
  {
   "cell_type": "code",
   "execution_count": 43,
   "metadata": {},
   "outputs": [
    {
     "name": "stdout",
     "output_type": "stream",
     "text": [
      "{'__module__': '__main__', 'college': 'xyz college', '__init__': <function Student.__init__ at 0x0000021113045EE0>, '__dict__': <attribute '__dict__' of 'Student' objects>, '__weakref__': <attribute '__weakref__' of 'Student' objects>, '__doc__': None}\n"
     ]
    }
   ],
   "source": [
    "print(Student.__dict__)"
   ]
  },
  {
   "cell_type": "code",
   "execution_count": 45,
   "metadata": {},
   "outputs": [
    {
     "name": "stdout",
     "output_type": "stream",
     "text": [
      "{'college': 'abc college'}\n"
     ]
    }
   ],
   "source": [
    "print(s1.__dict__)"
   ]
  },
  {
   "cell_type": "code",
   "execution_count": 49,
   "metadata": {},
   "outputs": [
    {
     "name": "stdout",
     "output_type": "stream",
     "text": [
      "xyz college\n",
      "xyz college\n"
     ]
    }
   ],
   "source": [
    "# modify using referance variable ( unexcepted result )\n",
    "class Student:\n",
    "    college='xyz college'\n",
    "    \n",
    "s1=Student()\n",
    "print(Student.college)\n",
    "s1.college='abc college' # it will craete instance variable  for s1 objcet \n",
    "print(Student.college)"
   ]
  },
  {
   "cell_type": "code",
   "execution_count": 50,
   "metadata": {},
   "outputs": [
    {
     "name": "stdout",
     "output_type": "stream",
     "text": [
      "{'college': 'abc college'}\n"
     ]
    }
   ],
   "source": [
    "print(s1.__dict__)"
   ]
  }
 ],
 "metadata": {
  "kernelspec": {
   "display_name": "Python 3",
   "language": "python",
   "name": "python3"
  },
  "language_info": {
   "codemirror_mode": {
    "name": "ipython",
    "version": 3
   },
   "file_extension": ".py",
   "mimetype": "text/x-python",
   "name": "python",
   "nbconvert_exporter": "python",
   "pygments_lexer": "ipython3",
   "version": "3.8.5"
  }
 },
 "nbformat": 4,
 "nbformat_minor": 4
}
