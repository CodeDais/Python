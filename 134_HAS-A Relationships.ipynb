{
 "cells": [
  {
   "cell_type": "code",
   "execution_count": 2,
   "metadata": {},
   "outputs": [
    {
     "name": "stdout",
     "output_type": "stream",
     "text": [
      "Employee Name is Priyanka\n",
      "Employee ID is 1024\n",
      "Employee Address is Cuttack\n",
      "Car Name is Thar\n",
      "Car Color is Black\n",
      "Car Price is 1800000\n"
     ]
    }
   ],
   "source": [
    "#example of HAS-A Relationship \n",
    "\n",
    "class Car:\n",
    "    def __init__(self,cname,ccolor,cprice):\n",
    "        self.cname=cname\n",
    "        self.ccolor=ccolor\n",
    "        self.cprice=cprice\n",
    "    def printCarDetails(self):\n",
    "        print(f'Car Name is {self.cname}')\n",
    "        print(f'Car Color is {self.ccolor}')\n",
    "        print(f'Car Price is {self.cprice}')\n",
    "        \n",
    "class Employee:\n",
    "    def __init__(self,ename,eid,eaddress):\n",
    "        self.ename=ename\n",
    "        self.eid=eid\n",
    "        self.eaddress=eaddress\n",
    "        self.c=Car('Thar','Black',1800000) #object creation of Car class\n",
    "    def printEmpDetails(self):\n",
    "        print(f'Employee Name is {self.ename}')\n",
    "        print(f'Employee ID is {self.eid}')\n",
    "        print(f'Employee Address is {self.eaddress}')\n",
    "        self.c.printCarDetails()\n",
    "                  \n",
    "e=Employee('Priyanka',1024,'Cuttack')\n",
    "e.printEmpDetails()"
   ]
  },
  {
   "cell_type": "code",
   "execution_count": 8,
   "metadata": {},
   "outputs": [
    {
     "name": "stdout",
     "output_type": "stream",
     "text": [
      "Employee Name is Priyanka\n",
      "Employee ID is 1024\n",
      "Employee Address is Cuttack\n",
      "Car Name is Thar\n",
      "Car Color is Black\n",
      "Car Price is 1800000\n",
      "Laptop Name is Hp Envy\n",
      "Laptop Color is Black\n",
      "Laptop Price is 95000\n"
     ]
    }
   ],
   "source": [
    "#example of HAS-A Relationship \n",
    "\n",
    "class Car:\n",
    "    def __init__(self,cname,ccolor,cprice):\n",
    "        self.cname=cname\n",
    "        self.ccolor=ccolor\n",
    "        self.cprice=cprice\n",
    "    def printCarDetails(self):\n",
    "        print(f'Car Name is {self.cname}')\n",
    "        print(f'Car Color is {self.ccolor}')\n",
    "        print(f'Car Price is {self.cprice}')\n",
    "\n",
    "class Laptop:\n",
    "    def __init__(self,lname,lcolor,lprice):\n",
    "        self.lname=lname\n",
    "        self.lcolor=lcolor\n",
    "        self.lprice=lprice\n",
    "    def printLaptopDetails(self):\n",
    "        print(f'Laptop Name is {self.lname}')\n",
    "        print(f'Laptop Color is {self.lcolor}')\n",
    "        print(f'Laptop Price is {self.lprice}')\n",
    "        \n",
    "class Employee:\n",
    "    def __init__(self,ename,eid,eaddress):\n",
    "        self.ename=ename\n",
    "        self.eid=eid\n",
    "        self.eaddress=eaddress\n",
    "        self.c=Car('Thar','Black',1800000) #object creation of Car class\n",
    "        self.l=Laptop('Hp Envy','Black',95000) #object creation of Laptop class\n",
    "    def printEmpDetails(self):\n",
    "        print(f'Employee Name is {self.ename}')\n",
    "        print(f'Employee ID is {self.eid}')\n",
    "        print(f'Employee Address is {self.eaddress}')\n",
    "        self.c.printCarDetails()\n",
    "        self.l.printLaptopDetails()\n",
    "                  \n",
    "e=Employee('Priyanka',1024,'Cuttack')\n",
    "e.printEmpDetails()\n"
   ]
  },
  {
   "cell_type": "code",
   "execution_count": 9,
   "metadata": {},
   "outputs": [
    {
     "ename": "SyntaxError",
     "evalue": "invalid syntax (<ipython-input-9-970f52223a9b>, line 1)",
     "output_type": "error",
     "traceback": [
      "\u001b[1;36m  File \u001b[1;32m\"<ipython-input-9-970f52223a9b>\"\u001b[1;36m, line \u001b[1;32m1\u001b[0m\n\u001b[1;33m    NOTE : Without existance of container Object there is no existance of\u001b[0m\n\u001b[1;37m                   ^\u001b[0m\n\u001b[1;31mSyntaxError\u001b[0m\u001b[1;31m:\u001b[0m invalid syntax\n"
     ]
    }
   ],
   "source": [
    "NOTE : Without existance of container Object there is no existance of \n",
    "    contained object .\n",
    "    \n",
    "Ex : here if Employee object is not existed then there is no chance of \n",
    "    existance of car and laptop object\n",
    "    \n",
    "    \n",
    "    \n",
    "    \n",
    "    \n",
    "    \n",
    "    "
   ]
  },
  {
   "cell_type": "code",
   "execution_count": 32,
   "metadata": {},
   "outputs": [
    {
     "name": "stdout",
     "output_type": "stream",
     "text": [
      "University Name is XYZ University\n",
      "University Address is Bbsr\n",
      "Dept Name is CSE\n",
      "Did is 101\n",
      "Dept Name is ECE\n",
      "Did is 102\n",
      "Dept Name is AI/ML\n",
      "Did is 103\n",
      "Dept Name is ECE\n",
      "Did is 104\n"
     ]
    }
   ],
   "source": [
    "#Example \n",
    "\n",
    "class Dept:\n",
    "    def __init__(self,dname,did):\n",
    "        self.dname=dname\n",
    "        self.did=did\n",
    "    def printDeptDetails(self):\n",
    "        print(f'Dept Name is {self.dname}')\n",
    "        print(f'Did is {self.did}')\n",
    "        \n",
    "class University:\n",
    "    def __init__(self,uname,uaddress):\n",
    "        self.uname=uname\n",
    "        self.uaddress=uaddress\n",
    "        self.d=Dept('CSE',101) # HAS-A relationship\n",
    "        self.d1=Dept('ECE',102)\n",
    "        self.d2=Dept('AI/ML',103)\n",
    "        self.d3=Dept('ECE',104)\n",
    "    def printUniversityDetails(self):\n",
    "        \n",
    "        print(f'University Name is {self.uname}')\n",
    "        print(f'University Address is {self.uaddress}')\n",
    "        self.d.printDeptDetails()\n",
    "        self.d1.printDeptDetails()\n",
    "        self.d2.printDeptDetails()\n",
    "        self.d3.printDeptDetails()\n",
    "        \n",
    "u=University('XYZ University','Bbsr')\n",
    "u.printUniversityDetails()\n"
   ]
  }
 ],
 "metadata": {
  "kernelspec": {
   "display_name": "Python 3",
   "language": "python",
   "name": "python3"
  },
  "language_info": {
   "codemirror_mode": {
    "name": "ipython",
    "version": 3
   },
   "file_extension": ".py",
   "mimetype": "text/x-python",
   "name": "python",
   "nbconvert_exporter": "python",
   "pygments_lexer": "ipython3",
   "version": "3.8.5"
  }
 },
 "nbformat": 4,
 "nbformat_minor": 4
}
