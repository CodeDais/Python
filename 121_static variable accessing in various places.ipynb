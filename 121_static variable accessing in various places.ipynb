{
 "cells": [
  {
   "cell_type": "markdown",
   "metadata": {},
   "source": [
    "### Static Variable accessing in different places "
   ]
  },
  {
   "cell_type": "code",
   "execution_count": 3,
   "metadata": {},
   "outputs": [
    {
     "name": "stdout",
     "output_type": "stream",
     "text": [
      "xyz college\n"
     ]
    }
   ],
   "source": [
    "#1. ouside of the class \n",
    "\n",
    "class Student:\n",
    "    college=\"xyz college\" # static variable\n",
    "    \n",
    "print(Student.college)"
   ]
  },
  {
   "cell_type": "code",
   "execution_count": 4,
   "metadata": {},
   "outputs": [
    {
     "name": "stdout",
     "output_type": "stream",
     "text": [
      "abc college\n"
     ]
    }
   ],
   "source": [
    "#2. inside constructor \n",
    "\n",
    "class Student:\n",
    "    college=\"abc college\"\n",
    "    \n",
    "    def __init__(self):\n",
    "        print(Student.college)\n",
    "        \n",
    "s1=Student()"
   ]
  },
  {
   "cell_type": "code",
   "execution_count": 6,
   "metadata": {},
   "outputs": [
    {
     "name": "stdout",
     "output_type": "stream",
     "text": [
      "def college\n"
     ]
    }
   ],
   "source": [
    "#3. inside instance method \n",
    "\n",
    "class Student:\n",
    "    college=\"def college\"\n",
    "    \n",
    "    def display(self):\n",
    "        print(Student.college)\n",
    "        \n",
    "s1=Student()\n",
    "s1.display()"
   ]
  },
  {
   "cell_type": "code",
   "execution_count": 7,
   "metadata": {},
   "outputs": [
    {
     "name": "stdout",
     "output_type": "stream",
     "text": [
      "ijk college\n"
     ]
    }
   ],
   "source": [
    "#4. inside class method (using class name)\n",
    "\n",
    "class Student:\n",
    "    college=\"ijk college\"\n",
    "    \n",
    "    @classmethod\n",
    "    def cm(cls):\n",
    "        print(Student.college) # accesing static varaible using class name \n",
    "\n",
    "Student.cm()"
   ]
  },
  {
   "cell_type": "code",
   "execution_count": 9,
   "metadata": {},
   "outputs": [
    {
     "name": "stdout",
     "output_type": "stream",
     "text": [
      "lmn college\n"
     ]
    }
   ],
   "source": [
    "#4. inside class method (using cls variable)\n",
    "\n",
    "class Student:\n",
    "    college=\"lmn college\"\n",
    "    \n",
    "    @classmethod\n",
    "    def cm(cls):\n",
    "        print(cls.college) # accesing static varaible using class name \n",
    "\n",
    "Student.cm()"
   ]
  },
  {
   "cell_type": "code",
   "execution_count": 11,
   "metadata": {},
   "outputs": [
    {
     "name": "stdout",
     "output_type": "stream",
     "text": [
      "stv college\n"
     ]
    }
   ],
   "source": [
    "# 5. inside static method\n",
    "\n",
    "class Student:\n",
    "    college=\"stv college\"\n",
    "    \n",
    "    @staticmethod\n",
    "    def sm():\n",
    "        print(Student.college)\n",
    "        \n",
    "s1=Student()\n",
    "s1.sm()"
   ]
  },
  {
   "cell_type": "code",
   "execution_count": 12,
   "metadata": {},
   "outputs": [
    {
     "name": "stdout",
     "output_type": "stream",
     "text": [
      "{'__module__': '__main__', 'college': 'stv college', 'sm': <staticmethod object at 0x0000015D9E5735E0>, '__dict__': <attribute '__dict__' of 'Student' objects>, '__weakref__': <attribute '__weakref__' of 'Student' objects>, '__doc__': None}\n"
     ]
    }
   ],
   "source": [
    "print(Student.__dict__)"
   ]
  },
  {
   "cell_type": "code",
   "execution_count": 13,
   "metadata": {},
   "outputs": [
    {
     "name": "stdout",
     "output_type": "stream",
     "text": [
      "{}\n"
     ]
    }
   ],
   "source": [
    "print(s1.__dict__)"
   ]
  },
  {
   "cell_type": "code",
   "execution_count": null,
   "metadata": {},
   "outputs": [],
   "source": []
  }
 ],
 "metadata": {
  "kernelspec": {
   "display_name": "Python 3",
   "language": "python",
   "name": "python3"
  },
  "language_info": {
   "codemirror_mode": {
    "name": "ipython",
    "version": 3
   },
   "file_extension": ".py",
   "mimetype": "text/x-python",
   "name": "python",
   "nbconvert_exporter": "python",
   "pygments_lexer": "ipython3",
   "version": "3.8.5"
  }
 },
 "nbformat": 4,
 "nbformat_minor": 4
}
