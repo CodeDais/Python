{
 "cells": [
  {
   "cell_type": "code",
   "execution_count": null,
   "metadata": {},
   "outputs": [],
   "source": [
    "import random \n",
    "rn=random.randint(1,10)\n",
    "\n",
    "while True:\n",
    "    choice=int(input(\"Guess a number in between 1 - 10 : \"))\n",
    "    \n",
    "    if choice==rn:\n",
    "        print(\"cong!!! your guess corrent number\")\n",
    "        break\n",
    "    elif choice>rn:\n",
    "        print('sry!!! your guess number is greater than computer generated no.')\n",
    "    else:\n",
    "        print('sry!!! your guess number is less than computer generated no.')"
   ]
  }
 ],
 "metadata": {
  "kernelspec": {
   "display_name": "Python 3",
   "language": "python",
   "name": "python3"
  },
  "language_info": {
   "codemirror_mode": {
    "name": "ipython",
    "version": 3
   },
   "file_extension": ".py",
   "mimetype": "text/x-python",
   "name": "python",
   "nbconvert_exporter": "python",
   "pygments_lexer": "ipython3",
   "version": "3.8.5"
  }
 },
 "nbformat": 4,
 "nbformat_minor": 4
}
