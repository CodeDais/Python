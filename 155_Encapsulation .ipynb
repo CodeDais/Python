{
 "cells": [
  {
   "cell_type": "code",
   "execution_count": null,
   "metadata": {},
   "outputs": [],
   "source": [
    "#Encapulation "
   ]
  },
  {
   "cell_type": "code",
   "execution_count": 21,
   "metadata": {},
   "outputs": [
    {
     "name": "stdout",
     "output_type": "stream",
     "text": [
      "50000000000\n",
      "60\n"
     ]
    }
   ],
   "source": [
    "# accendintal modification \n",
    "\n",
    "class College:\n",
    "    def __init__(self):\n",
    "        self.balanace=50000000000\n",
    "        \n",
    "       \n",
    "c=College()\n",
    "print(c.balanace)\n",
    "c.balanace=60\n",
    "print(c.balanace)\n"
   ]
  },
  {
   "cell_type": "code",
   "execution_count": 23,
   "metadata": {},
   "outputs": [
    {
     "ename": "AttributeError",
     "evalue": "'College' object has no attribute 'balanace'",
     "output_type": "error",
     "traceback": [
      "\u001b[1;31m---------------------------------------------------------------------------\u001b[0m",
      "\u001b[1;31mAttributeError\u001b[0m                            Traceback (most recent call last)",
      "\u001b[1;32m<ipython-input-23-f0f1816a404e>\u001b[0m in \u001b[0;36m<module>\u001b[1;34m\u001b[0m\n\u001b[0;32m      6\u001b[0m \u001b[1;33m\u001b[0m\u001b[0m\n\u001b[0;32m      7\u001b[0m \u001b[0mc\u001b[0m\u001b[1;33m=\u001b[0m\u001b[0mCollege\u001b[0m\u001b[1;33m(\u001b[0m\u001b[1;33m)\u001b[0m\u001b[1;33m\u001b[0m\u001b[1;33m\u001b[0m\u001b[0m\n\u001b[1;32m----> 8\u001b[1;33m \u001b[0mprint\u001b[0m\u001b[1;33m(\u001b[0m\u001b[0mc\u001b[0m\u001b[1;33m.\u001b[0m\u001b[0mbalanace\u001b[0m\u001b[1;33m)\u001b[0m\u001b[1;33m\u001b[0m\u001b[1;33m\u001b[0m\u001b[0m\n\u001b[0m",
      "\u001b[1;31mAttributeError\u001b[0m: 'College' object has no attribute 'balanace'"
     ]
    }
   ],
   "source": [
    "# prevention accendintal modification \n",
    "class College:\n",
    "    def __init__(self):\n",
    "        self.__balanace=50000000000  # private variable \n",
    "        \n",
    "       \n",
    "c=College()\n",
    "print(c.balanace)"
   ]
  },
  {
   "cell_type": "code",
   "execution_count": 25,
   "metadata": {},
   "outputs": [
    {
     "name": "stdout",
     "output_type": "stream",
     "text": [
      "50000000000\n"
     ]
    }
   ],
   "source": [
    "#Encasulation \n",
    "\n",
    "class College:\n",
    "    def __init__(self):\n",
    "        self.__balanace=50000000000  # private variable \n",
    "        \n",
    "    def getBalanace(self):\n",
    "        return self.__balanace\n",
    "    \n",
    "c=College()\n",
    "print(c.getBalanace())\n"
   ]
  },
  {
   "cell_type": "code",
   "execution_count": 28,
   "metadata": {},
   "outputs": [
    {
     "name": "stdout",
     "output_type": "stream",
     "text": [
      "Invaild user\n"
     ]
    }
   ],
   "source": [
    "#Encasulation \n",
    "\n",
    "class College:\n",
    "    def __init__(self):\n",
    "        self.__balanace=50000000000  # private variable \n",
    "        \n",
    "    def getBalanace(self,password):\n",
    "        if password==1005:\n",
    "            return self.__balanace\n",
    "        else:\n",
    "            return \"Invaild user\"\n",
    "    \n",
    "c=College()\n",
    "print(c.getBalanace(1003))"
   ]
  },
  {
   "cell_type": "code",
   "execution_count": 32,
   "metadata": {},
   "outputs": [
    {
     "name": "stdout",
     "output_type": "stream",
     "text": [
      "50000000000\n",
      "50000000000\n",
      "Invaild user\n"
     ]
    }
   ],
   "source": [
    "class College:\n",
    "    def __init__(self):\n",
    "        self.__balanace=50000000000  # private variable \n",
    "        \n",
    "    def getBalanace(self,password):\n",
    "        if password==1005 or password==2009:\n",
    "            return self.__balanace\n",
    "        else:\n",
    "            return \"Invaild user\"\n",
    "    \n",
    "c=College()\n",
    "print(c.getBalanace(1005))\n",
    "print(c.getBalanace(2009))\n",
    "print(c.getBalanace(9000))"
   ]
  },
  {
   "cell_type": "code",
   "execution_count": null,
   "metadata": {},
   "outputs": [],
   "source": []
  },
  {
   "cell_type": "code",
   "execution_count": null,
   "metadata": {},
   "outputs": [],
   "source": []
  }
 ],
 "metadata": {
  "kernelspec": {
   "display_name": "Python 3",
   "language": "python",
   "name": "python3"
  },
  "language_info": {
   "codemirror_mode": {
    "name": "ipython",
    "version": 3
   },
   "file_extension": ".py",
   "mimetype": "text/x-python",
   "name": "python",
   "nbconvert_exporter": "python",
   "pygments_lexer": "ipython3",
   "version": "3.8.5"
  }
 },
 "nbformat": 4,
 "nbformat_minor": 4
}
