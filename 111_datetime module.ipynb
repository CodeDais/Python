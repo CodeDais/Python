{
 "cells": [
  {
   "cell_type": "markdown",
   "metadata": {},
   "source": [
    "### Working With datetime module"
   ]
  },
  {
   "cell_type": "code",
   "execution_count": 3,
   "metadata": {},
   "outputs": [],
   "source": [
    "import datetime"
   ]
  },
  {
   "cell_type": "code",
   "execution_count": 7,
   "metadata": {},
   "outputs": [
    {
     "name": "stdout",
     "output_type": "stream",
     "text": [
      "2022-09-19\n",
      "2022\n",
      "9\n",
      "19\n"
     ]
    }
   ],
   "source": [
    "#working with date\n",
    "d=datetime.date(2022,9,19)\n",
    "print(d)\n",
    "print(d.year)\n",
    "print(d.month)\n",
    "print(d.day)"
   ]
  },
  {
   "cell_type": "code",
   "execution_count": 15,
   "metadata": {},
   "outputs": [
    {
     "name": "stdout",
     "output_type": "stream",
     "text": [
      "10:23:16.786876\n",
      "10\n",
      "23\n",
      "16\n",
      "786876\n"
     ]
    }
   ],
   "source": [
    "#working with time\n",
    "t=datetime.time(10,23,16,786876)\n",
    "print(t)\n",
    "print(t.hour)\n",
    "print(t.minute)\n",
    "print(t.second)\n",
    "print(t.microsecond)"
   ]
  },
  {
   "cell_type": "code",
   "execution_count": 23,
   "metadata": {},
   "outputs": [
    {
     "name": "stdout",
     "output_type": "stream",
     "text": [
      "2022-09-19 10:23:16.234567\n",
      "2022\n",
      "9\n",
      "19\n",
      "10\n",
      "23\n",
      "16\n",
      "234567\n"
     ]
    }
   ],
   "source": [
    "#working with datetime \n",
    "dt=datetime.datetime(2022,9,19,10,23,16,234567)\n",
    "print(dt)\n",
    "print(dt.year)\n",
    "print(dt.month)\n",
    "print(dt.day)\n",
    "print(dt.hour)\n",
    "print(dt.minute)\n",
    "print(dt.second)\n",
    "print(dt.microsecond)"
   ]
  },
  {
   "cell_type": "code",
   "execution_count": 33,
   "metadata": {},
   "outputs": [
    {
     "name": "stdout",
     "output_type": "stream",
     "text": [
      "2022-09-19 14:44:09.931018\n",
      "2022\n",
      "9\n",
      "19\n",
      "14\n",
      "44\n",
      "9\n",
      "931018\n"
     ]
    }
   ],
   "source": [
    "#to know current datetime \n",
    "current_dt=datetime.datetime.now()\n",
    "print(current_dt)\n",
    "print(current_dt.year)\n",
    "print(current_dt.month)\n",
    "print(current_dt.day)\n",
    "print(current_dt.hour)\n",
    "print(current_dt.minute)\n",
    "print(current_dt.second)\n",
    "print(current_dt.microsecond)"
   ]
  },
  {
   "cell_type": "raw",
   "metadata": {},
   "source": [
    "#wap to wish to the user based on time \n",
    "# 6 - 12 ---> good morning \n",
    "# 12 - 18 ---> good afternoon \n",
    "# 18 - 22 ---> good evening \n",
    "# 22 - 6 ----> Good night \n"
   ]
  },
  {
   "cell_type": "code",
   "execution_count": 46,
   "metadata": {},
   "outputs": [
    {
     "name": "stdout",
     "output_type": "stream",
     "text": [
      "Hi...Good afternoon\n"
     ]
    }
   ],
   "source": [
    "current_dt=datetime.datetime.now()\n",
    "\n",
    "hr=current_dt.hour # it will collect hr \n",
    "\n",
    "if hr>=6 and hr<12:\n",
    "    print(\"Hi... Good Morning\")\n",
    "elif hr>=12 and hr<18:\n",
    "    print(\"Hi...Good afternoon\")\n",
    "elif hr>=18 and hr<22:\n",
    "    print(\"Hello...Good Evening\")\n",
    "else:\n",
    "    print(\"By...Good Night\")\n"
   ]
  },
  {
   "cell_type": "code",
   "execution_count": 57,
   "metadata": {},
   "outputs": [
    {
     "name": "stdout",
     "output_type": "stream",
     "text": [
      "2022-09-19 14:55:45.617552\n",
      "Mon\n",
      "Monday\n",
      "38\n",
      "1\n",
      "09\n"
     ]
    }
   ],
   "source": [
    "#customization on datetime \n",
    "current_dt=datetime.datetime.now()\n",
    "print(current_dt)\n",
    "print(current_dt.strftime('%a'))\n",
    "print(current_dt.strftime('%A'))\n",
    "print(current_dt.strftime('%W'))\n",
    "print(current_dt.strftime('%w'))\n",
    "print(current_dt.strftime('%m'))"
   ]
  }
 ],
 "metadata": {
  "kernelspec": {
   "display_name": "Python 3",
   "language": "python",
   "name": "python3"
  },
  "language_info": {
   "codemirror_mode": {
    "name": "ipython",
    "version": 3
   },
   "file_extension": ".py",
   "mimetype": "text/x-python",
   "name": "python",
   "nbconvert_exporter": "python",
   "pygments_lexer": "ipython3",
   "version": "3.8.5"
  }
 },
 "nbformat": 4,
 "nbformat_minor": 4
}
