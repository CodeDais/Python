{
 "cells": [
  {
   "cell_type": "code",
   "execution_count": 1,
   "metadata": {},
   "outputs": [],
   "source": [
    "#Accessing Instance Variable "
   ]
  },
  {
   "cell_type": "code",
   "execution_count": 6,
   "metadata": {},
   "outputs": [
    {
     "name": "stdout",
     "output_type": "stream",
     "text": [
      "name is Priyanka\n",
      "age is 24\n",
      "roll is 1024\n"
     ]
    }
   ],
   "source": [
    "#acess within the class\n",
    "class Student:\n",
    "    def __init__(self,name,age,roll):\n",
    "        self.name=name\n",
    "        self.age=age\n",
    "        self.roll=roll\n",
    "    #access instance varaibe within the class inside inatance method \n",
    "    def printDetails(self):\n",
    "        print(f'name is {self.name}')\n",
    "        print(f'age is {self.age}')\n",
    "        print(f'roll is {self.roll}')\n",
    "    \n",
    "s1=Student('Priyanka',24,1024)\n",
    "s1.printDetails()"
   ]
  },
  {
   "cell_type": "code",
   "execution_count": 7,
   "metadata": {},
   "outputs": [
    {
     "name": "stdout",
     "output_type": "stream",
     "text": [
      "{'name': 'Priyanka', 'age': 24, 'roll': 1024}\n"
     ]
    }
   ],
   "source": [
    "print(s1.__dict__)"
   ]
  },
  {
   "cell_type": "code",
   "execution_count": 11,
   "metadata": {},
   "outputs": [
    {
     "name": "stdout",
     "output_type": "stream",
     "text": [
      "name is Zini\n",
      "age is 24\n",
      "roll is 1026\n"
     ]
    }
   ],
   "source": [
    "\n",
    "#acess within the class\n",
    "class Student:\n",
    "    def __init__(self,name,age,roll):\n",
    "        self.name=name\n",
    "        self.age=age\n",
    "        self.roll=roll\n",
    "        #access instance varaibe inside the class inside the constructor \n",
    "        print(f'name is {self.name}')\n",
    "        print(f'age is {self.age}')\n",
    "        print(f'roll is {self.roll}')\n",
    "    \n",
    "s1=Student('Zini',24,1026)\n"
   ]
  },
  {
   "cell_type": "code",
   "execution_count": 14,
   "metadata": {},
   "outputs": [
    {
     "name": "stdout",
     "output_type": "stream",
     "text": [
      "name is Rahul\n",
      "age is 25\n",
      "roll is 1025\n"
     ]
    }
   ],
   "source": [
    "#access instance variable outside of the class\n",
    "class Student:\n",
    "    def __init__(self,name,age,roll):\n",
    "        self.name=name\n",
    "        self.age=age\n",
    "        self.roll=roll\n",
    "        \n",
    "s1=Student('Rahul',25,1025)\n",
    "#accessing instance variable outside of the class uisng objcet referance \n",
    "print(f'name is {s1.name}')\n",
    "print(f'age is {s1.age}')\n",
    "print(f'roll is {s1.roll}')"
   ]
  },
  {
   "cell_type": "code",
   "execution_count": 16,
   "metadata": {},
   "outputs": [
    {
     "name": "stdout",
     "output_type": "stream",
     "text": [
      "name is Rahul\n",
      "age is 25\n",
      "roll is 1025\n",
      "name is Surendra\n",
      "age is 25\n",
      "roll is 1023\n"
     ]
    }
   ],
   "source": [
    "#access instance variable outside of the class\n",
    "class Student:\n",
    "    def __init__(self,name,age,roll):\n",
    "        self.name=name\n",
    "        self.age=age\n",
    "        self.roll=roll\n",
    "        \n",
    "s1=Student('Rahul',25,1025)\n",
    "#accessing instance variable outside of the class uisng objcet referance \n",
    "print(f'name is {s1.name}')\n",
    "print(f'age is {s1.age}')\n",
    "print(f'roll is {s1.roll}')\n",
    "\n",
    "s2=Student('Surendra',25,1023)\n",
    "print(f'name is {s2.name}')\n",
    "print(f'age is {s2.age}')\n",
    "print(f'roll is {s2.roll}')\n"
   ]
  },
  {
   "cell_type": "code",
   "execution_count": 17,
   "metadata": {},
   "outputs": [],
   "source": [
    "#Deleteion of instnace variable "
   ]
  },
  {
   "cell_type": "code",
   "execution_count": 24,
   "metadata": {},
   "outputs": [
    {
     "name": "stdout",
     "output_type": "stream",
     "text": [
      "{'name': 'surendra', 'age': 25, 'roll': 1023}\n",
      "{'age': 25, 'roll': 1023}\n"
     ]
    }
   ],
   "source": [
    "#delete from inside the class\n",
    "class Student:\n",
    "    def __init__(self,name,age,roll):\n",
    "        self.name=name\n",
    "        self.age=age\n",
    "        self.roll=roll\n",
    "        \n",
    "     #delete instance variable inside class inside instance method    \n",
    "    def deleteData(self):\n",
    "        del self.name\n",
    "        \n",
    "s1=Student('surendra',25,1023)\n",
    "print(s1.__dict__)\n",
    "s1.deleteData()\n",
    "print(s1.__dict__)"
   ]
  },
  {
   "cell_type": "code",
   "execution_count": 31,
   "metadata": {},
   "outputs": [],
   "source": [
    "#delete instnace variable inside the class inside constructor \n",
    "\n",
    "class Student:\n",
    "    def __init__(self,name,age,roll):\n",
    "        self.name=name\n",
    "        self.age=age\n",
    "        self.roll=roll\n",
    "        #delete instace variable inside class inside constructor \n",
    "        del self.name\n",
    "        \n",
    "        \n",
    "s1=Student('Priyanka',24,1024)\n"
   ]
  },
  {
   "cell_type": "code",
   "execution_count": 32,
   "metadata": {},
   "outputs": [
    {
     "name": "stdout",
     "output_type": "stream",
     "text": [
      "{'age': 24, 'roll': 1024}\n"
     ]
    }
   ],
   "source": [
    "print(s1.__dict__)"
   ]
  },
  {
   "cell_type": "code",
   "execution_count": 34,
   "metadata": {},
   "outputs": [
    {
     "name": "stdout",
     "output_type": "stream",
     "text": [
      "{'name': 'Priyanka', 'age': 24, 'roll': 1024}\n",
      "{'name': 'Priyanka', 'roll': 1024}\n"
     ]
    }
   ],
   "source": [
    "#delete instnace variable inside the class inside constructor \n",
    "\n",
    "class Student:\n",
    "    def __init__(self,name,age,roll):\n",
    "        self.name=name\n",
    "        self.age=age\n",
    "        self.roll=roll\n",
    "        print(self.__dict__) # it will detail of  instace variable\n",
    "        \n",
    "        #delete instace variable inside class inside constructor \n",
    "        del self.age\n",
    "        print(self.__dict__)\n",
    "        \n",
    "s1=Student('Priyanka',24,1024)\n"
   ]
  },
  {
   "cell_type": "code",
   "execution_count": 38,
   "metadata": {},
   "outputs": [
    {
     "name": "stdout",
     "output_type": "stream",
     "text": [
      "{'name': 'surendra', 'age': 25, 'roll': 1023}\n",
      "{'name': 'surendra', 'age': 25}\n"
     ]
    }
   ],
   "source": [
    "#deletion of instance variable outside of the class \n",
    "class Student:\n",
    "    def __init__(self,name,age,roll):\n",
    "        self.name=name\n",
    "        self.age=age\n",
    "        self.roll=roll\n",
    "        \n",
    "s1=Student('surendra',25,1023)\n",
    "print(s1.__dict__)\n",
    "#delete instance varaible outside of the class using objcet referance variable\n",
    "del s1.roll\n",
    "print(s1.__dict__)"
   ]
  },
  {
   "cell_type": "code",
   "execution_count": 39,
   "metadata": {},
   "outputs": [
    {
     "name": "stdout",
     "output_type": "stream",
     "text": [
      "{'name': 'surendra', 'age': 25, 'roll': 1023}\n",
      "{'name': 'surendra'}\n"
     ]
    }
   ],
   "source": [
    "#deletion of instance variable outside of the class \n",
    "class Student:\n",
    "    def __init__(self,name,age,roll):\n",
    "        self.name=name\n",
    "        self.age=age\n",
    "        self.roll=roll\n",
    "        \n",
    "s1=Student('surendra',25,1023)\n",
    "print(s1.__dict__)\n",
    "#delete instance varaible outside of the class using objcet referance variable\n",
    "del s1.roll,s1.age\n",
    "print(s1.__dict__)"
   ]
  }
 ],
 "metadata": {
  "kernelspec": {
   "display_name": "Python 3",
   "language": "python",
   "name": "python3"
  },
  "language_info": {
   "codemirror_mode": {
    "name": "ipython",
    "version": 3
   },
   "file_extension": ".py",
   "mimetype": "text/x-python",
   "name": "python",
   "nbconvert_exporter": "python",
   "pygments_lexer": "ipython3",
   "version": "3.8.5"
  }
 },
 "nbformat": 4,
 "nbformat_minor": 4
}
