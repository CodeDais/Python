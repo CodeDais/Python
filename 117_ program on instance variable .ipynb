{
 "cells": [
  {
   "cell_type": "code",
   "execution_count": 11,
   "metadata": {},
   "outputs": [
    {
     "name": "stdout",
     "output_type": "stream",
     "text": [
      "{'name': 'Priyanka', 'age': 24, 'roll': 1024}\n",
      "{'name': 'Rahul', 'age': 25, 'roll': 1025}\n",
      "{'name': 'Zini', 'age': 24, 'roll': 1026}\n"
     ]
    }
   ],
   "source": [
    "class Student:\n",
    "    def __init__(self,name,age,roll):\n",
    "        self.name=name\n",
    "        self.age=age\n",
    "        self.roll=roll\n",
    "        \n",
    "        \n",
    "s1=Student('Priyanka',24,1024)\n",
    "s2=Student('Rahul',25,1025)\n",
    "s3=Student('Zini',24,1026)\n",
    "\n",
    "print(s1.__dict__)\n",
    "print(s2.__dict__)\n",
    "print(s3.__dict__)"
   ]
  },
  {
   "cell_type": "code",
   "execution_count": 14,
   "metadata": {},
   "outputs": [
    {
     "name": "stdout",
     "output_type": "stream",
     "text": [
      "{'name': 'Priyanka', 'age': 24, 'roll': 1024, 'address': 'Cuttack'}\n",
      "{'name': 'Rahul', 'age': 25, 'roll': 1025}\n",
      "{'name': 'Zini', 'age': 24, 'roll': 1026, 'address': 'Paradeep', 'course': 'MSc'}\n"
     ]
    }
   ],
   "source": [
    "class Student:\n",
    "    def __init__(self,name,age,roll):\n",
    "        self.name=name\n",
    "        self.age=age\n",
    "        self.roll=roll\n",
    "        \n",
    "        \n",
    "s1=Student('Priyanka',24,1024)\n",
    "s1.address='Cuttack'\n",
    "s2=Student('Rahul',25,1025)\n",
    "s3=Student('Zini',24,1026)\n",
    "s3.address=\"Paradeep\"\n",
    "s3.course=\"MSc\"\n",
    "print(s1.__dict__)\n",
    "print(s2.__dict__)\n",
    "print(s3.__dict__)"
   ]
  }
 ],
 "metadata": {
  "kernelspec": {
   "display_name": "Python 3",
   "language": "python",
   "name": "python3"
  },
  "language_info": {
   "codemirror_mode": {
    "name": "ipython",
    "version": 3
   },
   "file_extension": ".py",
   "mimetype": "text/x-python",
   "name": "python",
   "nbconvert_exporter": "python",
   "pygments_lexer": "ipython3",
   "version": "3.8.5"
  }
 },
 "nbformat": 4,
 "nbformat_minor": 4
}
