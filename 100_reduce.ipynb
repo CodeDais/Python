{
 "cells": [
  {
   "cell_type": "markdown",
   "metadata": {},
   "source": [
    "# reduce"
   ]
  },
  {
   "cell_type": "code",
   "execution_count": 2,
   "metadata": {},
   "outputs": [
    {
     "name": "stdout",
     "output_type": "stream",
     "text": [
      "15\n"
     ]
    }
   ],
   "source": [
    "#find the sum of all element present inside list without using lambda \n",
    "from functools import reduce\n",
    "def addall(x,y):\n",
    "    return x+y\n",
    "\n",
    "l=[1,2,3,4,5]\n",
    "data=reduce(addall,l)\n",
    "print(data)\n"
   ]
  },
  {
   "cell_type": "code",
   "execution_count": 40,
   "metadata": {},
   "outputs": [
    {
     "name": "stdout",
     "output_type": "stream",
     "text": [
      "15\n",
      "<class 'int'>\n"
     ]
    }
   ],
   "source": [
    "#find the sum of all element present inside list with using lambda \n",
    "l1=[1,2,3,4,5]\n",
    "data=reduce(lambda x,y:x+y,l1)\n",
    "print(data)\n",
    "print(type(data))"
   ]
  },
  {
   "cell_type": "code",
   "execution_count": 22,
   "metadata": {},
   "outputs": [
    {
     "name": "stdout",
     "output_type": "stream",
     "text": [
      "1200\n"
     ]
    }
   ],
   "source": [
    "#find the product of all element present inside list with using lambda \n",
    "l1=[1,2,3,4,5]\n",
    "data=reduce(lambda x,y:x*y,l1,10)\n",
    "print(data)"
   ]
  },
  {
   "cell_type": "code",
   "execution_count": 10,
   "metadata": {},
   "outputs": [
    {
     "name": "stdout",
     "output_type": "stream",
     "text": [
      "5050\n"
     ]
    }
   ],
   "source": [
    "# find out the sum of all the elements from 1 to 100\n",
    "\n",
    "data=reduce(lambda x,y:x+y,range(1,101))\n",
    "print(data)"
   ]
  },
  {
   "cell_type": "code",
   "execution_count": 41,
   "metadata": {},
   "outputs": [
    {
     "name": "stdout",
     "output_type": "stream",
     "text": [
      "hellosurendrapriyankarahulzini\n",
      "<class 'str'>\n"
     ]
    }
   ],
   "source": [
    "#working with list which is containg string data \n",
    "names=['surendra','priyanka','rahul','zini']\n",
    "data=reduce(lambda x,y:x+y,names,'hello')\n",
    "print(data)\n",
    "print(type(data))"
   ]
  },
  {
   "cell_type": "code",
   "execution_count": 28,
   "metadata": {},
   "outputs": [
    {
     "name": "stdout",
     "output_type": "stream",
     "text": [
      "10\n"
     ]
    }
   ],
   "source": [
    "#working with dict \n",
    "d={\n",
    "    1:'surendra',\n",
    "    2:'priyanka',\n",
    "    3:'rahul',\n",
    "    4:'zini'\n",
    "}\n",
    "\n",
    "data=reduce(lambda x,y:x+y,d.keys())\n",
    "print(data)"
   ]
  },
  {
   "cell_type": "code",
   "execution_count": 30,
   "metadata": {},
   "outputs": [
    {
     "name": "stdout",
     "output_type": "stream",
     "text": [
      "surendrapriyankarahulzini\n"
     ]
    }
   ],
   "source": [
    "d={\n",
    "    1:'surendra',\n",
    "    2:'priyanka',\n",
    "    3:'rahul',\n",
    "    4:'zini'\n",
    "}\n",
    "\n",
    "data=reduce(lambda x,y:x+y,d.values())\n",
    "print(data)"
   ]
  },
  {
   "cell_type": "markdown",
   "metadata": {},
   "source": [
    "# reduce vs accumulate"
   ]
  },
  {
   "cell_type": "code",
   "execution_count": 38,
   "metadata": {},
   "outputs": [
    {
     "name": "stdout",
     "output_type": "stream",
     "text": [
      "[1, 3, 6, 10, 15]\n",
      "15\n"
     ]
    }
   ],
   "source": [
    "from itertools import accumulate\n",
    "l=[1,2,3,4,5]\n",
    "print(list(accumulate(l,lambda x,y:x+y)))\n",
    "print(reduce(lambda x,y:x+y,l1))"
   ]
  },
  {
   "cell_type": "code",
   "execution_count": 39,
   "metadata": {},
   "outputs": [
    {
     "name": "stdout",
     "output_type": "stream",
     "text": [
      "[1, 2, 6, 24, 120]\n",
      "120\n"
     ]
    }
   ],
   "source": [
    "from itertools import accumulate\n",
    "l=[1,2,3,4,5]\n",
    "print(list(accumulate(l,lambda x,y:x*y)))\n",
    "print(reduce(lambda x,y:x*y,l1))"
   ]
  }
 ],
 "metadata": {
  "kernelspec": {
   "display_name": "Python 3",
   "language": "python",
   "name": "python3"
  },
  "language_info": {
   "codemirror_mode": {
    "name": "ipython",
    "version": 3
   },
   "file_extension": ".py",
   "mimetype": "text/x-python",
   "name": "python",
   "nbconvert_exporter": "python",
   "pygments_lexer": "ipython3",
   "version": "3.8.5"
  }
 },
 "nbformat": 4,
 "nbformat_minor": 4
}
