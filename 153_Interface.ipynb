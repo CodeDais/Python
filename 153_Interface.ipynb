{
 "cells": [
  {
   "cell_type": "markdown",
   "metadata": {},
   "source": [
    "### Interface"
   ]
  },
  {
   "cell_type": "code",
   "execution_count": 3,
   "metadata": {},
   "outputs": [
    {
     "ename": "TypeError",
     "evalue": "Can't instantiate abstract class Vehicle with abstract methods break_type, no_of_seats",
     "output_type": "error",
     "traceback": [
      "\u001b[1;31m---------------------------------------------------------------------------\u001b[0m",
      "\u001b[1;31mTypeError\u001b[0m                                 Traceback (most recent call last)",
      "\u001b[1;32m<ipython-input-3-bce2a0522ea7>\u001b[0m in \u001b[0;36m<module>\u001b[1;34m\u001b[0m\n\u001b[0;32m     11\u001b[0m \u001b[1;33m\u001b[0m\u001b[0m\n\u001b[0;32m     12\u001b[0m \u001b[1;31m#we cant create the objcet for interface\u001b[0m\u001b[1;33m\u001b[0m\u001b[1;33m\u001b[0m\u001b[1;33m\u001b[0m\u001b[0m\n\u001b[1;32m---> 13\u001b[1;33m \u001b[0mv\u001b[0m\u001b[1;33m=\u001b[0m\u001b[0mVehicle\u001b[0m\u001b[1;33m(\u001b[0m\u001b[1;33m)\u001b[0m\u001b[1;33m\u001b[0m\u001b[1;33m\u001b[0m\u001b[0m\n\u001b[0m\u001b[0;32m     14\u001b[0m \u001b[1;33m\u001b[0m\u001b[0m\n\u001b[0;32m     15\u001b[0m \u001b[1;33m\u001b[0m\u001b[0m\n",
      "\u001b[1;31mTypeError\u001b[0m: Can't instantiate abstract class Vehicle with abstract methods break_type, no_of_seats"
     ]
    }
   ],
   "source": [
    "from abc import ABC,abstractmethod \n",
    "\n",
    "class Vehicle(ABC):\n",
    "    @abstractmethod\n",
    "    def no_of_seats(self):\n",
    "        pass\n",
    "    \n",
    "    @abstractmethod\n",
    "    def break_type(self):\n",
    "        pass\n",
    "    \n",
    "#we cant create the objcet for interface \n",
    "v=Vehicle() #Can't instantiate abstract class Vehicle with abstract methods break_type, no_of_seats\n",
    "\n",
    "\n"
   ]
  },
  {
   "cell_type": "code",
   "execution_count": 4,
   "metadata": {},
   "outputs": [
    {
     "name": "stdout",
     "output_type": "stream",
     "text": [
      "4+ sdetas\n",
      "special as well as powerful break\n",
      "2 Seats\n",
      "Normal break\n"
     ]
    }
   ],
   "source": [
    "#ex2 \n",
    "\n",
    "class Vehicle(ABC):\n",
    "    @abstractmethod\n",
    "    def no_of_seats(self):\n",
    "        pass\n",
    "    \n",
    "    @abstractmethod\n",
    "    def break_type(self):\n",
    "        pass\n",
    "\n",
    "class Car(Vehicle):\n",
    "    def no_of_seats(self):\n",
    "        print(\"4+ seats\")\n",
    "    def break_type(self):\n",
    "        print(\"special as well as powerful break\")\n",
    "        \n",
    "class Bike(Vehicle):\n",
    "    def no_of_seats(self):\n",
    "        print(\"2 Seats\")\n",
    "    def break_type(self):\n",
    "        print(\"Normal break\")\n",
    "        \n",
    "c=Car()\n",
    "c.no_of_seats()\n",
    "c.break_type()\n",
    "\n",
    "b=Bike()\n",
    "b.no_of_seats()\n",
    "b.break_type()\n",
    "    \n",
    "    \n",
    "    "
   ]
  },
  {
   "cell_type": "code",
   "execution_count": 5,
   "metadata": {},
   "outputs": [
    {
     "name": "stdout",
     "output_type": "stream",
     "text": [
      "4+ seats\n",
      "special as well as powerful break\n",
      "extra method m1\n",
      "2 Seats\n",
      "Normal break\n",
      "extra method m2\n"
     ]
    }
   ],
   "source": [
    "# ex 3 \n",
    "\n",
    "#ex2 \n",
    "\n",
    "class Vehicle(ABC):\n",
    "    @abstractmethod\n",
    "    def no_of_seats(self):\n",
    "        pass\n",
    "    \n",
    "    @abstractmethod\n",
    "    def break_type(self):\n",
    "        pass\n",
    "\n",
    "class Car(Vehicle):\n",
    "    def no_of_seats(self):\n",
    "        print(\"4+ seats\")\n",
    "    def break_type(self):\n",
    "        print(\"special as well as powerful break\")\n",
    "    \n",
    "    def m1(self):\n",
    "        print(\"extra method m1\")\n",
    "        \n",
    "class Bike(Vehicle):\n",
    "    def no_of_seats(self):\n",
    "        print(\"2 Seats\")\n",
    "    def break_type(self):\n",
    "        print(\"Normal break\")\n",
    "        \n",
    "    def m2(self):\n",
    "        print('extra method m2')\n",
    "        \n",
    "c=Car()\n",
    "c.no_of_seats()\n",
    "c.break_type()\n",
    "c.m1()\n",
    "\n",
    "b=Bike()\n",
    "b.no_of_seats()\n",
    "b.break_type()\n",
    "b.m2()\n",
    "    \n",
    "    "
   ]
  },
  {
   "cell_type": "code",
   "execution_count": null,
   "metadata": {},
   "outputs": [],
   "source": []
  },
  {
   "cell_type": "code",
   "execution_count": null,
   "metadata": {},
   "outputs": [],
   "source": []
  },
  {
   "cell_type": "code",
   "execution_count": null,
   "metadata": {},
   "outputs": [],
   "source": []
  }
 ],
 "metadata": {
  "kernelspec": {
   "display_name": "Python 3",
   "language": "python",
   "name": "python3"
  },
  "language_info": {
   "codemirror_mode": {
    "name": "ipython",
    "version": 3
   },
   "file_extension": ".py",
   "mimetype": "text/x-python",
   "name": "python",
   "nbconvert_exporter": "python",
   "pygments_lexer": "ipython3",
   "version": "3.8.5"
  }
 },
 "nbformat": 4,
 "nbformat_minor": 4
}
