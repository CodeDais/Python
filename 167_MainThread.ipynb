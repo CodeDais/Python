{
 "cells": [
  {
   "cell_type": "code",
   "execution_count": 57,
   "metadata": {},
   "outputs": [],
   "source": [
    "#working with mainthread"
   ]
  },
  {
   "cell_type": "code",
   "execution_count": 75,
   "metadata": {},
   "outputs": [
    {
     "name": "stdout",
     "output_type": "stream",
     "text": [
      "1\n",
      "2\n",
      "3\n",
      "<_MainThread(MainThread, started 3800)>\n",
      "surendra\n",
      "surendra\n",
      "surendra\n",
      "surendra\n",
      "surendra\n",
      "<_MainThread(MainThread, started 3800)>\n",
      "MainThread\n",
      "MainThread\n",
      "3800\n",
      "True\n"
     ]
    }
   ],
   "source": [
    "#getteing the information about current thread\n",
    "import threading\n",
    "print(1)\n",
    "print(2)\n",
    "print(3)\n",
    "print(threading.current_thread())\n",
    "\n",
    "for i in range(5):\n",
    "    print('surendra')\n",
    "print(threading.current_thread())\n",
    "print(threading.current_thread().getName()) # thread name \n",
    "print(threading.current_thread().name)  # thread name\n",
    "print(threading.current_thread().ident)  #tid \n",
    "print(threading.current_thread().is_alive()) # active or not"
   ]
  },
  {
   "cell_type": "code",
   "execution_count": null,
   "metadata": {},
   "outputs": [],
   "source": []
  }
 ],
 "metadata": {
  "kernelspec": {
   "display_name": "Python 3",
   "language": "python",
   "name": "python3"
  },
  "language_info": {
   "codemirror_mode": {
    "name": "ipython",
    "version": 3
   },
   "file_extension": ".py",
   "mimetype": "text/x-python",
   "name": "python",
   "nbconvert_exporter": "python",
   "pygments_lexer": "ipython3",
   "version": "3.8.5"
  }
 },
 "nbformat": 4,
 "nbformat_minor": 4
}
