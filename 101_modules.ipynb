{
 "cells": [
  {
   "cell_type": "code",
   "execution_count": 5,
   "metadata": {},
   "outputs": [
    {
     "name": "stdout",
     "output_type": "stream",
     "text": [
      "30\n",
      "80\n",
      "3.14\n"
     ]
    }
   ],
   "source": [
    "import hellocal  # here we are importing hellocal modules  that means we can access all the mebers of hellocal modules \n",
    "print(hellocal.add(10,20))\n",
    "print(hellocal.sub(100,20))\n",
    "print(hellocal.pi)"
   ]
  },
  {
   "cell_type": "code",
   "execution_count": 8,
   "metadata": {},
   "outputs": [
    {
     "name": "stdout",
     "output_type": "stream",
     "text": [
      "120\n",
      "720\n"
     ]
    }
   ],
   "source": [
    "import math\n",
    "print(math.factorial(5))\n",
    "print(math.factorial(6))\n"
   ]
  },
  {
   "cell_type": "code",
   "execution_count": 12,
   "metadata": {},
   "outputs": [
    {
     "name": "stdout",
     "output_type": "stream",
     "text": [
      "1100\n",
      "3.14\n",
      "980\n"
     ]
    }
   ],
   "source": [
    "#module alish\n",
    "import hellocal as h\n",
    "print(h.add(100,1000))\n",
    "print(h.pi)\n",
    "print(hellocal.sub(1000,20))"
   ]
  },
  {
   "cell_type": "code",
   "execution_count": null,
   "metadata": {},
   "outputs": [],
   "source": [
    "#Different ways of imporing modules"
   ]
  },
  {
   "cell_type": "code",
   "execution_count": 19,
   "metadata": {},
   "outputs": [
    {
     "name": "stdout",
     "output_type": "stream",
     "text": [
      "129\n",
      "80\n",
      "200\n"
     ]
    }
   ],
   "source": [
    "from hellocal import add ,sub,mul\n",
    "print(add(100,29))\n",
    "print(sub(100,20))\n",
    "print(mul(10,20))\n"
   ]
  },
  {
   "cell_type": "code",
   "execution_count": 24,
   "metadata": {},
   "outputs": [
    {
     "name": "stdout",
     "output_type": "stream",
     "text": [
      "40\n",
      "-10\n",
      "3.14\n"
     ]
    }
   ],
   "source": [
    "from hellocal import *\n",
    "print(add(10,30))\n",
    "print(sub(10,20))\n",
    "print(pi)"
   ]
  },
  {
   "cell_type": "code",
   "execution_count": 29,
   "metadata": {},
   "outputs": [
    {
     "name": "stdout",
     "output_type": "stream",
     "text": [
      "11\n",
      "3.14\n",
      "3.14\n"
     ]
    }
   ],
   "source": [
    "#module member alishing \n",
    "from hellocal import add as a ,sub as s , pi as p \n",
    "print(a(10,1))\n",
    "print(pi)\n",
    "print(p)"
   ]
  }
 ],
 "metadata": {
  "kernelspec": {
   "display_name": "Python 3.10.1 64-bit",
   "language": "python",
   "name": "python3"
  },
  "language_info": {
   "codemirror_mode": {
    "name": "ipython",
    "version": 3
   },
   "file_extension": ".py",
   "mimetype": "text/x-python",
   "name": "python",
   "nbconvert_exporter": "python",
   "pygments_lexer": "ipython3",
   "version": "3.10.1"
  },
  "orig_nbformat": 4,
  "vscode": {
   "interpreter": {
    "hash": "a9cff5a362bc38ef45d817ae74b1af54d6a076e3d773891282bce078b815ba34"
   }
  }
 },
 "nbformat": 4,
 "nbformat_minor": 2
}
