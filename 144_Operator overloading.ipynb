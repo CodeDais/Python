{
 "cells": [
  {
   "cell_type": "code",
   "execution_count": null,
   "metadata": {},
   "outputs": [],
   "source": [
    "#Operator overloading "
   ]
  },
  {
   "cell_type": "code",
   "execution_count": 27,
   "metadata": {},
   "outputs": [
    {
     "ename": "TypeError",
     "evalue": "unsupported operand type(s) for +: 'Employee' and 'Student'",
     "output_type": "error",
     "traceback": [
      "\u001b[1;31m---------------------------------------------------------------------------\u001b[0m",
      "\u001b[1;31mTypeError\u001b[0m                                 Traceback (most recent call last)",
      "\u001b[1;32m<ipython-input-27-bf89b879a915>\u001b[0m in \u001b[0;36m<module>\u001b[1;34m\u001b[0m\n\u001b[0;32m     14\u001b[0m \u001b[1;33m\u001b[0m\u001b[0m\n\u001b[0;32m     15\u001b[0m \u001b[1;31m# add emp sal + pkt_money\u001b[0m\u001b[1;33m\u001b[0m\u001b[1;33m\u001b[0m\u001b[1;33m\u001b[0m\u001b[0m\n\u001b[1;32m---> 16\u001b[1;33m \u001b[0mprint\u001b[0m\u001b[1;33m(\u001b[0m\u001b[0me\u001b[0m\u001b[1;33m+\u001b[0m\u001b[0ms\u001b[0m\u001b[1;33m)\u001b[0m\u001b[1;33m\u001b[0m\u001b[1;33m\u001b[0m\u001b[0m\n\u001b[0m",
      "\u001b[1;31mTypeError\u001b[0m: unsupported operand type(s) for +: 'Employee' and 'Student'"
     ]
    }
   ],
   "source": [
    "# operator overloading without magic method ( which not possible)\n",
    "class Employee:\n",
    "    def __init__(self,sal):\n",
    "        self.sal=sal\n",
    "        \n",
    "        \n",
    "class Student:\n",
    "    def __init__(self,pkt_money):\n",
    "        self.pkt_money=pkt_money\n",
    "\n",
    "        \n",
    "        \n",
    "e=Employee(10000)\n",
    "s=Student(5000)\n",
    "\n",
    "# add emp sal + pkt_money\n",
    "print(e+s) # error"
   ]
  },
  {
   "cell_type": "code",
   "execution_count": 28,
   "metadata": {},
   "outputs": [
    {
     "name": "stdout",
     "output_type": "stream",
     "text": [
      "15000\n"
     ]
    }
   ],
   "source": [
    "# operator overloading with magic method \n",
    "class Employee:\n",
    "    def __init__(self,sal):\n",
    "        self.sal=sal\n",
    "        \n",
    "    def __add__(self,other):\n",
    "        return self.sal+other.pkt_money\n",
    "        \n",
    "class Student:\n",
    "    def __init__(self,pkt_money):\n",
    "        self.pkt_money=pkt_money\n",
    "\n",
    "        \n",
    "        \n",
    "e=Employee(10000)\n",
    "s=Student(5000)\n",
    "\n",
    "# add emp sal + pkt_money\n",
    "print(e+s) "
   ]
  },
  {
   "cell_type": "code",
   "execution_count": 29,
   "metadata": {},
   "outputs": [
    {
     "name": "stdout",
     "output_type": "stream",
     "text": [
      "10000\n",
      "5000\n",
      "15000\n"
     ]
    }
   ],
   "source": [
    "# operator overloading with magic method \n",
    "class Employee:\n",
    "    def __init__(self,sal):\n",
    "        self.sal=sal\n",
    "        \n",
    "    def __add__(self,other):\n",
    "        print(self.sal)\n",
    "        print(other.pkt_money)\n",
    "        return self.sal+other.pkt_money\n",
    "        \n",
    "class Student:\n",
    "    def __init__(self,pkt_money):\n",
    "        self.pkt_money=pkt_money\n",
    "\n",
    "        \n",
    "        \n",
    "e=Employee(10000)\n",
    "s=Student(5000)\n",
    "\n",
    "# add emp sal + pkt_money\n",
    "print(e+s) "
   ]
  },
  {
   "cell_type": "code",
   "execution_count": 31,
   "metadata": {},
   "outputs": [
    {
     "name": "stdout",
     "output_type": "stream",
     "text": [
      "True\n"
     ]
    }
   ],
   "source": [
    "# __gt__()\n",
    "\n",
    "class Employee:\n",
    "    def __init__(self,sal):\n",
    "        self.sal=sal\n",
    "        \n",
    "    def __gt__(self,other):\n",
    "        return self.sal>other.pkt_money\n",
    "        \n",
    "class Student:\n",
    "    def __init__(self,pkt_money):\n",
    "        self.pkt_money=pkt_money\n",
    "\n",
    "        \n",
    "        \n",
    "e=Employee(10000)\n",
    "s=Student(5000)\n",
    "\n",
    "\n",
    "print(e>s) "
   ]
  },
  {
   "cell_type": "code",
   "execution_count": 32,
   "metadata": {},
   "outputs": [
    {
     "name": "stdout",
     "output_type": "stream",
     "text": [
      "False\n"
     ]
    }
   ],
   "source": [
    "# __ls__()\n",
    "\n",
    "class Employee:\n",
    "    def __init__(self,sal):\n",
    "        self.sal=sal\n",
    "        \n",
    "    def __lt__(self,other):\n",
    "        return self.sal<other.pkt_money\n",
    "        \n",
    "class Student:\n",
    "    def __init__(self,pkt_money):\n",
    "        self.pkt_money=pkt_money\n",
    "\n",
    "        \n",
    "        \n",
    "e=Employee(10000)\n",
    "s=Student(5000)\n",
    "\n",
    "\n",
    "print(e<s) "
   ]
  },
  {
   "cell_type": "code",
   "execution_count": 34,
   "metadata": {},
   "outputs": [
    {
     "name": "stdout",
     "output_type": "stream",
     "text": [
      "True\n"
     ]
    }
   ],
   "source": [
    "# __gt__()\n",
    "\n",
    "class Employee:\n",
    "    def __init__(self,sal):\n",
    "        self.sal=sal\n",
    "        \n",
    "    def __ge__(self,other):\n",
    "        return self.sal>=other.pkt_money\n",
    "        \n",
    "class Student:\n",
    "    def __init__(self,pkt_money):\n",
    "        self.pkt_money=pkt_money\n",
    "\n",
    "        \n",
    "        \n",
    "e=Employee(10000)\n",
    "s=Student(10000)\n",
    "\n",
    "\n",
    "print(e>=s) "
   ]
  },
  {
   "cell_type": "code",
   "execution_count": 36,
   "metadata": {},
   "outputs": [
    {
     "name": "stdout",
     "output_type": "stream",
     "text": [
      "True\n"
     ]
    }
   ],
   "source": [
    "# __gt__()\n",
    "\n",
    "class Employee:\n",
    "    def __init__(self,sal):\n",
    "        self.sal=sal\n",
    "        \n",
    "    def __ge__(self,other):\n",
    "        return self.sal>=other.pkt_money\n",
    "        \n",
    "class Student:\n",
    "    def __init__(self,pkt_money):\n",
    "        self.pkt_money=pkt_money\n",
    "\n",
    "        \n",
    "        \n",
    "e=Employee(10000)\n",
    "s=Student(5000)\n",
    "\n",
    "\n",
    "print(e>=s) "
   ]
  },
  {
   "cell_type": "code",
   "execution_count": 37,
   "metadata": {},
   "outputs": [
    {
     "name": "stdout",
     "output_type": "stream",
     "text": [
      "30\n"
     ]
    }
   ],
   "source": []
  }
 ],
 "metadata": {
  "kernelspec": {
   "display_name": "Python 3",
   "language": "python",
   "name": "python3"
  },
  "language_info": {
   "codemirror_mode": {
    "name": "ipython",
    "version": 3
   },
   "file_extension": ".py",
   "mimetype": "text/x-python",
   "name": "python",
   "nbconvert_exporter": "python",
   "pygments_lexer": "ipython3",
   "version": "3.8.5"
  }
 },
 "nbformat": 4,
 "nbformat_minor": 4
}
