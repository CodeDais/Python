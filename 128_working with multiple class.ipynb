{
 "cells": [
  {
   "cell_type": "code",
   "execution_count": 15,
   "metadata": {},
   "outputs": [
    {
     "name": "stdout",
     "output_type": "stream",
     "text": [
      "Student Information\n",
      "Name is Priyanka\n",
      "Age is 24\n",
      "Roll is 1024\n",
      "--------------------\n",
      "Student Information\n",
      "Name is Rahul\n",
      "Age is 25\n",
      "Roll is 1025\n",
      "--------------------\n",
      "Faculty Information\n",
      "Name is Dr. Chand\n",
      "Age is 60\n",
      "Fid is 1060\n"
     ]
    }
   ],
   "source": [
    "#working with multiple class \n",
    "\n",
    "class Student:\n",
    "    def __init__(self,name,age,roll):\n",
    "        self.name=name\n",
    "        self.age=age\n",
    "        self.roll=roll\n",
    "        \n",
    "    def printDetails(self):\n",
    "        print('Student Information')\n",
    "        print(f'Name is {self.name}')\n",
    "        print(f'Age is {self.age}')\n",
    "        print(f'Roll is {self.roll}')\n",
    "        print('-'*20)\n",
    "\n",
    "        \n",
    "class Faculty:\n",
    "    def __init__(self,name,age,fid):\n",
    "        self.name=name\n",
    "        self.age=age\n",
    "        self.fid=fid\n",
    "        \n",
    "    def printDetails(self):\n",
    "        print('Faculty Information')\n",
    "        print(f'Name is {self.name}')\n",
    "        print(f'Age is {self.age}')\n",
    "        print(f'Fid is {self.fid}')\n",
    "        \n",
    "        \n",
    "s1=Student('Priyanka',24,1024)\n",
    "s1.printDetails()\n",
    "\n",
    "s2=Student('Rahul',25,1025)\n",
    "s2.printDetails()\n",
    "\n",
    "\n",
    "\n",
    "f1=Faculty('Dr. Chand',60,1060)\n",
    "f1.printDetails()\n",
    "\n"
   ]
  },
  {
   "cell_type": "code",
   "execution_count": null,
   "metadata": {},
   "outputs": [],
   "source": [
    ":"
   ]
  }
 ],
 "metadata": {
  "kernelspec": {
   "display_name": "Python 3",
   "language": "python",
   "name": "python3"
  },
  "language_info": {
   "codemirror_mode": {
    "name": "ipython",
    "version": 3
   },
   "file_extension": ".py",
   "mimetype": "text/x-python",
   "name": "python",
   "nbconvert_exporter": "python",
   "pygments_lexer": "ipython3",
   "version": "3.8.5"
  }
 },
 "nbformat": 4,
 "nbformat_minor": 4
}
