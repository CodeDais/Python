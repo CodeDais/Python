{
 "cells": [
  {
   "cell_type": "markdown",
   "metadata": {},
   "source": [
    "### Multiple Inheritance "
   ]
  },
  {
   "cell_type": "code",
   "execution_count": null,
   "metadata": {},
   "outputs": [],
   "source": [
    "#ex 1"
   ]
  },
  {
   "cell_type": "code",
   "execution_count": 6,
   "metadata": {},
   "outputs": [
    {
     "name": "stdout",
     "output_type": "stream",
     "text": [
      "A class method1\n",
      "B class method2\n",
      "C class method3\n",
      "this is test method from class A\n"
     ]
    }
   ],
   "source": [
    "class A:\n",
    "    def method1(self):\n",
    "        print('A class method1')\n",
    "    def test(self):\n",
    "        print('this is test method from class A')\n",
    "        \n",
    "class B:\n",
    "    def method2(self):\n",
    "        print('B class method2')\n",
    "        \n",
    "class C(A,B):\n",
    "    def method3(self):\n",
    "        print('C class method3')\n",
    "        \n",
    "c=C()\n",
    "c.method1()\n",
    "c.method2()\n",
    "c.method3()\n",
    "c.test()"
   ]
  },
  {
   "cell_type": "code",
   "execution_count": null,
   "metadata": {},
   "outputs": [],
   "source": [
    "# ex 2 "
   ]
  },
  {
   "cell_type": "code",
   "execution_count": 8,
   "metadata": {},
   "outputs": [
    {
     "name": "stdout",
     "output_type": "stream",
     "text": [
      "A class method1\n"
     ]
    }
   ],
   "source": [
    "class A:\n",
    "    def method1(self):\n",
    "        print('A class method1')\n",
    "    \n",
    "class B:\n",
    "    def method1(self):\n",
    "        print('B class method1')\n",
    "        \n",
    "class C(A,B):  # here A is the first parent and B is the second parent\n",
    "    def method2(self):\n",
    "        print('C class method2')\n",
    "        \n",
    "c=C()\n",
    "c.method1()"
   ]
  },
  {
   "cell_type": "code",
   "execution_count": null,
   "metadata": {},
   "outputs": [],
   "source": [
    "#ex 3 "
   ]
  },
  {
   "cell_type": "code",
   "execution_count": 9,
   "metadata": {},
   "outputs": [
    {
     "name": "stdout",
     "output_type": "stream",
     "text": [
      "B class method1\n"
     ]
    }
   ],
   "source": [
    "class A:\n",
    "    def method1(self):\n",
    "        print('A class method1')\n",
    "    \n",
    "class B:\n",
    "    def method1(self):\n",
    "        print('B class method1')\n",
    "        \n",
    "class C(B,A):  # here B is the first parent and A is the second parent\n",
    "    def method2(self):\n",
    "        print('C class method2')\n",
    "        \n",
    "c=C()\n",
    "c.method1()"
   ]
  },
  {
   "cell_type": "code",
   "execution_count": 10,
   "metadata": {},
   "outputs": [],
   "source": [
    "#ex 4 "
   ]
  },
  {
   "cell_type": "code",
   "execution_count": 11,
   "metadata": {},
   "outputs": [
    {
     "name": "stdout",
     "output_type": "stream",
     "text": [
      "C class method1\n"
     ]
    }
   ],
   "source": [
    "class A:\n",
    "    def method1(self):\n",
    "        print('A class method1')\n",
    "    \n",
    "class B:\n",
    "    def method1(self):\n",
    "        print('B class method1')\n",
    "        \n",
    "class C(B,A):  \n",
    "    def method1(self):\n",
    "        print('C class method1')\n",
    "        \n",
    "c=C()\n",
    "c.method1()"
   ]
  }
 ],
 "metadata": {
  "kernelspec": {
   "display_name": "Python 3",
   "language": "python",
   "name": "python3"
  },
  "language_info": {
   "codemirror_mode": {
    "name": "ipython",
    "version": 3
   },
   "file_extension": ".py",
   "mimetype": "text/x-python",
   "name": "python",
   "nbconvert_exporter": "python",
   "pygments_lexer": "ipython3",
   "version": "3.8.5"
  }
 },
 "nbformat": 4,
 "nbformat_minor": 4
}
