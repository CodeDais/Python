{
 "cells": [
  {
   "cell_type": "markdown",
   "metadata": {},
   "source": [
    "### Generate Fake Students Data "
   ]
  },
  {
   "cell_type": "code",
   "execution_count": 270,
   "metadata": {},
   "outputs": [
    {
     "name": "stdout",
     "output_type": "stream",
     "text": [
      "Ianywvcqnud Obnofikcsxt\n",
      "Ewpdddqgeefbre Kpvwolxjciogrd\n",
      "Vrbzqmkvcytjmv Joqmiujepmfoaq\n",
      "Uggluzgqcm Tiswikirsn\n",
      "Xlinleito Wmgoetfma\n",
      "Vnfpukbdgq Uhzonwvvgo\n",
      "Vhtylvhen Wbtblnjgf\n",
      "Ftfbghysaxbc Uyxwlqunbdvo\n",
      "Zlzsdjk Nygxusz\n",
      "Jbfskkmguyp Ancyntrnbcg\n",
      "Tyvuhxjclrcb Amrddgnvburz\n",
      "Vfkgfr Ykuqwv\n",
      "Iwioumihq Grupxnlcm\n",
      "Tjhqhdx Usfhkpp\n",
      "Qtsnysa Esprywx\n",
      "Fopsdqriatdxt Hkdqzrkmshahu\n",
      "Jzescxuqnzhjj Zpbrfkmfhtblm\n",
      "Anbexuwmljdd Wywoybyxyvzd\n",
      "Qwjzklv Ahiclni\n",
      "Hpmg Lxwb\n"
     ]
    }
   ],
   "source": [
    "#generate student name \n",
    "from random import *\n",
    "alpha=\"abcdefghijklmnopqrstuvwxyz\"\n",
    "\n",
    "for i in range(20):\n",
    "    fname=choice(alpha).upper()\n",
    "    lname=choice(alpha).upper()\n",
    "    for i in range(randint(3,13)):\n",
    "        fname=fname+choice(alpha)\n",
    "        lname=lname+choice(alpha)\n",
    "    print(fname,lname)\n"
   ]
  },
  {
   "cell_type": "code",
   "execution_count": 227,
   "metadata": {},
   "outputs": [
    {
     "name": "stdout",
     "output_type": "stream",
     "text": [
      "6606473539\n",
      "9310166418\n",
      "8510941391\n",
      "8628201318\n",
      "7288009757\n",
      "9225184867\n",
      "8925666661\n",
      "9365707564\n",
      "6126676998\n",
      "9796097793\n",
      "6475790334\n",
      "9767643044\n",
      "6720884813\n",
      "7603567085\n",
      "8585528043\n",
      "7551994885\n",
      "6163808594\n",
      "9709351236\n",
      "8801667562\n",
      "9767264478\n"
     ]
    }
   ],
   "source": [
    "#studnet mobile no \n",
    "digits=\"0123456789\"\n",
    "\n",
    "for i in range(20):\n",
    "    smob=choice('9876')\n",
    "    for i in range(9):\n",
    "        smob=smob+choice(digits)\n",
    "    print(smob)\n",
    "    "
   ]
  },
  {
   "cell_type": "code",
   "execution_count": 236,
   "metadata": {},
   "outputs": [
    {
     "name": "stdout",
     "output_type": "stream",
     "text": [
      "17\n",
      "17\n",
      "19\n",
      "17\n",
      "24\n",
      "20\n",
      "19\n",
      "16\n",
      "21\n",
      "20\n",
      "16\n",
      "18\n",
      "16\n",
      "25\n",
      "20\n",
      "24\n",
      "24\n",
      "21\n",
      "18\n",
      "23\n"
     ]
    }
   ],
   "source": [
    "#sage\n",
    "for i in range(20):\n",
    "    sage=randint(16,25)\n",
    "    print(sage)"
   ]
  },
  {
   "cell_type": "code",
   "execution_count": 263,
   "metadata": {},
   "outputs": [
    {
     "name": "stdout",
     "output_type": "stream",
     "text": [
      "bbsr\n",
      "puri\n",
      "bbsr\n",
      "bbsr\n",
      "hyd\n",
      "bbsr\n",
      "delhi\n",
      "puri\n",
      "puri\n",
      "puri\n",
      "puri\n",
      "puri\n",
      "hyd\n",
      "bbsr\n",
      "hyd\n",
      "hyd\n",
      "hyd\n",
      "puri\n",
      "hyd\n",
      "cuttack\n"
     ]
    }
   ],
   "source": [
    "cities=['bbsr','cuttack','hyd','delhi','puri']\n",
    "for i in range(20):\n",
    "    saddr=choice(cities)\n",
    "    print(saddr)"
   ]
  },
  {
   "cell_type": "code",
   "execution_count": 265,
   "metadata": {},
   "outputs": [
    {
     "name": "stdout",
     "output_type": "stream",
     "text": [
      "MSC\n",
      "MA\n",
      "MCA\n",
      "MA\n",
      "MA\n",
      "MBA\n",
      "MSC\n",
      "Btech\n",
      "MSC\n",
      "PHD\n",
      "MSC\n",
      "MBA\n",
      "MSC\n",
      "Btech\n",
      "PHD\n",
      "MTECH\n",
      "MTECH\n",
      "MA\n",
      "MCA\n",
      "MA\n"
     ]
    }
   ],
   "source": [
    "course=['Btech','MCA','MBA','MTECH','PHD','MSC','MA']\n",
    "for i in range(20):\n",
    "    scourse=choice(course)\n",
    "    print(scourse)"
   ]
  },
  {
   "cell_type": "code",
   "execution_count": 262,
   "metadata": {},
   "outputs": [
    {
     "name": "stdout",
     "output_type": "stream",
     "text": [
      "xyz-141146\n",
      "xyz-640705\n",
      "xyz-108600\n",
      "xyz-012656\n",
      "xyz-496438\n",
      "xyz-198807\n",
      "xyz-576852\n",
      "xyz-185592\n",
      "xyz-027501\n",
      "xyz-410859\n",
      "xyz-338218\n",
      "xyz-883445\n",
      "xyz-402087\n",
      "xyz-402240\n",
      "xyz-753126\n",
      "xyz-859958\n",
      "xyz-394282\n",
      "xyz-292497\n",
      "xyz-814278\n",
      "xyz-723738\n"
     ]
    }
   ],
   "source": [
    "#sid \n",
    "digits=\"0123456789\"\n",
    "\n",
    "\n",
    "for i in range(20):\n",
    "    sid='xyz-'\n",
    "    for i in range(6):\n",
    "        sid=sid+choice(digits)\n",
    "\n",
    "    print(sid)"
   ]
  },
  {
   "cell_type": "code",
   "execution_count": null,
   "metadata": {},
   "outputs": [],
   "source": []
  },
  {
   "cell_type": "code",
   "execution_count": null,
   "metadata": {},
   "outputs": [],
   "source": []
  },
  {
   "cell_type": "code",
   "execution_count": null,
   "metadata": {},
   "outputs": [],
   "source": []
  },
  {
   "cell_type": "code",
   "execution_count": null,
   "metadata": {},
   "outputs": [],
   "source": []
  }
 ],
 "metadata": {
  "kernelspec": {
   "display_name": "Python 3",
   "language": "python",
   "name": "python3"
  },
  "language_info": {
   "codemirror_mode": {
    "name": "ipython",
    "version": 3
   },
   "file_extension": ".py",
   "mimetype": "text/x-python",
   "name": "python",
   "nbconvert_exporter": "python",
   "pygments_lexer": "ipython3",
   "version": "3.8.5"
  }
 },
 "nbformat": 4,
 "nbformat_minor": 4
}
