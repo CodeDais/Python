{
 "cells": [
  {
   "cell_type": "code",
   "execution_count": 115,
   "metadata": {},
   "outputs": [
    {
     "name": "stdout",
     "output_type": "stream",
     "text": [
      "c2^A2>S6\n"
     ]
    }
   ],
   "source": [
    "#Create 8 char password that must contain alphabet digits and special symbols \n",
    "import random as rn \n",
    "alpha=\"ABCDEFGHIJKLMNOPQRSTUVWXYZabcdefghijklmnopqrstuvwxyz\"\n",
    "digits=\"0123456789\"\n",
    "special_symbols=\"~!@#$%^&*()_+{}><\"\n",
    "\n",
    "print(rn.choice(alpha),rn.choice(digits),rn.choice(special_symbols),rn.choice(alpha),rn.choice(digits),rn.choice(special_symbols),rn.choice(alpha),rn.choice(digits),sep=\"\")\n"
   ]
  },
  {
   "cell_type": "code",
   "execution_count": 132,
   "metadata": {},
   "outputs": [
    {
     "name": "stdout",
     "output_type": "stream",
     "text": [
      "b7rK6{R4\n"
     ]
    }
   ],
   "source": [
    "alpha=\"ABCDEFGHIJKLMNOPQRSTUVWXYZabcdefghijklmnopqrstuvwxyz\"\n",
    "digits=\"0123456789\"\n",
    "special_symbols=\"~!@#$%^&*()_+{}><\"\n",
    "\n",
    "print(rn.choice(alpha+digits),rn.choice(digits+special_symbols),rn.choice(special_symbols+alpha),rn.choice(alpha),rn.choice(digits),rn.choice(special_symbols),rn.choice(alpha),rn.choice(digits),sep=\"\")\n"
   ]
  },
  {
   "cell_type": "code",
   "execution_count": 133,
   "metadata": {},
   "outputs": [
    {
     "name": "stdout",
     "output_type": "stream",
     "text": [
      "H5Bz0~F0\n",
      "G*jK6@m6\n",
      "b@%u4$H3\n",
      "k3)c3)H0\n",
      "9_iF6)p1\n",
      "E0iq1}Z8\n",
      "u#$g8~O0\n",
      "r*ig2+j3\n",
      "j%kg7^s0\n",
      "j}$I9!i4\n"
     ]
    }
   ],
   "source": [
    "alpha=\"ABCDEFGHIJKLMNOPQRSTUVWXYZabcdefghijklmnopqrstuvwxyz\"\n",
    "digits=\"0123456789\"\n",
    "special_symbols=\"~!@#$%^&*()_+{}><\"\n",
    "\n",
    "for i in range(10):\n",
    "    print(rn.choice(alpha+digits),rn.choice(digits+special_symbols),rn.choice(special_symbols+alpha),rn.choice(alpha),rn.choice(digits),rn.choice(special_symbols),rn.choice(alpha),rn.choice(digits),sep=\"\")\n"
   ]
  }
 ],
 "metadata": {
  "kernelspec": {
   "display_name": "Python 3",
   "language": "python",
   "name": "python3"
  },
  "language_info": {
   "codemirror_mode": {
    "name": "ipython",
    "version": 3
   },
   "file_extension": ".py",
   "mimetype": "text/x-python",
   "name": "python",
   "nbconvert_exporter": "python",
   "pygments_lexer": "ipython3",
   "version": "3.8.5"
  }
 },
 "nbformat": 4,
 "nbformat_minor": 4
}
