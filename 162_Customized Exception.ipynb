{
 "cells": [
  {
   "cell_type": "code",
   "execution_count": null,
   "metadata": {},
   "outputs": [],
   "source": [
    "#Customized Exception"
   ]
  },
  {
   "cell_type": "code",
   "execution_count": 3,
   "metadata": {},
   "outputs": [
    {
     "ename": "InSufficientBalance",
     "evalue": "",
     "output_type": "error",
     "traceback": [
      "\u001b[1;31m---------------------------------------------------------------------------\u001b[0m",
      "\u001b[1;31mInSufficientBalance\u001b[0m                       Traceback (most recent call last)",
      "\u001b[1;32m<ipython-input-3-75f03ad15fed>\u001b[0m in \u001b[0;36m<module>\u001b[1;34m\u001b[0m\n\u001b[0;32m     12\u001b[0m         \u001b[0mprint\u001b[0m\u001b[1;33m(\u001b[0m\u001b[1;34mf'{amount} withdwaw successfully'\u001b[0m\u001b[1;33m)\u001b[0m\u001b[1;33m\u001b[0m\u001b[1;33m\u001b[0m\u001b[0m\n\u001b[0;32m     13\u001b[0m \u001b[1;33m\u001b[0m\u001b[0m\n\u001b[1;32m---> 14\u001b[1;33m \u001b[0mwithdraw\u001b[0m\u001b[1;33m(\u001b[0m\u001b[1;36m55555\u001b[0m\u001b[1;33m)\u001b[0m\u001b[1;33m\u001b[0m\u001b[1;33m\u001b[0m\u001b[0m\n\u001b[0m\u001b[0;32m     15\u001b[0m \u001b[0mprint\u001b[0m\u001b[1;33m(\u001b[0m\u001b[1;34m'---------'\u001b[0m\u001b[1;33m)\u001b[0m\u001b[1;33m\u001b[0m\u001b[1;33m\u001b[0m\u001b[0m\n",
      "\u001b[1;32m<ipython-input-3-75f03ad15fed>\u001b[0m in \u001b[0;36mwithdraw\u001b[1;34m(amount)\u001b[0m\n\u001b[0;32m      8\u001b[0m \u001b[1;33m\u001b[0m\u001b[0m\n\u001b[0;32m      9\u001b[0m     \u001b[1;32mif\u001b[0m\u001b[1;33m(\u001b[0m\u001b[0mamount\u001b[0m\u001b[1;33m>\u001b[0m\u001b[0mmain_bal\u001b[0m\u001b[1;33m)\u001b[0m\u001b[1;33m:\u001b[0m\u001b[1;33m\u001b[0m\u001b[1;33m\u001b[0m\u001b[0m\n\u001b[1;32m---> 10\u001b[1;33m         \u001b[1;32mraise\u001b[0m \u001b[0mInSufficientBalance\u001b[0m\u001b[1;33m\u001b[0m\u001b[1;33m\u001b[0m\u001b[0m\n\u001b[0m\u001b[0;32m     11\u001b[0m     \u001b[1;32melse\u001b[0m\u001b[1;33m:\u001b[0m\u001b[1;33m\u001b[0m\u001b[1;33m\u001b[0m\u001b[0m\n\u001b[0;32m     12\u001b[0m         \u001b[0mprint\u001b[0m\u001b[1;33m(\u001b[0m\u001b[1;34mf'{amount} withdwaw successfully'\u001b[0m\u001b[1;33m)\u001b[0m\u001b[1;33m\u001b[0m\u001b[1;33m\u001b[0m\u001b[0m\n",
      "\u001b[1;31mInSufficientBalance\u001b[0m: "
     ]
    }
   ],
   "source": [
    "# ourown exception\n",
    "class InSufficientBalance(Exception):\n",
    "    pass\n",
    "\n",
    "\n",
    "def withdraw(amount):\n",
    "    main_bal=20000\n",
    "    \n",
    "    if(amount>main_bal):\n",
    "        raise InSufficientBalance\n",
    "    else:\n",
    "        print(f'{amount} withdwaw successfully')\n",
    "        \n",
    "withdraw(55555)\n",
    "print('---------')"
   ]
  },
  {
   "cell_type": "code",
   "execution_count": null,
   "metadata": {},
   "outputs": [],
   "source": [
    "# handel customized exception "
   ]
  },
  {
   "cell_type": "code",
   "execution_count": 36,
   "metadata": {},
   "outputs": [
    {
     "name": "stdout",
     "output_type": "stream",
     "text": [
      "Your withdraw amount should be less the main_bal\n"
     ]
    }
   ],
   "source": [
    "# ourown exception\n",
    "class InSufficientBalance(Exception):\n",
    "    pass\n",
    "\n",
    "\n",
    "def withdraw(amount):\n",
    "    main_bal=20000\n",
    "    \n",
    "    if(amount>main_bal):\n",
    "        raise InSufficientBalance\n",
    "    else:\n",
    "        print(f'{amount} withdwaw successfully')\n",
    "        \n",
    "try:\n",
    "    withdraw(25000)\n",
    "except InSufficientBalance:\n",
    "    print('Your withdraw amount should be less the main_bal')\n"
   ]
  },
  {
   "cell_type": "code",
   "execution_count": 38,
   "metadata": {},
   "outputs": [
    {
     "name": "stdout",
     "output_type": "stream",
     "text": [
      "Your withdraw amount should be less the main_bal\n"
     ]
    }
   ],
   "source": [
    "# ourown exception\n",
    "class InSufficientBalance(Exception):\n",
    "    pass\n",
    "\n",
    "\n",
    "def withdraw(amount):\n",
    "    main_bal=20000\n",
    "    \n",
    "    if(amount>main_bal):\n",
    "        raise InSufficientBalance\n",
    "    else:\n",
    "        print(f'{amount} withdwaw successfully')\n",
    "        \n",
    "try:\n",
    "    withdraw(25000)\n",
    "except InSufficientBalance:\n",
    "    print('Your withdraw amount should be less the main_bal')\n"
   ]
  },
  {
   "cell_type": "code",
   "execution_count": 40,
   "metadata": {},
   "outputs": [
    {
     "name": "stdout",
     "output_type": "stream",
     "text": [
      "Your withdraw amount should be less the main_bal\n"
     ]
    }
   ],
   "source": [
    "# ourown exception\n",
    "class InSufficientBalance(Exception):\n",
    "    pass\n",
    "\n",
    "def withdraw(amount):\n",
    "    main_bal=20000\n",
    "    \n",
    "    if(amount>main_bal):\n",
    "        raise InSufficientBalance('Your withdraw amount should be less the main_bal')\n",
    "    else:\n",
    "        print(f'{amount} withdwaw successfully')\n",
    "        \n",
    "try:\n",
    "    withdraw(25000)\n",
    "except InSufficientBalance as i:\n",
    "    print(i)\n"
   ]
  },
  {
   "cell_type": "code",
   "execution_count": null,
   "metadata": {},
   "outputs": [],
   "source": [
    "#  ex 2"
   ]
  },
  {
   "cell_type": "code",
   "execution_count": 4,
   "metadata": {},
   "outputs": [],
   "source": [
    "for i in range(10,5):\n",
    "    print(i)"
   ]
  },
  {
   "cell_type": "code",
   "execution_count": 5,
   "metadata": {},
   "outputs": [
    {
     "name": "stdout",
     "output_type": "stream",
     "text": [
      "5\n",
      "6\n",
      "7\n",
      "8\n",
      "9\n"
     ]
    }
   ],
   "source": [
    "for i in range(5,10):\n",
    "    print(i)"
   ]
  },
  {
   "cell_type": "code",
   "execution_count": 6,
   "metadata": {},
   "outputs": [
    {
     "name": "stdout",
     "output_type": "stream",
     "text": [
      "10\n",
      "11\n",
      "12\n",
      "13\n",
      "14\n",
      "15\n",
      "16\n",
      "17\n",
      "18\n",
      "19\n"
     ]
    }
   ],
   "source": [
    "class firstValueSmallException(Exception):\n",
    "    pass\n",
    "\n",
    "def printVal(i,j):\n",
    "    if(i>j):\n",
    "        raise firstValueSmallException\n",
    "    else:\n",
    "        for x in range(i,j):\n",
    "            print(x)\n",
    "            \n",
    "printVal(10,20)\n"
   ]
  },
  {
   "cell_type": "code",
   "execution_count": 7,
   "metadata": {},
   "outputs": [
    {
     "ename": "firstValueSmallException",
     "evalue": "",
     "output_type": "error",
     "traceback": [
      "\u001b[1;31m---------------------------------------------------------------------------\u001b[0m",
      "\u001b[1;31mfirstValueSmallException\u001b[0m                  Traceback (most recent call last)",
      "\u001b[1;32m<ipython-input-7-dd03ca52a07f>\u001b[0m in \u001b[0;36m<module>\u001b[1;34m\u001b[0m\n\u001b[0;32m      9\u001b[0m             \u001b[0mprint\u001b[0m\u001b[1;33m(\u001b[0m\u001b[0mx\u001b[0m\u001b[1;33m)\u001b[0m\u001b[1;33m\u001b[0m\u001b[1;33m\u001b[0m\u001b[0m\n\u001b[0;32m     10\u001b[0m \u001b[1;33m\u001b[0m\u001b[0m\n\u001b[1;32m---> 11\u001b[1;33m \u001b[0mprintVal\u001b[0m\u001b[1;33m(\u001b[0m\u001b[1;36m20\u001b[0m\u001b[1;33m,\u001b[0m\u001b[1;36m5\u001b[0m\u001b[1;33m)\u001b[0m\u001b[1;33m\u001b[0m\u001b[1;33m\u001b[0m\u001b[0m\n\u001b[0m",
      "\u001b[1;32m<ipython-input-7-dd03ca52a07f>\u001b[0m in \u001b[0;36mprintVal\u001b[1;34m(i, j)\u001b[0m\n\u001b[0;32m      4\u001b[0m \u001b[1;32mdef\u001b[0m \u001b[0mprintVal\u001b[0m\u001b[1;33m(\u001b[0m\u001b[0mi\u001b[0m\u001b[1;33m,\u001b[0m\u001b[0mj\u001b[0m\u001b[1;33m)\u001b[0m\u001b[1;33m:\u001b[0m\u001b[1;33m\u001b[0m\u001b[1;33m\u001b[0m\u001b[0m\n\u001b[0;32m      5\u001b[0m     \u001b[1;32mif\u001b[0m\u001b[1;33m(\u001b[0m\u001b[0mi\u001b[0m\u001b[1;33m>\u001b[0m\u001b[0mj\u001b[0m\u001b[1;33m)\u001b[0m\u001b[1;33m:\u001b[0m\u001b[1;33m\u001b[0m\u001b[1;33m\u001b[0m\u001b[0m\n\u001b[1;32m----> 6\u001b[1;33m         \u001b[1;32mraise\u001b[0m \u001b[0mfirstValueSmallException\u001b[0m\u001b[1;33m\u001b[0m\u001b[1;33m\u001b[0m\u001b[0m\n\u001b[0m\u001b[0;32m      7\u001b[0m     \u001b[1;32melse\u001b[0m\u001b[1;33m:\u001b[0m\u001b[1;33m\u001b[0m\u001b[1;33m\u001b[0m\u001b[0m\n\u001b[0;32m      8\u001b[0m         \u001b[1;32mfor\u001b[0m \u001b[0mx\u001b[0m \u001b[1;32min\u001b[0m \u001b[0mrange\u001b[0m\u001b[1;33m(\u001b[0m\u001b[0mi\u001b[0m\u001b[1;33m,\u001b[0m\u001b[0mj\u001b[0m\u001b[1;33m)\u001b[0m\u001b[1;33m:\u001b[0m\u001b[1;33m\u001b[0m\u001b[1;33m\u001b[0m\u001b[0m\n",
      "\u001b[1;31mfirstValueSmallException\u001b[0m: "
     ]
    }
   ],
   "source": [
    "class firstValueSmallException(Exception):\n",
    "    pass\n",
    "\n",
    "def printVal(i,j):\n",
    "    if(i>j):\n",
    "        raise firstValueSmallException\n",
    "    else:\n",
    "        for x in range(i,j):\n",
    "            print(x)\n",
    "            \n",
    "printVal(20,5)\n"
   ]
  },
  {
   "cell_type": "code",
   "execution_count": 8,
   "metadata": {},
   "outputs": [
    {
     "name": "stdout",
     "output_type": "stream",
     "text": [
      "first value shoud be smaller than second value\n"
     ]
    }
   ],
   "source": [
    "class firstValueSmallException(Exception):\n",
    "    pass\n",
    "\n",
    "def printVal(i,j):\n",
    "    if(i>j):\n",
    "        raise firstValueSmallException('first value shoud be smaller than second value')\n",
    "    else:\n",
    "        for x in range(i,j):\n",
    "            print(x)\n",
    "            \n",
    "try:\n",
    "    printVal(20,5)\n",
    "except firstValueSmallException as f:\n",
    "    print(f)\n"
   ]
  },
  {
   "cell_type": "code",
   "execution_count": 9,
   "metadata": {},
   "outputs": [
    {
     "ename": "firstValueSmallException",
     "evalue": "first value shoud be smaller than second value",
     "output_type": "error",
     "traceback": [
      "\u001b[1;31m---------------------------------------------------------------------------\u001b[0m",
      "\u001b[1;31mfirstValueSmallException\u001b[0m                  Traceback (most recent call last)",
      "\u001b[1;32m<ipython-input-9-21050bc983f3>\u001b[0m in \u001b[0;36m<module>\u001b[1;34m\u001b[0m\n\u001b[0;32m     12\u001b[0m \u001b[1;33m\u001b[0m\u001b[0m\n\u001b[0;32m     13\u001b[0m \u001b[1;32mtry\u001b[0m\u001b[1;33m:\u001b[0m\u001b[1;33m\u001b[0m\u001b[1;33m\u001b[0m\u001b[0m\n\u001b[1;32m---> 14\u001b[1;33m     \u001b[0mprintVal\u001b[0m\u001b[1;33m(\u001b[0m\u001b[1;36m50\u001b[0m\u001b[1;33m,\u001b[0m\u001b[1;36m25\u001b[0m\u001b[1;33m)\u001b[0m\u001b[1;33m\u001b[0m\u001b[1;33m\u001b[0m\u001b[0m\n\u001b[0m\u001b[0;32m     15\u001b[0m \u001b[1;32mexcept\u001b[0m \u001b[0mZeroDivisionError\u001b[0m \u001b[1;32mas\u001b[0m \u001b[0mz\u001b[0m\u001b[1;33m:\u001b[0m\u001b[1;33m\u001b[0m\u001b[1;33m\u001b[0m\u001b[0m\n\u001b[0;32m     16\u001b[0m     \u001b[0mprint\u001b[0m\u001b[1;33m(\u001b[0m\u001b[0mz\u001b[0m\u001b[1;33m)\u001b[0m\u001b[1;33m\u001b[0m\u001b[1;33m\u001b[0m\u001b[0m\n",
      "\u001b[1;32m<ipython-input-9-21050bc983f3>\u001b[0m in \u001b[0;36mprintVal\u001b[1;34m(i, j)\u001b[0m\n\u001b[0;32m      6\u001b[0m \u001b[1;32mdef\u001b[0m \u001b[0mprintVal\u001b[0m\u001b[1;33m(\u001b[0m\u001b[0mi\u001b[0m\u001b[1;33m,\u001b[0m\u001b[0mj\u001b[0m\u001b[1;33m)\u001b[0m\u001b[1;33m:\u001b[0m\u001b[1;33m\u001b[0m\u001b[1;33m\u001b[0m\u001b[0m\n\u001b[0;32m      7\u001b[0m     \u001b[1;32mif\u001b[0m\u001b[1;33m(\u001b[0m\u001b[0mi\u001b[0m\u001b[1;33m>\u001b[0m\u001b[0mj\u001b[0m\u001b[1;33m)\u001b[0m\u001b[1;33m:\u001b[0m\u001b[1;33m\u001b[0m\u001b[1;33m\u001b[0m\u001b[0m\n\u001b[1;32m----> 8\u001b[1;33m         \u001b[1;32mraise\u001b[0m \u001b[0mfirstValueSmallException\u001b[0m\u001b[1;33m(\u001b[0m\u001b[1;34m'first value shoud be smaller than second value'\u001b[0m\u001b[1;33m)\u001b[0m\u001b[1;33m\u001b[0m\u001b[1;33m\u001b[0m\u001b[0m\n\u001b[0m\u001b[0;32m      9\u001b[0m     \u001b[1;32melse\u001b[0m\u001b[1;33m:\u001b[0m\u001b[1;33m\u001b[0m\u001b[1;33m\u001b[0m\u001b[0m\n\u001b[0;32m     10\u001b[0m         \u001b[1;32mfor\u001b[0m \u001b[0mx\u001b[0m \u001b[1;32min\u001b[0m \u001b[0mrange\u001b[0m\u001b[1;33m(\u001b[0m\u001b[0mi\u001b[0m\u001b[1;33m,\u001b[0m\u001b[0mj\u001b[0m\u001b[1;33m)\u001b[0m\u001b[1;33m:\u001b[0m\u001b[1;33m\u001b[0m\u001b[1;33m\u001b[0m\u001b[0m\n",
      "\u001b[1;31mfirstValueSmallException\u001b[0m: first value shoud be smaller than second value"
     ]
    }
   ],
   "source": [
    "#\n",
    "\n",
    "class firstValueSmallException(Exception):\n",
    "    pass\n",
    "\n",
    "def printVal(i,j):\n",
    "    if(i>j):\n",
    "        raise firstValueSmallException('first value shoud be smaller than second value')\n",
    "    else:\n",
    "        for x in range(i,j):\n",
    "            print(x)\n",
    "            \n",
    "try:\n",
    "    printVal(50,25)\n",
    "except ZeroDivisionError as z:\n",
    "    print(z)\n"
   ]
  },
  {
   "cell_type": "code",
   "execution_count": 10,
   "metadata": {},
   "outputs": [
    {
     "name": "stdout",
     "output_type": "stream",
     "text": [
      "first value shoud be smaller than second value\n"
     ]
    }
   ],
   "source": [
    "#\n",
    "\n",
    "class firstValueSmallException(Exception):\n",
    "    pass\n",
    "\n",
    "def printVal(i,j):\n",
    "    if(i>j):\n",
    "        raise firstValueSmallException('first value shoud be smaller than second value')\n",
    "    else:\n",
    "        for x in range(i,j):\n",
    "            print(x)\n",
    "            \n",
    "try:\n",
    "    printVal(50,25)\n",
    "except Exception as e:\n",
    "    print(e)\n"
   ]
  },
  {
   "cell_type": "code",
   "execution_count": 11,
   "metadata": {},
   "outputs": [
    {
     "name": "stdout",
     "output_type": "stream",
     "text": [
      "first value shoud be smaller than second value\n"
     ]
    }
   ],
   "source": [
    "#\n",
    "\n",
    "class firstValueSmallException(Exception):\n",
    "    pass\n",
    "\n",
    "def printVal(i,j):\n",
    "    if(i>j):\n",
    "        raise firstValueSmallException('first value shoud be smaller than second value')\n",
    "    else:\n",
    "        for x in range(i,j):\n",
    "            print(x)\n",
    "            \n",
    "try:\n",
    "    printVal(50,25)\n",
    "except ZeroDivisionError as z:\n",
    "    print(z)\n",
    "except firstValueSmallException as f:\n",
    "    print(f)\n"
   ]
  }
 ],
 "metadata": {
  "kernelspec": {
   "display_name": "Python 3",
   "language": "python",
   "name": "python3"
  },
  "language_info": {
   "codemirror_mode": {
    "name": "ipython",
    "version": 3
   },
   "file_extension": ".py",
   "mimetype": "text/x-python",
   "name": "python",
   "nbconvert_exporter": "python",
   "pygments_lexer": "ipython3",
   "version": "3.8.5"
  }
 },
 "nbformat": 4,
 "nbformat_minor": 4
}
